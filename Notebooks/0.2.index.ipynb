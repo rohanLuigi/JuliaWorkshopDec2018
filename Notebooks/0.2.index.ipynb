{
 "cells": [
  {
   "cell_type": "markdown",
   "metadata": {},
   "source": [
    "### Notes:\n",
    "\n",
    "* Day 1: Docker, Jupyter and Julia \n",
    "\n",
    "    * [Introduction to Docker](../Slides/dockerIntro.pdf)\n",
    "    * [Introduction to Jupyter](1.1.notebookJuypterCMDs.ipynb)\n",
    "    * [Input/output Commands](1.2.notebook_IO_dataFrames.ipynb)\n",
    "    * [Strings, Arrays, Dictionaries, Plotting](1.3.notebook_StringsArraysDictPlotting.ipynb)\n",
    "\n",
    "* Day 2: XSim\n",
    "\n",
    "    * [Data Simulation](2.1.dataSimulation.ipynb)\n",
    "    * [BuildGenome function](2.2.XSimBuildGenome.ipynb)\n",
    "    * [Mating functions](2.3.XSimMating.ipynb)\n",
    "    \n",
    "* Day 3: JWAS\n",
    "\n",
    "   * [Theory from JWAS website](../day3/theory.ipynb)\n",
    "   * [Introduction to JWAS](../day3/JWASIntro.ipynb)\n",
    "   * Two examples using JWAS\n",
    "       * [Training and Validation](../day3/wheatValidation.ipynb)\n",
    "       * [Inference on difference between most favorable and least favorable genotypic values](../day3/hypothesisTestBayesABCScaleCorrect.ipynb)\n",
    "   \n",
    "* Day 4: Matrix Calculations in Julia\n",
    "   * [Algorithm to invert positive definite matrix](../day4/AInverse.ipynb)\n",
    "   * [Condition number of MME for marker-effects and breeding-value models](../day4/conditionNumber.ipynb)\n",
    "   \n",
    "* Day 5: Programming in Julia: two examples\n",
    "   * [PedModule from JWAS](../day5/JWASPed.ipynb)\n",
    "   * [Gauss-Seidel Iteration](../day5/GS.ipynb)\n",
    "\n"
   ]
  }
 ],
 "metadata": {
  "kernelspec": {
   "display_name": "Julia 1.0.0",
   "language": "julia",
   "name": "julia-1.0"
  },
  "language_info": {
   "file_extension": ".jl",
   "mimetype": "application/julia",
   "name": "julia",
   "version": "1.0.0"
  }
 },
 "nbformat": 4,
 "nbformat_minor": 2
}
