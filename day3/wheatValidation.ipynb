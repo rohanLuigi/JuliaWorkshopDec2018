{
 "cells": [
  {
   "cell_type": "code",
   "execution_count": 1,
   "metadata": {},
   "outputs": [],
   "source": [
    "using JWAS,CSV,DataFrames,LinearAlgebra,Statistics,Random,DelimitedFiles\n",
    "using Distributions\n",
    "using Printf"
   ]
  },
  {
   "cell_type": "code",
   "execution_count": 2,
   "metadata": {},
   "outputs": [
    {
     "name": "stderr",
     "output_type": "stream",
     "text": [
      "┌ Warning: readtable is deprecated, use CSV.read from the CSV package instead\n",
      "│   caller = ip:0x0\n",
      "└ @ Core :-1\n"
     ]
    }
   ],
   "source": [
    "phenofile  = \"phenotypes.txt\"\n",
    "genofile   = \"genotypes.txt\"\n",
    "df = readtable(genofile,header=false)\n",
    "headerMarkers = [df[1,i] for i=2:size(df,2)]\n",
    "id = string.(df[2:end,1]);"
   ]
  },
  {
   "cell_type": "code",
   "execution_count": 3,
   "metadata": {
    "scrolled": false
   },
   "outputs": [
    {
     "name": "stderr",
     "output_type": "stream",
     "text": [
      "┌ Warning: readtable is deprecated, use CSV.read from the CSV package instead\n",
      "│   caller = top-level scope at In[3]:1\n",
      "└ @ Core In[3]:1\n",
      "┌ Warning: indexing with colon as row will create a copy in the future use df[col_inds] to get the columns without copying\n",
      "│   caller = top-level scope at In[3]:1\n",
      "└ @ Core In[3]:1\n",
      "┌ Warning: readtable is deprecated, use CSV.read from the CSV package instead\n",
      "│   caller = top-level scope at In[3]:2\n",
      "└ @ Core In[3]:2\n"
     ]
    }
   ],
   "source": [
    "M=convert(Array{Float64,2},readtable(genofile)[:,2:end])\n",
    "phenotypes = readtable(phenofile);"
   ]
  },
  {
   "cell_type": "code",
   "execution_count": 4,
   "metadata": {},
   "outputs": [
    {
     "data": {
      "text/html": [
       "<table class=\"data-frame\"><thead><tr><th></th><th>id</th><th>y1</th><th>y2</th><th>y3</th><th>y4</th></tr><tr><th></th><th>Int64⍰</th><th>Float64⍰</th><th>Float64⍰</th><th>Float64⍰</th><th>Float64⍰</th></tr></thead><tbody><tr><th>1</th><td>1</td><td>1.67163</td><td>-1.72747</td><td>-1.89028</td><td>0.0509159</td></tr><tr><th>2</th><td>2</td><td>-0.252703</td><td>0.409522</td><td>0.309386</td><td>-1.73876</td></tr><tr><th>3</th><td>3</td><td>0.341815</td><td>-0.648626</td><td>-0.799559</td><td>-1.05357</td></tr><tr><th>4</th><td>4</td><td>0.785439</td><td>0.0939492</td><td>0.570468</td><td>0.551757</td></tr><tr><th>5</th><td>5</td><td>0.998318</td><td>-0.282481</td><td>1.61868</td><td>-0.114285</td></tr><tr><th>6</th><td>6</td><td>2.3361</td><td>0.626476</td><td>0.0735331</td><td>0.719586</td></tr></tbody></table>"
      ],
      "text/latex": [
       "\\begin{tabular}{r|ccccc}\n",
       "\t& id & y1 & y2 & y3 & y4\\\\\n",
       "\t\\hline\n",
       "\t1 & 1 & 1.67163 & -1.72747 & -1.89028 & 0.0509159 \\\\\n",
       "\t2 & 2 & -0.252703 & 0.409522 & 0.309386 & -1.73876 \\\\\n",
       "\t3 & 3 & 0.341815 & -0.648626 & -0.799559 & -1.05357 \\\\\n",
       "\t4 & 4 & 0.785439 & 0.0939492 & 0.570468 & 0.551757 \\\\\n",
       "\t5 & 5 & 0.998318 & -0.282481 & 1.61868 & -0.114285 \\\\\n",
       "\t6 & 6 & 2.3361 & 0.626476 & 0.0735331 & 0.719586 \\\\\n",
       "\\end{tabular}\n"
      ],
      "text/plain": [
       "6×5 DataFrame\n",
       "│ Row │ id     │ y1        │ y2        │ y3        │ y4        │\n",
       "│     │ \u001b[90mInt64⍰\u001b[39m │ \u001b[90mFloat64⍰\u001b[39m  │ \u001b[90mFloat64⍰\u001b[39m  │ \u001b[90mFloat64⍰\u001b[39m  │ \u001b[90mFloat64⍰\u001b[39m  │\n",
       "├─────┼────────┼───────────┼───────────┼───────────┼───────────┤\n",
       "│ 1   │ 1      │ 1.67163   │ -1.72747  │ -1.89028  │ 0.0509159 │\n",
       "│ 2   │ 2      │ -0.252703 │ 0.409522  │ 0.309386  │ -1.73876  │\n",
       "│ 3   │ 3      │ 0.341815  │ -0.648626 │ -0.799559 │ -1.05357  │\n",
       "│ 4   │ 4      │ 0.785439  │ 0.0939492 │ 0.570468  │ 0.551757  │\n",
       "│ 5   │ 5      │ 0.998318  │ -0.282481 │ 1.61868   │ -0.114285 │\n",
       "│ 6   │ 6      │ 2.3361    │ 0.626476  │ 0.0735331 │ 0.719586  │"
      ]
     },
     "execution_count": 4,
     "metadata": {},
     "output_type": "execute_result"
    }
   ],
   "source": [
    "head(phenotypes)"
   ]
  },
  {
   "cell_type": "code",
   "execution_count": 5,
   "metadata": {},
   "outputs": [],
   "source": [
    "mStd = std(M,dims=1)\n",
    "M = M ./ mStd;"
   ]
  },
  {
   "cell_type": "code",
   "execution_count": 6,
   "metadata": {
    "scrolled": true
   },
   "outputs": [
    {
     "data": {
      "text/plain": [
       "1×1279 Array{Float64,2}:\n",
       " 1.0  1.0  1.0  1.0  1.0  1.0  1.0  1.0  …  1.0  1.0  1.0  1.0  1.0  1.0  1.0"
      ]
     },
     "execution_count": 6,
     "metadata": {},
     "output_type": "execute_result"
    }
   ],
   "source": [
    "var(M,dims=1)"
   ]
  },
  {
   "cell_type": "code",
   "execution_count": 7,
   "metadata": {},
   "outputs": [
    {
     "data": {
      "text/plain": [
       "getTrnValSets (generic function with 1 method)"
      ]
     },
     "execution_count": 7,
     "metadata": {},
     "output_type": "execute_result"
    }
   ],
   "source": [
    "function getTrnValSets(N,trnSize)\n",
    "    # N is the size of the data set\n",
    "    trnSet = sort(sample(1:N,trnSize,replace=false))\n",
    "    mask = trues(N)\n",
    "    mask[trnSet] .= false\n",
    "    valSet = (1:N)[mask]\n",
    "    return trnSet,valSet\n",
    "end"
   ]
  },
  {
   "cell_type": "markdown",
   "metadata": {},
   "source": [
    "The \"sample\" function can be used to get a random sample from and array of objects. Some examples:"
   ]
  },
  {
   "cell_type": "code",
   "execution_count": 8,
   "metadata": {},
   "outputs": [
    {
     "data": {
      "text/plain": [
       "5-element Array{Any,1}:\n",
       " 2   \n",
       " 3   \n",
       " 1   \n",
       " 1   \n",
       "  \"a\""
      ]
     },
     "execution_count": 8,
     "metadata": {},
     "output_type": "execute_result"
    }
   ],
   "source": [
    "sample([45,\"a\",1,1,2,2,3],5,replace=false)"
   ]
  },
  {
   "cell_type": "code",
   "execution_count": 9,
   "metadata": {},
   "outputs": [
    {
     "data": {
      "text/plain": [
       "5-element Array{Int64,1}:\n",
       " 2\n",
       " 4\n",
       " 7\n",
       " 5\n",
       " 3"
      ]
     },
     "execution_count": 9,
     "metadata": {},
     "output_type": "execute_result"
    }
   ],
   "source": [
    "sample(1:8,5,replace=false)"
   ]
  },
  {
   "cell_type": "code",
   "execution_count": 10,
   "metadata": {},
   "outputs": [
    {
     "data": {
      "text/plain": [
       "([2, 4, 6, 7, 10], [1, 3, 5, 8, 9])"
      ]
     },
     "execution_count": 10,
     "metadata": {},
     "output_type": "execute_result"
    }
   ],
   "source": [
    "getTrnValSets(10,5)"
   ]
  },
  {
   "cell_type": "code",
   "execution_count": 12,
   "metadata": {},
   "outputs": [
    {
     "data": {
      "text/plain": [
       "5-element Array{Int64,1}:\n",
       " 1\n",
       " 2\n",
       " 4\n",
       " 7\n",
       " 9"
      ]
     },
     "execution_count": 12,
     "metadata": {},
     "output_type": "execute_result"
    }
   ],
   "source": [
    "trn, val = getTrnValSets(10,5)\n",
    "trn"
   ]
  },
  {
   "cell_type": "code",
   "execution_count": 13,
   "metadata": {},
   "outputs": [
    {
     "data": {
      "text/plain": [
       "5-element Array{Int64,1}:\n",
       "  3\n",
       "  5\n",
       "  6\n",
       "  8\n",
       " 10"
      ]
     },
     "execution_count": 13,
     "metadata": {},
     "output_type": "execute_result"
    }
   ],
   "source": [
    "val"
   ]
  },
  {
   "cell_type": "code",
   "execution_count": 14,
   "metadata": {},
   "outputs": [
    {
     "data": {
      "text/plain": [
       "5-element Array{Int64,1}:\n",
       "  4\n",
       "  6\n",
       "  8\n",
       "  9\n",
       " 10"
      ]
     },
     "execution_count": 14,
     "metadata": {},
     "output_type": "execute_result"
    }
   ],
   "source": [
    "res = getTrnValSets(10,5)\n",
    "res[1]"
   ]
  },
  {
   "cell_type": "code",
   "execution_count": 17,
   "metadata": {},
   "outputs": [
    {
     "data": {
      "text/plain": [
       "5-element Array{Int64,1}:\n",
       " 1\n",
       " 2\n",
       " 3\n",
       " 5\n",
       " 7"
      ]
     },
     "execution_count": 17,
     "metadata": {},
     "output_type": "execute_result"
    }
   ],
   "source": [
    "res[2] "
   ]
  },
  {
   "cell_type": "code",
   "execution_count": 19,
   "metadata": {
    "scrolled": false
   },
   "outputs": [
    {
     "data": {
      "text/plain": [
       "IOStream(<file wheatCorrelations>)"
      ]
     },
     "execution_count": 19,
     "metadata": {},
     "output_type": "execute_result"
    }
   ],
   "source": [
    "model_equation = \"y1 = intercept\n",
    "                  y2 = intercept\"\n",
    "\n",
    "R     = [0.5301922 -0.2248727\n",
    "        -0.2248727  0.5724733]\n",
    "\n",
    "G = [ 3.462704e-05 -2.076392e-05\n",
    "     -2.076392e-05  3.059811e-05] .* 12\n",
    "\n",
    "\n",
    "trnSize = 300\n",
    "N = size(phenotypes,1)\n",
    "resFile = open(\"wheatCorrelations\",\"w\")"
   ]
  },
  {
   "cell_type": "code",
   "execution_count": 20,
   "metadata": {
    "scrolled": false
   },
   "outputs": [
    {
     "name": "stdout",
     "output_type": "stream",
     "text": [
      "\n",
      " Iteration: 1\n",
      "\n",
      "1279 markers on 300 individuals were added.\n",
      "\u001b[31mPhenotyped individuals are not a subset of either\u001b[39m\n",
      "\u001b[31mgenotyped individuals (complete genomic data,non-single-step) or\u001b[39m\n",
      "\u001b[31mindividuals in pedigree (incomplete genomic data, single-step).\u001b[39m\n",
      "\u001b[31mOnly individuals with both information are used in the analysis.\u001b[39m\n",
      "\u001b[32mPi (Π) is not provided.\u001b[39m\n",
      "\u001b[32mPi (Π) is generated assuming all markers have effects on all traits.\u001b[39m\n",
      "\n",
      "\n",
      "\n",
      "A Linear Mixed Model was build using model equations:\n",
      "\n",
      "y1 = intercept\n",
      "y2 = intercept\n",
      "\n",
      "Model Information:\n",
      "\n",
      "Term            C/F          F/R            nLevels\n",
      "intercept       factor       fixed                1\n",
      "\n",
      "MCMC Information:\n",
      "\n",
      "methods                                      BayesL\n",
      "chain_length                                  50000\n",
      "burnin                                         1000\n",
      "estimatePi                                    false\n",
      "starting_value                                false\n",
      "printout_frequency                            10000\n",
      "output_samples_frequency                          0\n",
      "constraint                                    false\n",
      "missing_phenotypes                            false\n",
      "update_priors_frequency                           0\n",
      "\n",
      "Hyper-parameters Information: \n",
      "\n",
      "residual variances:           \n",
      "  0.53   -0.225\n",
      " -0.225   0.572\n",
      "genetic variances (genomic):  \n",
      "  0.0  -0.0\n",
      " -0.0   0.0\n",
      "marker effect variances:      \n",
      "  0.0  -0.0\n",
      " -0.0   0.0\n",
      "Π:\n",
      "combinations          probability\n",
      "[0.0, 0.0]                    0.0\n",
      "[1.0, 0.0]                    0.0\n",
      "[1.0, 1.0]                    1.0\n",
      "[0.0, 1.0]                    0.0\n",
      "\n",
      "Degree of freedom for hyper-parameters:\n",
      "\n",
      "residual variances:                           4.000\n",
      "iid random effect variances:                  4.000\n",
      "marker effect variances:                      4.000\n",
      "\n",
      "\n",
      "\n"
     ]
    },
    {
     "name": "stderr",
     "output_type": "stream",
     "text": [
      "\u001b[32mrunning MCMC for BayesL... 20%|█████                    |  ETA: 0:02:09\u001b[39m"
     ]
    },
    {
     "name": "stdout",
     "output_type": "stream",
     "text": [
      "\n",
      "Posterior means at iteration: 10000\n",
      "Residual covariance matrix: \n"
     ]
    },
    {
     "name": "stderr",
     "output_type": "stream",
     "text": [
      "\u001b[32mrunning MCMC for BayesL... 20%|█████                    |  ETA: 0:02:09\u001b[39m"
     ]
    },
    {
     "name": "stdout",
     "output_type": "stream",
     "text": [
      "[0.530637 0.075186; 0.075186 0.5794]\n",
      "Marker effects covariance matrix: \n",
      "[3.2e-5 -1.0e-5; -1.0e-5 2.2e-5]\n",
      "\n"
     ]
    },
    {
     "name": "stderr",
     "output_type": "stream",
     "text": [
      "\u001b[32mrunning MCMC for BayesL... 40%|██████████               |  ETA: 0:01:36\u001b[39m"
     ]
    },
    {
     "name": "stdout",
     "output_type": "stream",
     "text": [
      "\n",
      "Posterior means at iteration: 20000\n",
      "Residual covariance matrix: \n",
      "[0.531545 0.074326; 0.074326 0.57781]\n",
      "Marker effects covariance matrix: \n",
      "[3.3e-5 -9.0e-6; -9.0e-6 2.2e-5]\n",
      "\n"
     ]
    },
    {
     "name": "stderr",
     "output_type": "stream",
     "text": [
      "\u001b[32mrunning MCMC for BayesL... 60%|███████████████          |  ETA: 0:01:04\u001b[39m"
     ]
    },
    {
     "name": "stdout",
     "output_type": "stream",
     "text": [
      "\n",
      "Posterior means at iteration: 30000\n",
      "Residual covariance matrix: \n",
      "[0.533726 0.073366; 0.073366 0.57727]\n",
      "Marker effects covariance matrix: \n",
      "[3.2e-5 -9.0e-6; -9.0e-6 2.2e-5]\n",
      "\n"
     ]
    },
    {
     "name": "stderr",
     "output_type": "stream",
     "text": [
      "\u001b[32mrunning MCMC for BayesL... 80%|████████████████████     |  ETA: 0:00:31\u001b[39m"
     ]
    },
    {
     "name": "stdout",
     "output_type": "stream",
     "text": [
      "\n",
      "Posterior means at iteration: 40000\n",
      "Residual covariance matrix: \n",
      "[0.532619 0.07519; 0.07519 0.576935]\n",
      "Marker effects covariance matrix: \n",
      "[3.2e-5 -1.0e-5; -1.0e-5 2.2e-5]\n",
      "\n"
     ]
    },
    {
     "name": "stderr",
     "output_type": "stream",
     "text": [
      "\u001b[32mrunning MCMC for BayesL...100%|█████████████████████████|  ETA: 0:00:00\u001b[39m"
     ]
    },
    {
     "name": "stdout",
     "output_type": "stream",
     "text": [
      "\n",
      "Posterior means at iteration: 50000\n",
      "Residual covariance matrix: \n",
      "[0.53353 0.075525; 0.075525 0.576876]\n",
      "Marker effects covariance matrix: \n",
      "[3.2e-5 -1.0e-5; -1.0e-5 2.2e-5]\n",
      "\n"
     ]
    },
    {
     "name": "stderr",
     "output_type": "stream",
     "text": [
      "\u001b[32mrunning MCMC for BayesL...100%|█████████████████████████| Time: 0:02:37\u001b[39m\n"
     ]
    },
    {
     "name": "stdout",
     "output_type": "stream",
     "text": [
      "1279 markers on 300 individuals were added.\n",
      "\u001b[31mPhenotyped individuals are not a subset of either\u001b[39m\n",
      "\u001b[31mgenotyped individuals (complete genomic data,non-single-step) or\u001b[39m\n",
      "\u001b[31mindividuals in pedigree (incomplete genomic data, single-step).\u001b[39m\n",
      "\u001b[31mOnly individuals with both information are used in the analysis.\u001b[39m\n",
      "\u001b[32mPi (Π) is not provided.\u001b[39m\n",
      "\u001b[32mPi (Π) is generated assuming all markers have effects on all traits.\u001b[39m\n",
      "\n",
      "\n",
      "\n",
      "A Linear Mixed Model was build using model equations:\n",
      "\n",
      "y1 = intercept\n",
      "y2 = intercept\n",
      "\n",
      "Model Information:\n",
      "\n",
      "Term            C/F          F/R            nLevels\n",
      "intercept       factor       fixed                1\n",
      "\n",
      "MCMC Information:\n",
      "\n",
      "methods                                     RR-BLUP\n",
      "chain_length                                  50000\n",
      "burnin                                         1000\n",
      "estimatePi                                    false\n",
      "starting_value                                false\n",
      "printout_frequency                            10000\n",
      "output_samples_frequency                          0\n",
      "constraint                                    false\n",
      "missing_phenotypes                            false\n",
      "update_priors_frequency                           0\n",
      "\n",
      "Hyper-parameters Information: \n",
      "\n",
      "residual variances:           \n",
      "  0.53   -0.225\n",
      " -0.225   0.572\n",
      "genetic variances (genomic):  \n",
      "  0.0  -0.0\n",
      " -0.0   0.0\n",
      "marker effect variances:      \n",
      "  0.0  -0.0\n",
      " -0.0   0.0\n",
      "Π:\n",
      "combinations          probability\n",
      "[0.0, 0.0]                    0.0\n",
      "[1.0, 0.0]                    0.0\n",
      "[1.0, 1.0]                    1.0\n",
      "[0.0, 1.0]                    0.0\n",
      "\n",
      "Degree of freedom for hyper-parameters:\n",
      "\n",
      "residual variances:                           4.000\n",
      "iid random effect variances:                  4.000\n",
      "marker effect variances:                      4.000\n",
      "\n",
      "\n",
      "\n"
     ]
    },
    {
     "name": "stderr",
     "output_type": "stream",
     "text": [
      "\u001b[32mrunning MCMC for RR-BLUP... 20%|█████                   |  ETA: 0:02:03\u001b[39m"
     ]
    },
    {
     "name": "stdout",
     "output_type": "stream",
     "text": [
      "\n",
      "Posterior means at iteration: 10000\n",
      "Residual covariance matrix: \n",
      "[0.533018 0.076763; 0.076763 0.580186]\n",
      "Marker effects covariance matrix: \n",
      "[0.000391 -0.000115; -0.000115 0.00026]\n",
      "\n"
     ]
    },
    {
     "name": "stderr",
     "output_type": "stream",
     "text": [
      "\u001b[32mrunning MCMC for RR-BLUP... 40%|██████████              |  ETA: 0:01:31\u001b[39m"
     ]
    },
    {
     "name": "stdout",
     "output_type": "stream",
     "text": [
      "\n",
      "Posterior means at iteration: 20000\n",
      "Residual covariance matrix: \n",
      "[0.532879 0.075115; 0.075115 0.579927]\n",
      "Marker effects covariance matrix: \n",
      "[0.000391 -0.000113; -0.000113 0.000259]\n",
      "\n"
     ]
    },
    {
     "name": "stderr",
     "output_type": "stream",
     "text": [
      "\u001b[32mrunning MCMC for RR-BLUP... 60%|██████████████          |  ETA: 0:01:00\u001b[39m"
     ]
    },
    {
     "name": "stdout",
     "output_type": "stream",
     "text": [
      "\n",
      "Posterior means at iteration: 30000\n",
      "Residual covariance matrix: \n",
      "[0.531916 0.073274; 0.073274 0.576906]\n",
      "Marker effects covariance matrix: \n",
      "[0.000393 -0.00011; -0.00011 0.000264]\n",
      "\n"
     ]
    },
    {
     "name": "stderr",
     "output_type": "stream",
     "text": [
      "\u001b[32mrunning MCMC for RR-BLUP... 80%|███████████████████     |  ETA: 0:00:29\u001b[39m"
     ]
    },
    {
     "name": "stdout",
     "output_type": "stream",
     "text": [
      "\n",
      "Posterior means at iteration: 40000\n",
      "Residual covariance matrix: \n",
      "[0.53092 0.072889; 0.072889 0.577203]\n",
      "Marker effects covariance matrix: \n",
      "[0.000394 -0.000109; -0.000109 0.000263]\n",
      "\n"
     ]
    },
    {
     "name": "stderr",
     "output_type": "stream",
     "text": [
      "\u001b[32mrunning MCMC for RR-BLUP...100%|████████████████████████|  ETA: 0:00:00\u001b[39m"
     ]
    },
    {
     "name": "stdout",
     "output_type": "stream",
     "text": [
      "\n",
      "Posterior means at iteration: 50000\n",
      "Residual covariance matrix: \n",
      "[0.531654 0.073554; 0.073554 0.577918]\n",
      "Marker effects covariance matrix: \n",
      "[0.000392 -0.00011; -0.00011 0.000261]\n",
      "\n"
     ]
    },
    {
     "name": "stderr",
     "output_type": "stream",
     "text": [
      "\u001b[32mrunning MCMC for RR-BLUP...100%|████████████████████████| Time: 0:02:22\u001b[39m\n"
     ]
    },
    {
     "name": "stdout",
     "output_type": "stream",
     "text": [
      "1279 markers on 300 individuals were added.\n",
      "\u001b[31mPhenotyped individuals are not a subset of either\u001b[39m\n",
      "\u001b[31mgenotyped individuals (complete genomic data,non-single-step) or\u001b[39m\n",
      "\u001b[31mindividuals in pedigree (incomplete genomic data, single-step).\u001b[39m\n",
      "\u001b[31mOnly individuals with both information are used in the analysis.\u001b[39m\n",
      "\n",
      "\n",
      "\n",
      "A Linear Mixed Model was build using model equations:\n",
      "\n",
      "y1 = intercept\n",
      "y2 = intercept\n",
      "\n",
      "Model Information:\n",
      "\n",
      "Term            C/F          F/R            nLevels\n",
      "intercept       factor       fixed                1\n",
      "\n",
      "MCMC Information:\n",
      "\n",
      "methods                                      BayesC\n",
      "chain_length                                  50000\n",
      "burnin                                         1000\n",
      "estimatePi                                     true\n",
      "starting_value                                false\n",
      "printout_frequency                            10000\n",
      "output_samples_frequency                          0\n",
      "constraint                                    false\n",
      "missing_phenotypes                            false\n",
      "update_priors_frequency                           0\n",
      "\n",
      "Hyper-parameters Information: \n",
      "\n",
      "residual variances:           \n",
      "  0.53   -0.225\n",
      " -0.225   0.572\n",
      "genetic variances (genomic):  \n",
      "  0.0  -0.0\n",
      " -0.0   0.0\n",
      "marker effect variances:      \n",
      "  0.0  -0.0\n",
      " -0.0   0.0\n",
      "Π:\n",
      "combinations          probability\n",
      "[0.0, 0.0]                   0.25\n",
      "[1.0, 0.0]                   0.25\n",
      "[1.0, 1.0]                   0.25\n",
      "[0.0, 1.0]                   0.25\n",
      "\n",
      "Degree of freedom for hyper-parameters:\n",
      "\n",
      "residual variances:                           4.000\n",
      "iid random effect variances:                  4.000\n",
      "marker effect variances:                      4.000\n",
      "\n",
      "\n",
      "\n"
     ]
    },
    {
     "name": "stderr",
     "output_type": "stream",
     "text": [
      "\u001b[32mrunning MCMC for BayesC... 20%|█████                    |  ETA: 0:04:28\u001b[39m"
     ]
    },
    {
     "name": "stdout",
     "output_type": "stream",
     "text": [
      "\n",
      "Posterior means at iteration: 10000\n",
      "Residual covariance matrix: \n",
      "[0.530535 0.076022; 0.076022 0.576189]\n",
      "Marker effects covariance matrix: \n",
      "[0.000821 -0.000461; -0.000461 0.000457]\n",
      "π: \n",
      "Dict"
     ]
    },
    {
     "name": "stderr",
     "output_type": "stream",
     "text": [
      "\u001b[32mrunning MCMC for BayesC... 20%|█████                    |  ETA: 0:04:28\u001b[39m"
     ]
    },
    {
     "name": "stdout",
     "output_type": "stream",
     "text": [
      "([0.0, 0.0]=>0.147992,[1.0, 0.0]=>0.253332,[1.0, 1.0]=>0.289441,[0.0, 1.0]=>0.309235)\n",
      "\n"
     ]
    },
    {
     "name": "stderr",
     "output_type": "stream",
     "text": [
      "\u001b[32mrunning MCMC for BayesC... 40%|██████████               |  ETA: 0:03:27\u001b[39m"
     ]
    },
    {
     "name": "stdout",
     "output_type": "stream",
     "text": [
      "\n",
      "Posterior means at iteration: 20000\n",
      "Residual covariance matrix: \n",
      "[0.532323 0.077706; 0.077706 0.579458]\n",
      "Marker effects covariance matrix: \n",
      "[0.000715 -0.000443; -0.000443 0.000478]\n",
      "π: \n",
      "Dict([0.0, 0.0]=>0.144183,[1.0, 0.0]=>0.271901,[1.0, 1.0]=>0.334738,[0.0, 1.0]=>0.249178)\n",
      "\n"
     ]
    },
    {
     "name": "stderr",
     "output_type": "stream",
     "text": [
      "\u001b[32mrunning MCMC for BayesC... 60%|███████████████          |  ETA: 0:02:23\u001b[39m"
     ]
    },
    {
     "name": "stdout",
     "output_type": "stream",
     "text": [
      "\n",
      "Posterior means at iteration: 30000\n",
      "Residual covariance matrix: \n",
      "[0.534091 0.073207; 0.073207 0.580157]\n",
      "Marker effects covariance matrix: \n",
      "[0.000728 -0.000435; -0.000435 0.000482]\n",
      "π: \n",
      "Dict([0.0, 0.0]=>0.149313,[1.0, 0.0]=>0.275275,[1.0, 1.0]=>0.313164,[0.0, 1.0]=>0.262248)\n",
      "\n"
     ]
    },
    {
     "name": "stderr",
     "output_type": "stream",
     "text": [
      "\u001b[32mrunning MCMC for BayesC... 80%|████████████████████     |  ETA: 0:01:11\u001b[39m"
     ]
    },
    {
     "name": "stdout",
     "output_type": "stream",
     "text": [
      "\n",
      "Posterior means at iteration: 40000\n",
      "Residual covariance matrix: \n",
      "[0.532787 0.072968; 0.072968 0.579351]\n",
      "Marker effects covariance matrix: \n",
      "[0.000709 -0.000449; -0.000449 0.000517]\n",
      "π: \n",
      "Dict([0.0, 0.0]=>0.150807,[1.0, 0.0]=>0.297824,[1.0, 1.0]=>0.302514,[0.0, 1.0]=>0.248856)\n",
      "\n"
     ]
    },
    {
     "name": "stderr",
     "output_type": "stream",
     "text": [
      "\u001b[32mrunning MCMC for BayesC...100%|█████████████████████████|  ETA: 0:00:00\u001b[39m"
     ]
    },
    {
     "name": "stdout",
     "output_type": "stream",
     "text": [
      "\n",
      "Posterior means at iteration: 50000\n",
      "Residual covariance matrix: \n",
      "[0.53264 0.073968; 0.073968 0.580046]\n",
      "Marker effects covariance matrix: \n",
      "[0.00072 -0.000454; -0.000454 0.000518]\n",
      "π: \n",
      "Dict([0.0, 0.0]=>0.157663,[1.0, 0.0]=>0.296859,[1.0, 1.0]=>0.303004,[0.0, 1.0]=>0.242474)\n",
      "\n"
     ]
    },
    {
     "name": "stderr",
     "output_type": "stream",
     "text": [
      "\u001b[32mrunning MCMC for BayesC...100%|█████████████████████████| Time: 0:05:47\u001b[39m\n"
     ]
    },
    {
     "name": "stdout",
     "output_type": "stream",
     "text": [
      "\n",
      " Iteration: 2\n",
      "\n",
      "1279 markers on 300 individuals were added.\n",
      "\u001b[31mPhenotyped individuals are not a subset of either\u001b[39m\n",
      "\u001b[31mgenotyped individuals (complete genomic data,non-single-step) or\u001b[39m\n",
      "\u001b[31mindividuals in pedigree (incomplete genomic data, single-step).\u001b[39m\n",
      "\u001b[31mOnly individuals with both information are used in the analysis.\u001b[39m\n",
      "\u001b[32mPi (Π) is not provided.\u001b[39m\n",
      "\u001b[32mPi (Π) is generated assuming all markers have effects on all traits.\u001b[39m\n",
      "\n",
      "\n",
      "\n",
      "A Linear Mixed Model was build using model equations:\n",
      "\n",
      "y1 = intercept\n",
      "y2 = intercept\n",
      "\n",
      "Model Information:\n",
      "\n",
      "Term            C/F          F/R            nLevels\n",
      "intercept       factor       fixed                1\n",
      "\n",
      "MCMC Information:\n",
      "\n",
      "methods                                      BayesL\n",
      "chain_length                                  50000\n",
      "burnin                                         1000\n",
      "estimatePi                                    false\n",
      "starting_value                                false\n",
      "printout_frequency                            10000\n",
      "output_samples_frequency                          0\n",
      "constraint                                    false\n",
      "missing_phenotypes                            false\n",
      "update_priors_frequency                           0\n",
      "\n",
      "Hyper-parameters Information: \n",
      "\n",
      "residual variances:           \n",
      "  0.53   -0.225\n",
      " -0.225   0.572\n",
      "genetic variances (genomic):  \n",
      "  0.0  -0.0\n",
      " -0.0   0.0\n",
      "marker effect variances:      \n",
      "  0.0  -0.0\n",
      " -0.0   0.0\n",
      "Π:\n",
      "combinations          probability\n",
      "[0.0, 0.0]                    0.0\n",
      "[1.0, 0.0]                    0.0\n",
      "[1.0, 1.0]                    1.0\n",
      "[0.0, 1.0]                    0.0\n",
      "\n",
      "Degree of freedom for hyper-parameters:\n",
      "\n",
      "residual variances:                           4.000\n",
      "iid random effect variances:                  4.000\n",
      "marker effect variances:                      4.000\n",
      "\n",
      "\n",
      "\n"
     ]
    },
    {
     "name": "stderr",
     "output_type": "stream",
     "text": [
      "\u001b[32mrunning MCMC for BayesL... 20%|█████                    |  ETA: 0:01:51\u001b[39m"
     ]
    },
    {
     "name": "stdout",
     "output_type": "stream",
     "text": [
      "\n",
      "Posterior means at iteration: 10000\n",
      "Residual covariance matrix: \n",
      "[0.634967 0.062358; 0.062358 0.564264]\n",
      "Marker effects covariance matrix: \n",
      "[2.9e-5 -9.0e-6; -9.0e-6 2.0e-5]\n",
      "\n"
     ]
    },
    {
     "name": "stderr",
     "output_type": "stream",
     "text": [
      "\u001b[32mrunning MCMC for BayesL... 40%|██████████               |  ETA: 0:01:31\u001b[39m"
     ]
    },
    {
     "name": "stdout",
     "output_type": "stream",
     "text": [
      "\n",
      "Posterior means at iteration: 20000\n",
      "Residual covariance matrix: \n",
      "[0.643503 0.068383; 0.068383 0.569568]\n",
      "Marker effects covariance matrix: \n",
      "[2.8e-5 -9.0e-6; -9"
     ]
    },
    {
     "name": "stderr",
     "output_type": "stream",
     "text": [
      "\u001b[32mrunning MCMC for BayesL... 40%|██████████               |  ETA: 0:01:31\u001b[39m"
     ]
    },
    {
     "name": "stdout",
     "output_type": "stream",
     "text": [
      ".0e-6 1.9e-5]\n",
      "\n"
     ]
    },
    {
     "name": "stderr",
     "output_type": "stream",
     "text": [
      "\u001b[32mrunning MCMC for BayesL... 60%|███████████████          |  ETA: 0:01:02\u001b[39m"
     ]
    },
    {
     "name": "stdout",
     "output_type": "stream",
     "text": [
      "\n",
      "Posterior means at iteration: 30000\n",
      "Residual covariance matrix: \n",
      "[0.641795 0.06791; 0.06791 0.571217]\n",
      "Marker effects covariance matrix: \n",
      "[2.8e-5 -9.0e-6; -9.0e-6 1.9e-5]\n",
      "\n"
     ]
    },
    {
     "name": "stderr",
     "output_type": "stream",
     "text": [
      "\u001b[32mrunning MCMC for BayesL... 80%|████████████████████     |  ETA: 0:00:30\u001b[39m"
     ]
    },
    {
     "name": "stdout",
     "output_type": "stream",
     "text": [
      "\n",
      "Posterior means at iteration: 40000\n",
      "Residual covariance matrix: \n",
      "[0.645572 0.070564; 0.070564 0.572721]\n",
      "Marker effects covariance matrix: \n",
      "[2.7e-5 -1.0e-5; -1.0e-5 1.9e-5]\n",
      "\n"
     ]
    },
    {
     "name": "stderr",
     "output_type": "stream",
     "text": [
      "\u001b[32mrunning MCMC for BayesL...100%|█████████████████████████|  ETA: 0:00:00\u001b[39m"
     ]
    },
    {
     "name": "stdout",
     "output_type": "stream",
     "text": [
      "\n",
      "Posterior means at iteration: 50000\n",
      "Residual covariance matrix: \n",
      "[0.646387 0.070408; 0.070408 0.574387]\n",
      "Marker effects covariance matrix: \n",
      "[2.7e-5 -1.0e-5; -1.0e-5 1.9e-5]\n",
      "\n"
     ]
    },
    {
     "name": "stderr",
     "output_type": "stream",
     "text": [
      "\u001b[32mrunning MCMC for BayesL...100%|█████████████████████████| Time: 0:02:33\u001b[39m\n"
     ]
    },
    {
     "name": "stdout",
     "output_type": "stream",
     "text": [
      "1279 markers on 300 individuals were added.\n",
      "\u001b[31mPhenotyped individuals are not a subset of either\u001b[39m\n",
      "\u001b[31mgenotyped individuals (complete genomic data,non-single-step) or\u001b[39m\n",
      "\u001b[31mindividuals in pedigree (incomplete genomic data, single-step).\u001b[39m\n",
      "\u001b[31mOnly individuals with both information are used in the analysis.\u001b[39m\n",
      "\u001b[32mPi (Π) is not provided.\u001b[39m\n",
      "\u001b[32mPi (Π) is generated assuming all markers have effects on all traits.\u001b[39m\n",
      "\n",
      "\n",
      "\n",
      "A Linear Mixed Model was build using model equations:\n",
      "\n",
      "y1 = intercept\n",
      "y2 = intercept\n",
      "\n",
      "Model Information:\n",
      "\n",
      "Term            C/F          F/R            nLevels\n",
      "intercept       factor       fixed                1\n",
      "\n",
      "MCMC Information:\n",
      "\n",
      "methods                                     RR-BLUP\n",
      "chain_length                                  50000\n",
      "burnin                                         1000\n",
      "estimatePi                                    false\n",
      "starting_value                                false\n",
      "printout_frequency                            10000\n",
      "output_samples_frequency                          0\n",
      "constraint                                    false\n",
      "missing_phenotypes                            false\n",
      "update_priors_frequency                           0\n",
      "\n",
      "Hyper-parameters Information: \n",
      "\n",
      "residual variances:           \n",
      "  0.53   -0.225\n",
      " -0.225   0.572\n",
      "genetic variances (genomic):  \n",
      "  0.0  -0.0\n",
      " -0.0   0.0\n",
      "marker effect variances:      \n",
      "  0.0  -0.0\n",
      " -0.0   0.0\n",
      "Π:\n",
      "combinations          probability\n",
      "[0.0, 0.0]                    0.0\n",
      "[1.0, 0.0]                    0.0\n",
      "[1.0, 1.0]                    1.0\n",
      "[0.0, 1.0]                    0.0\n",
      "\n",
      "Degree of freedom for hyper-parameters:\n",
      "\n",
      "residual variances:                           4.000\n",
      "iid random effect variances:                  4.000\n",
      "marker effect variances:                      4.000\n",
      "\n",
      "\n",
      "\n"
     ]
    },
    {
     "name": "stderr",
     "output_type": "stream",
     "text": [
      "\u001b[32mrunning MCMC for RR-BLUP... 20%|█████                   |  ETA: 0:01:24\u001b[39m"
     ]
    },
    {
     "name": "stdout",
     "output_type": "stream",
     "text": [
      "\n",
      "Posterior means at iteration: 10000\n",
      "Residual covariance matrix: \n",
      "[0.650988 0.07437; 0.07437 0.5828]\n",
      "Marker effects covariance matrix: \n",
      "[0.000321 -0.000119; -0.000119 0.00021]\n",
      "\n"
     ]
    },
    {
     "name": "stderr",
     "output_type": "stream",
     "text": [
      "\u001b[32mrunning MCMC for RR-BLUP... 40%|██████████              |  ETA: 0:01:23\u001b[39m"
     ]
    },
    {
     "name": "stdout",
     "output_type": "stream",
     "text": [
      "\n",
      "Posterior means at iteration: 20000\n",
      "Residual covariance matrix: \n",
      "[0.638848 0.069252; 0.069252 0.577369]\n",
      "Marker effects covariance matrix: \n",
      "[0.000341 -0.000113; -0.000113 0.00022]\n",
      "\n"
     ]
    },
    {
     "name": "stderr",
     "output_type": "stream",
     "text": [
      "\u001b[32mrunning MCMC for RR-BLUP... 60%|██████████████          |  ETA: 0:00:53\u001b[39m"
     ]
    },
    {
     "name": "stdout",
     "output_type": "stream",
     "text": [
      "\n",
      "Posterior means at iteration: 30000\n",
      "Residual covariance matrix: \n",
      "[0.64008 0.067728; 0.067728 0.576151]\n",
      "Marker effects covariance matrix: \n",
      "[0.000339 -0.00011; -0.00011 0.000221]\n",
      "\n"
     ]
    },
    {
     "name": "stderr",
     "output_type": "stream",
     "text": [
      "\u001b[32mrunning MCMC for RR-BLUP... 80%|███████████████████     |  ETA: 0:00:25\u001b[39m"
     ]
    },
    {
     "name": "stdout",
     "output_type": "stream",
     "text": [
      "\n",
      "Posterior means at iteration: 40000\n",
      "Residual covariance matrix: \n",
      "[0.640168 0.067392; 0.067392 0.575539]\n",
      "Marker effects covariance matrix: \n",
      "[0.000339 -0.00011; -0.00011 0.000221]\n",
      "\n"
     ]
    },
    {
     "name": "stderr",
     "output_type": "stream",
     "text": [
      "\u001b[32mrunning MCMC for RR-BLUP...100%|████████████████████████|  ETA: 0:00:00\u001b[39m"
     ]
    },
    {
     "name": "stdout",
     "output_type": "stream",
     "text": [
      "\n",
      "Posterior means at iteration: 50000\n",
      "Residual covariance matrix: \n",
      "[0.640082 0.068877; 0.068877 0.576855]\n",
      "Marker effects covariance matrix: \n",
      "[0.000339 -0.000112; -0.000112 0.000219]\n",
      "\n"
     ]
    },
    {
     "name": "stderr",
     "output_type": "stream",
     "text": [
      "\u001b[32mrunning MCMC for RR-BLUP...100%|████████████████████████| Time: 0:02:02\u001b[39m\n"
     ]
    },
    {
     "name": "stdout",
     "output_type": "stream",
     "text": [
      "1279 markers on 300 individuals were added.\n",
      "\u001b[31mPhenotyped individuals are not a subset of either\u001b[39m\n",
      "\u001b[31mgenotyped individuals (complete genomic data,non-single-step) or\u001b[39m\n",
      "\u001b[31mindividuals in pedigree (incomplete genomic data, single-step).\u001b[39m\n",
      "\u001b[31mOnly individuals with both information are used in the analysis.\u001b[39m\n",
      "\n",
      "\n",
      "\n",
      "A Linear Mixed Model was build using model equations:\n",
      "\n",
      "y1 = intercept\n",
      "y2 = intercept\n",
      "\n",
      "Model Information:\n",
      "\n",
      "Term            C/F          F/R            nLevels\n",
      "intercept       factor       fixed                1\n",
      "\n",
      "MCMC Information:\n",
      "\n",
      "methods                                      BayesC\n",
      "chain_length                                  50000\n",
      "burnin                                         1000\n",
      "estimatePi                                     true\n",
      "starting_value                                false\n",
      "printout_frequency                            10000\n",
      "output_samples_frequency                          0\n",
      "constraint                                    false\n",
      "missing_phenotypes                            false\n",
      "update_priors_frequency                           0\n",
      "\n",
      "Hyper-parameters Information: \n",
      "\n",
      "residual variances:           \n",
      "  0.53   -0.225\n",
      " -0.225   0.572\n",
      "genetic variances (genomic):  \n",
      "  0.0  -0.0\n",
      " -0.0   0.0\n",
      "marker effect variances:      \n",
      "  0.0  -0.0\n",
      " -0.0   0.0\n",
      "Π:\n",
      "combinations          probability\n",
      "[0.0, 0.0]                   0.25\n",
      "[1.0, 0.0]                   0.25\n",
      "[1.0, 1.0]                   0.25\n",
      "[0.0, 1.0]                   0.25\n",
      "\n",
      "Degree of freedom for hyper-parameters:\n",
      "\n",
      "residual variances:                           4.000\n",
      "iid random effect variances:                  4.000\n",
      "marker effect variances:                      4.000\n",
      "\n",
      "\n",
      "\n"
     ]
    },
    {
     "name": "stderr",
     "output_type": "stream",
     "text": [
      "\u001b[32mrunning MCMC for BayesC... 20%|█████                    |  ETA: 0:04:08\u001b[39m"
     ]
    },
    {
     "name": "stdout",
     "output_type": "stream",
     "text": [
      "\n",
      "Posterior means at iteration: 10000\n",
      "Residual covariance matrix: \n",
      "[0.645791 0.061694; 0.061694 0.575537]\n",
      "Marker effects covariance matrix: \n",
      "[0.00064 -0.000432; -0.000432 0.00046]\n",
      "π: \n",
      "Dict([0.0, 0.0]=>0.171501,[1.0, 0.0]=>0.290414,[1.0, 1.0]=>0.305471,[0.0, 1.0]=>0.232614)\n",
      "\n"
     ]
    },
    {
     "name": "stderr",
     "output_type": "stream",
     "text": [
      "\u001b[32mrunning MCMC for BayesC... 40%|██████████               |  ETA: 0:03:11\u001b[39m"
     ]
    },
    {
     "name": "stdout",
     "output_type": "stream",
     "text": [
      "\n",
      "Posterior means at iteration: 20000\n",
      "Residual covariance matrix: \n",
      "[0.644931 0.062001; 0.062001 0.576725]\n",
      "Marker effects covariance matrix: \n",
      "[0.000584 -0.000364; -0.000364 0.000406]\n",
      "π: \n",
      "Dict([0.0, 0.0]=>0.14056,[1.0, 0.0]=>0.27413,[1.0, 1.0]=>0.347101,[0.0, 1.0]=>0.238209)\n",
      "\n"
     ]
    },
    {
     "name": "stderr",
     "output_type": "stream",
     "text": [
      "\u001b[32mrunning MCMC for BayesC... 60%|███████████████          |  ETA: 0:02:10\u001b[39m"
     ]
    },
    {
     "name": "stdout",
     "output_type": "stream",
     "text": [
      "\n",
      "Posterior means at iteration: 30000\n",
      "Residual covariance matrix: \n",
      "[0.646424 0.060781; 0.060781 0.577209]\n",
      "Marker effects covariance matrix: \n",
      "[0.000571 -0.000365; -0.000365 0.000423]\n",
      "π: \n",
      "Dict([0.0, 0.0]=>0.148641,[1.0, 0.0]=>0.291474,[1.0, 1.0]=>0.325836,[0.0, 1.0]=>0.234049)\n",
      "\n"
     ]
    },
    {
     "name": "stderr",
     "output_type": "stream",
     "text": [
      "\u001b[32mrunning MCMC for BayesC... 80%|████████████████████     |  ETA: 0:01:05\u001b[39m"
     ]
    },
    {
     "name": "stdout",
     "output_type": "stream",
     "text": [
      "\n",
      "Posterior means at iteration: 40000\n",
      "Residual covariance matrix: \n",
      "[0.642587 0.060208; 0.060208 0.577295]\n",
      "Marker effects covariance matrix: \n",
      "[0.00057 -0.000369; -0.000369 0.000425]\n",
      "π: \n",
      "Dict([0.0, 0.0]=>0.143114,[1.0, 0.0]=>0.305883,[1.0, 1.0]=>0.32015,[0.0, 1.0]=>0.230853)\n",
      "\n"
     ]
    },
    {
     "name": "stderr",
     "output_type": "stream",
     "text": [
      "\u001b[32mrunning MCMC for BayesC...100%|█████████████████████████|  ETA: 0:00:00\u001b[39m"
     ]
    },
    {
     "name": "stdout",
     "output_type": "stream",
     "text": [
      "\n",
      "Posterior means at iteration: 50000\n",
      "Residual covariance matrix: \n",
      "[0.641356 0.060476; 0.060476 0.577216]\n",
      "Marker effects covariance matrix: \n",
      "[0.000578 -0.000384; -0.000384 0.000438]\n",
      "π: \n",
      "Dict([0.0, 0.0]=>0.150337,[1.0, 0.0]=>0.311404,[1.0, 1.0]=>0.308331,[0.0, 1.0]=>0.229928)\n",
      "\n"
     ]
    },
    {
     "name": "stderr",
     "output_type": "stream",
     "text": [
      "\u001b[32mrunning MCMC for BayesC...100%|█████████████████████████| Time: 0:05:17\u001b[39m\n"
     ]
    },
    {
     "name": "stdout",
     "output_type": "stream",
     "text": [
      "\n",
      " Iteration: 3\n",
      "\n",
      "1279 markers on 300 individuals were added.\n",
      "\u001b[31mPhenotyped individuals are not a subset of either\u001b[39m\n",
      "\u001b[31mgenotyped individuals (complete genomic data,non-single-step) or\u001b[39m\n",
      "\u001b[31mindividuals in pedigree (incomplete genomic data, single-step).\u001b[39m\n",
      "\u001b[31mOnly individuals with both information are used in the analysis.\u001b[39m\n",
      "\u001b[32mPi (Π) is not provided.\u001b[39m\n",
      "\u001b[32mPi (Π) is generated assuming all markers have effects on all traits.\u001b[39m\n",
      "\n",
      "\n",
      "\n",
      "A Linear Mixed Model was build using model equations:\n",
      "\n",
      "y1 = intercept\n",
      "y2 = intercept\n",
      "\n",
      "Model Information:\n",
      "\n",
      "Term            C/F          F/R            nLevels\n",
      "intercept       factor       fixed                1\n",
      "\n",
      "MCMC Information:\n",
      "\n",
      "methods                                      BayesL\n",
      "chain_length                                  50000\n",
      "burnin                                         1000\n",
      "estimatePi                                    false\n",
      "starting_value                                false\n",
      "printout_frequency                            10000\n",
      "output_samples_frequency                          0\n",
      "constraint                                    false\n",
      "missing_phenotypes                            false\n",
      "update_priors_frequency                           0\n",
      "\n",
      "Hyper-parameters Information: \n",
      "\n",
      "residual variances:           \n",
      "  0.53   -0.225\n",
      " -0.225   0.572\n",
      "genetic variances (genomic):  \n",
      "  0.0  -0.0\n",
      " -0.0   0.0\n",
      "marker effect variances:      \n",
      "  0.0  -0.0\n",
      " -0.0   0.0\n",
      "Π:\n",
      "combinations          probability\n",
      "[0.0, 0.0]                    0.0\n",
      "[1.0, 0.0]                    0.0\n",
      "[1.0, 1.0]                    1.0\n",
      "[0.0, 1.0]                    0.0\n",
      "\n",
      "Degree of freedom for hyper-parameters:\n",
      "\n",
      "residual variances:                           4.000\n",
      "iid random effect variances:                  4.000\n",
      "marker effect variances:                      4.000\n",
      "\n",
      "\n",
      "\n"
     ]
    },
    {
     "name": "stderr",
     "output_type": "stream",
     "text": [
      "\u001b[32mrunning MCMC for BayesL... 20%|█████                    |  ETA: 0:01:46\u001b[39m"
     ]
    },
    {
     "name": "stdout",
     "output_type": "stream",
     "text": [
      "\n",
      "Posterior means at iteration: 10000\n",
      "Residual covariance matrix: \n",
      "[0.601861 0.025559; 0.025559 0.605312]\n"
     ]
    },
    {
     "name": "stderr",
     "output_type": "stream",
     "text": [
      "\u001b[32mrunning MCMC for BayesL... 20%|█████                    |  ETA: 0:01:46\u001b[39m"
     ]
    },
    {
     "name": "stdout",
     "output_type": "stream",
     "text": [
      "Marker effects covariance matrix: \n",
      "[2.6e-5 -8.0e-6; -8.0e-6 2.5e-5]\n",
      "\n"
     ]
    },
    {
     "name": "stderr",
     "output_type": "stream",
     "text": [
      "\u001b[32mrunning MCMC for BayesL... 40%|██████████               |  ETA: 0:01:19\u001b[39m"
     ]
    },
    {
     "name": "stdout",
     "output_type": "stream",
     "text": [
      "\n",
      "Posterior means at iteration: 20000\n",
      "Residual covariance matrix: \n",
      "[0.601965 0.029381; 0.029381 0.599742]\n",
      "Marker effects covariance matrix: \n",
      "[2.6e-5 -9.0e-6; -9.0e-6 2.6e-5]\n",
      "\n"
     ]
    },
    {
     "name": "stderr",
     "output_type": "stream",
     "text": [
      "\u001b[32mrunning MCMC for BayesL... 60%|███████████████          |  ETA: 0:00:55\u001b[39m"
     ]
    },
    {
     "name": "stdout",
     "output_type": "stream",
     "text": [
      "\n",
      "Posterior means at iteration: 30000\n",
      "Residual covariance matrix: \n",
      "[0.600347 0.029689; 0.029689 0.599407]\n",
      "Marker effects covariance matrix: \n",
      "[2.6e-5 -9.0e-6; -9.0e-6 2.6e-5]\n",
      "\n"
     ]
    },
    {
     "name": "stderr",
     "output_type": "stream",
     "text": [
      "\u001b[32mrunning MCMC for BayesL... 80%|████████████████████     |  ETA: 0:00:28\u001b[39m"
     ]
    },
    {
     "name": "stdout",
     "output_type": "stream",
     "text": [
      "\n",
      "Posterior means at iteration: 40000\n",
      "Residual covariance matrix: \n",
      "[0.599006 0.028656; 0.028656 0.599101]\n",
      "Marker effects covariance matrix: \n",
      "[2.6e-5 -9.0e-6; -9.0e-6 2.6e-5]\n",
      "\n"
     ]
    },
    {
     "name": "stderr",
     "output_type": "stream",
     "text": [
      "\u001b[32mrunning MCMC for BayesL...100%|█████████████████████████|  ETA: 0:00:00\u001b[39m"
     ]
    },
    {
     "name": "stdout",
     "output_type": "stream",
     "text": [
      "\n",
      "Posterior means at iteration: 50000\n",
      "Residual covariance matrix: \n",
      "[0.597083 0.029535; 0.029535 0.598079]\n",
      "Marker effects covariance matrix: \n",
      "[2.6e-5 -9.0e-6; -9.0e-6 2.6e-5]\n",
      "\n"
     ]
    },
    {
     "name": "stderr",
     "output_type": "stream",
     "text": [
      "\u001b[32mrunning MCMC for BayesL...100%|█████████████████████████| Time: 0:02:19\u001b[39m\n"
     ]
    },
    {
     "name": "stdout",
     "output_type": "stream",
     "text": [
      "1279 markers on 300 individuals were added.\n",
      "\u001b[31mPhenotyped individuals are not a subset of either\u001b[39m\n",
      "\u001b[31mgenotyped individuals (complete genomic data,non-single-step) or\u001b[39m\n",
      "\u001b[31mindividuals in pedigree (incomplete genomic data, single-step).\u001b[39m\n",
      "\u001b[31mOnly individuals with both information are used in the analysis.\u001b[39m\n",
      "\u001b[32mPi (Π) is not provided.\u001b[39m\n",
      "\u001b[32mPi (Π) is generated assuming all markers have effects on all traits.\u001b[39m\n",
      "\n",
      "\n",
      "\n",
      "A Linear Mixed Model was build using model equations:\n",
      "\n",
      "y1 = intercept\n",
      "y2 = intercept\n",
      "\n",
      "Model Information:\n",
      "\n",
      "Term            C/F          F/R            nLevels\n",
      "intercept       factor       fixed                1\n",
      "\n",
      "MCMC Information:\n",
      "\n",
      "methods                                     RR-BLUP\n",
      "chain_length                                  50000\n",
      "burnin                                         1000\n",
      "estimatePi                                    false\n",
      "starting_value                                false\n",
      "printout_frequency                            10000\n",
      "output_samples_frequency                          0\n",
      "constraint                                    false\n",
      "missing_phenotypes                            false\n",
      "update_priors_frequency                           0\n",
      "\n",
      "Hyper-parameters Information: \n",
      "\n",
      "residual variances:           \n",
      "  0.53   -0.225\n",
      " -0.225   0.572\n",
      "genetic variances (genomic):  \n",
      "  0.0  -0.0\n",
      " -0.0   0.0\n",
      "marker effect variances:      \n",
      "  0.0  -0.0\n",
      " -0.0   0.0\n",
      "Π:\n",
      "combinations          probability\n",
      "[0.0, 0.0]                    0.0\n",
      "[1.0, 0.0]                    0.0\n",
      "[1.0, 1.0]                    1.0\n",
      "[0.0, 1.0]                    0.0\n",
      "\n",
      "Degree of freedom for hyper-parameters:\n",
      "\n",
      "residual variances:                           4.000\n",
      "iid random effect variances:                  4.000\n",
      "marker effect variances:                      4.000\n",
      "\n",
      "\n",
      "\n"
     ]
    },
    {
     "name": "stderr",
     "output_type": "stream",
     "text": [
      "\u001b[32mrunning MCMC for RR-BLUP... 20%|█████                   |  ETA: 0:01:31\u001b[39m"
     ]
    },
    {
     "name": "stdout",
     "output_type": "stream",
     "text": [
      "\n",
      "Posterior means at iteration: 10000\n",
      "Residual covariance matrix: \n",
      "[0.600117 0.038183; 0.038183 0.594014]\n",
      "Marker effects covariance matrix: \n",
      "[0.000319 -0.000122; -0.000122 0.000329]\n",
      "\n"
     ]
    },
    {
     "name": "stderr",
     "output_type": "stream",
     "text": [
      "\u001b[32mrunning MCMC for RR-BLUP... 40%|██████████              |  ETA: 0:01:06\u001b[39m"
     ]
    },
    {
     "name": "stdout",
     "output_type": "stream",
     "text": [
      "\n",
      "Posterior means at iteration: 20000\n",
      "Residual covariance matrix: \n",
      "[0.593577 0.032938; 0.032938 0.594438]\n",
      "Marker effects covariance matrix: \n",
      "[0.000329 -0.000112; -0.000112 0.000326]\n",
      "\n"
     ]
    },
    {
     "name": "stderr",
     "output_type": "stream",
     "text": [
      "\u001b[32mrunning MCMC for RR-BLUP... 60%|██████████████          |  ETA: 0:00:46\u001b[39m"
     ]
    },
    {
     "name": "stdout",
     "output_type": "stream",
     "text": [
      "\n",
      "Posterior means at iteration: 30000\n",
      "Residual covariance matrix: \n",
      "[0.592805 0.031006; 0.031006 0.596515]\n",
      "Marker effects covariance matrix: \n",
      "[0.000329 -0.000109; -0.000109 0.000322]\n",
      "\n"
     ]
    },
    {
     "name": "stderr",
     "output_type": "stream",
     "text": [
      "\u001b[32mrunning MCMC for RR-BLUP... 80%|███████████████████     |  ETA: 0:00:23\u001b[39m"
     ]
    },
    {
     "name": "stdout",
     "output_type": "stream",
     "text": [
      "\n",
      "Posterior means at iteration: 40000\n",
      "Residual covariance matrix: \n",
      "[0.595724 0.031008; 0.031008 0.596945]\n",
      "Marker effects covariance matrix: \n",
      "[0.000325 -0.000109; -0.000109 0.00032]\n",
      "\n"
     ]
    },
    {
     "name": "stderr",
     "output_type": "stream",
     "text": [
      "\u001b[32mrunning MCMC for RR-BLUP...100%|████████████████████████|  ETA: 0:00:00\u001b[39m"
     ]
    },
    {
     "name": "stdout",
     "output_type": "stream",
     "text": [
      "\n",
      "Posterior means at iteration: 50000\n",
      "Residual covariance matrix: \n",
      "[0.596205 0.029722; 0.029722 0.596972]\n",
      "Marker effects covariance matrix: \n",
      "[0.000323 -0.000107; -0.000107 0.000319]\n",
      "\n"
     ]
    },
    {
     "name": "stderr",
     "output_type": "stream",
     "text": [
      "\u001b[32mrunning MCMC for RR-BLUP...100%|████████████████████████| Time: 0:01:52\u001b[39m\n"
     ]
    },
    {
     "name": "stdout",
     "output_type": "stream",
     "text": [
      "1279 markers on 300 individuals were added.\n",
      "\u001b[31mPhenotyped individuals are not a subset of either\u001b[39m\n",
      "\u001b[31mgenotyped individuals (complete genomic data,non-single-step) or\u001b[39m\n",
      "\u001b[31mindividuals in pedigree (incomplete genomic data, single-step).\u001b[39m\n",
      "\u001b[31mOnly individuals with both information are used in the analysis.\u001b[39m\n",
      "\n",
      "\n",
      "\n",
      "A Linear Mixed Model was build using model equations:\n",
      "\n",
      "y1 = intercept\n",
      "y2 = intercept\n",
      "\n",
      "Model Information:\n",
      "\n",
      "Term            C/F          F/R            nLevels\n",
      "intercept       factor       fixed                1\n",
      "\n",
      "MCMC Information:\n",
      "\n",
      "methods                                      BayesC\n",
      "chain_length                                  50000\n",
      "burnin                                         1000\n",
      "estimatePi                                     true\n",
      "starting_value                                false\n",
      "printout_frequency                            10000\n",
      "output_samples_frequency                          0\n",
      "constraint                                    false\n",
      "missing_phenotypes                            false\n",
      "update_priors_frequency                           0\n",
      "\n",
      "Hyper-parameters Information: \n",
      "\n",
      "residual variances:           \n",
      "  0.53   -0.225\n",
      " -0.225   0.572\n",
      "genetic variances (genomic):  \n",
      "  0.0  -0.0\n",
      " -0.0   0.0\n",
      "marker effect variances:      \n",
      "  0.0  -0.0\n",
      " -0.0   0.0\n",
      "Π:\n",
      "combinations          probability\n",
      "[0.0, 0.0]                   0.25\n",
      "[1.0, 0.0]                   0.25\n",
      "[1.0, 1.0]                   0.25\n",
      "[0.0, 1.0]                   0.25\n",
      "\n",
      "Degree of freedom for hyper-parameters:\n",
      "\n",
      "residual variances:                           4.000\n",
      "iid random effect variances:                  4.000\n",
      "marker effect variances:                      4.000\n",
      "\n",
      "\n",
      "\n"
     ]
    },
    {
     "name": "stderr",
     "output_type": "stream",
     "text": [
      "\u001b[32mrunning MCMC for BayesC... 20%|█████                    |  ETA: 0:03:55\u001b[39m"
     ]
    },
    {
     "name": "stdout",
     "output_type": "stream",
     "text": [
      "\n",
      "Posterior means at iteration: 10000\n",
      "Residual covariance matrix: \n",
      "[0.591412 0.029758; 0.029758 0.600261]\n",
      "Marker effects covariance matrix: \n",
      "[0.00061 -0.000456; -0.000456 0.000616]\n",
      "π: \n",
      "Dict([0.0, 0.0]=>0.139797,[1.0, 0.0]=>0.309296,[1.0, 1.0]=>0.271415,[0.0, 1.0]=>0.279492)\n",
      "\n"
     ]
    },
    {
     "name": "stderr",
     "output_type": "stream",
     "text": [
      "\u001b[32mrunning MCMC for BayesC... 40%|██████████               |  ETA: 0:03:04\u001b[39m"
     ]
    },
    {
     "name": "stdout",
     "output_type": "stream",
     "text": [
      "\n",
      "Posterior means at iteration: 20000\n",
      "Residual covariance matrix: \n",
      "[0.595917 0.023945; "
     ]
    },
    {
     "name": "stderr",
     "output_type": "stream",
     "text": [
      "\u001b[32mrunning MCMC for BayesC... 40%|██████████               |  ETA: 0:03:04\u001b[39m"
     ]
    },
    {
     "name": "stdout",
     "output_type": "stream",
     "text": [
      "0.023945 0.601396]\n",
      "Marker effects covariance matrix: \n",
      "[0.000558 -0.000375; -0.000375 0.000582]\n",
      "π: \n",
      "Dict([0.0, 0.0]=>0.129342,[1.0, 0.0]=>0.284054,[1.0, 1.0]=>0.337515,[0.0, 1.0]=>0.24909)\n",
      "\n"
     ]
    },
    {
     "name": "stderr",
     "output_type": "stream",
     "text": [
      "\u001b[32mrunning MCMC for BayesC... 60%|███████████████          |  ETA: 0:02:05\u001b[39m"
     ]
    },
    {
     "name": "stdout",
     "output_type": "stream",
     "text": [
      "\n",
      "Posterior means at iteration: 30000\n",
      "Residual covariance matrix: \n",
      "[0.597207 0.024467; 0.024467 0.601323]\n",
      "Marker effects covariance matrix: \n",
      "[0.00055 -0.000372; -0.000372 0.000578]\n",
      "π: \n",
      "Dict([0.0, 0.0]=>0.128186,[1.0, 0.0]=>0.283693,[1.0, 1.0]=>0.340346,[0.0, 1.0]=>0.247775)\n",
      "\n"
     ]
    },
    {
     "name": "stderr",
     "output_type": "stream",
     "text": [
      "\u001b[32mrunning MCMC for BayesC... 80%|████████████████████     |  ETA: 0:01:02\u001b[39m"
     ]
    },
    {
     "name": "stdout",
     "output_type": "stream",
     "text": [
      "\n",
      "Posterior means at iteration: 40000\n",
      "Residual covariance matrix: \n",
      "[0.593513 0.024857; 0.024857 0.598593]\n",
      "Marker effects covariance matrix: \n",
      "[0.000626 -0.000424; -0.000424 0."
     ]
    },
    {
     "name": "stderr",
     "output_type": "stream",
     "text": [
      "\u001b[32mrunning MCMC for BayesC... 80%|████████████████████     |  ETA: 0:01:02\u001b[39m"
     ]
    },
    {
     "name": "stdout",
     "output_type": "stream",
     "text": [
      "000593]\n",
      "π: \n",
      "Dict([0.0, 0.0]=>0.139269,[1.0, 0.0]=>0.277502,[1.0, 1.0]=>0.318453,[0.0, 1.0]=>0.264776)\n",
      "\n"
     ]
    },
    {
     "name": "stderr",
     "output_type": "stream",
     "text": [
      "\u001b[32mrunning MCMC for BayesC...100%|█████████████████████████|  ETA: 0:00:00\u001b[39m"
     ]
    },
    {
     "name": "stdout",
     "output_type": "stream",
     "text": [
      "\n",
      "Posterior means at iteration: 50000\n",
      "Residual covariance matrix: \n",
      "[0.598933 0.024412; 0.024412 0.599318]\n",
      "Marker effects covariance matrix: \n",
      "[0.000619 -0.000426; -0.000426 0.000591]\n",
      "π: \n",
      "Dict([0.0, 0.0]=>0.139337,[1.0, 0.0]=>0.270805,[1.0, 1.0]=>0.312421,[0.0, 1.0]=>0.277437)\n",
      "\n"
     ]
    },
    {
     "name": "stderr",
     "output_type": "stream",
     "text": [
      "\u001b[32mrunning MCMC for BayesC...100%|█████████████████████████| Time: 0:05:09\u001b[39m\n"
     ]
    },
    {
     "name": "stdout",
     "output_type": "stream",
     "text": [
      "\n",
      " Iteration: 4\n",
      "\n",
      "1279 markers on 300 individuals were added.\n",
      "\u001b[31mPhenotyped individuals are not a subset of either\u001b[39m\n",
      "\u001b[31mgenotyped individuals (complete genomic data,non-single-step) or\u001b[39m\n",
      "\u001b[31mindividuals in pedigree (incomplete genomic data, single-step).\u001b[39m\n",
      "\u001b[31mOnly individuals with both information are used in the analysis.\u001b[39m\n",
      "\u001b[32mPi (Π) is not provided.\u001b[39m\n",
      "\u001b[32mPi (Π) is generated assuming all markers have effects on all traits.\u001b[39m\n",
      "\n",
      "\n",
      "\n",
      "A Linear Mixed Model was build using model equations:\n",
      "\n",
      "y1 = intercept\n",
      "y2 = intercept\n",
      "\n",
      "Model Information:\n",
      "\n",
      "Term            C/F          F/R            nLevels\n",
      "intercept       factor       fixed                1\n",
      "\n",
      "MCMC Information:\n",
      "\n",
      "methods                                      BayesL\n",
      "chain_length                                  50000\n",
      "burnin                                         1000\n",
      "estimatePi                                    false\n",
      "starting_value                                false\n",
      "printout_frequency                            10000\n",
      "output_samples_frequency                          0\n",
      "constraint                                    false\n",
      "missing_phenotypes                            false\n",
      "update_priors_frequency                           0\n",
      "\n",
      "Hyper-parameters Information: \n",
      "\n",
      "residual variances:           \n",
      "  0.53   -0.225\n",
      " -0.225   0.572\n",
      "genetic variances (genomic):  \n",
      "  0.0  -0.0\n",
      " -0.0   0.0\n",
      "marker effect variances:      \n",
      "  0.0  -0.0\n",
      " -0.0   0.0\n",
      "Π:\n",
      "combinations          probability\n",
      "[0.0, 0.0]                    0.0\n",
      "[1.0, 0.0]                    0.0\n",
      "[1.0, 1.0]                    1.0\n",
      "[0.0, 1.0]                    0.0\n",
      "\n",
      "Degree of freedom for hyper-parameters:\n",
      "\n",
      "residual variances:                           4.000\n",
      "iid random effect variances:                  4.000\n",
      "marker effect variances:                      4.000\n",
      "\n",
      "\n",
      "\n"
     ]
    },
    {
     "name": "stderr",
     "output_type": "stream",
     "text": [
      "\u001b[32mrunning MCMC for BayesL... 20%|█████                    |  ETA: 0:01:58\u001b[39m"
     ]
    },
    {
     "name": "stdout",
     "output_type": "stream",
     "text": [
      "\n",
      "Posterior means at iteration: 10000\n",
      "Residual covariance matrix: \n",
      "[0.498371 0.113811; 0.113811 0.592338]\n",
      "Marker effects covariance matrix: \n",
      "[4.7e-5 -1.4e-5; -1.4e-5 2.8e-5]\n",
      "\n"
     ]
    },
    {
     "name": "stderr",
     "output_type": "stream",
     "text": [
      "\u001b[32mrunning MCMC for BayesL... 40%|██████████               |  ETA: 0:01:23\u001b[39m"
     ]
    },
    {
     "name": "stdout",
     "output_type": "stream",
     "text": [
      "\n",
      "Posterior means at iteration: 20000\n",
      "Residual covariance matrix: \n",
      "[0.502296 0.115579; 0.115579 0.59163]\n",
      "Marker effects covariance matrix: \n",
      "[4.7e-5 -1.4e-5; -1.4e-5 2.8e-5]\n",
      "\n"
     ]
    },
    {
     "name": "stderr",
     "output_type": "stream",
     "text": [
      "\u001b[32mrunning MCMC for BayesL... 60%|███████████████          |  ETA: 0:00:54\u001b[39m"
     ]
    },
    {
     "name": "stdout",
     "output_type": "stream",
     "text": [
      "\n",
      "Posterior means at iteration: 30000\n",
      "Residual covariance matrix: \n",
      "[0.506767 0.11555; 0.11555 0.5917]\n",
      "Marker effects covariance matrix: \n",
      "[4.5e-5 -1.4e-5; -1.4e-5 2.8e-5]\n",
      "\n"
     ]
    },
    {
     "name": "stderr",
     "output_type": "stream",
     "text": [
      "\u001b[32mrunning MCMC for BayesL... 80%|████████████████████     |  ETA: 0:00:26\u001b[39m"
     ]
    },
    {
     "name": "stdout",
     "output_type": "stream",
     "text": [
      "\n",
      "Posterior means at iteration: 40000\n",
      "Residual covariance matrix: \n",
      "[0.505675 0.116052; 0.116052 0.594121]\n",
      "Marker effects covariance matrix: \n",
      "[4.6e-5 -1.4e-5; -1.4e-5 2.8e-5]\n",
      "\n"
     ]
    },
    {
     "name": "stderr",
     "output_type": "stream",
     "text": [
      "\u001b[32mrunning MCMC for BayesL...100%|█████████████████████████|  ETA: 0:00:00\u001b[39m"
     ]
    },
    {
     "name": "stdout",
     "output_type": "stream",
     "text": [
      "\n",
      "Posterior means at iteration: 50000\n",
      "Residual covariance matrix: \n",
      "[0.506473 0.116761; 0.116761 0.594713]\n",
      "Marker effects covariance matrix: \n",
      "[4.6e-5 -1.4e-5; -1.4e-5 2.8e-5]\n",
      "\n",
      "1279 markers on 300 individuals were added.\n",
      "\u001b[31mPhenotyped individuals are not a subset of either\u001b[39m\n",
      "\u001b[31mgenotyped individuals (complete genomic data,non-single-step) or\u001b[39m\n",
      "\u001b[31mindividuals in pedigree (incomplete genomic data, single-step).\u001b[39m\n",
      "\u001b[31mOnly individuals with both information are used in the analysis.\u001b[39m\n",
      "\u001b[32mPi (Π) is not provided.\u001b[39m\n",
      "\u001b[32mPi (Π) is generated assuming all markers have effects on all traits.\u001b[39m\n",
      "\n",
      "\n",
      "\n",
      "A Linear Mixed Model was build using model equations:\n",
      "\n",
      "y1 = intercept\n",
      "y2 = intercept\n",
      "\n",
      "Model Information:\n",
      "\n",
      "Term            C/F          F/R            nLevels\n",
      "intercept       factor       fixed                1\n",
      "\n",
      "MCMC Information:\n",
      "\n",
      "methods                                     RR-BLUP\n",
      "chain_length                                  50000\n",
      "burnin                                         1000\n",
      "estimatePi                                    false\n",
      "starting_value                                false\n",
      "printout_frequency                            10000\n",
      "output_samples_frequency                          0\n",
      "constraint                                    false\n",
      "missing_phenotypes                            false\n",
      "update_priors_frequency          "
     ]
    },
    {
     "name": "stderr",
     "output_type": "stream",
     "text": [
      "\u001b[32mrunning MCMC for BayesL...100%|█████████████████████████| Time: 0:02:13\u001b[39m\n"
     ]
    },
    {
     "name": "stdout",
     "output_type": "stream",
     "text": [
      "                 0\n",
      "\n",
      "Hyper-parameters Information: \n",
      "\n",
      "residual variances:           \n",
      "  0.53   -0.225\n",
      " -0.225   0.572\n",
      "genetic variances (genomic):  \n",
      "  0.0  -0.0\n",
      " -0.0   0.0\n",
      "marker effect variances:      \n",
      "  0.0  -0.0\n",
      " -0.0   0.0\n",
      "Π:\n",
      "combinations          probability\n",
      "[0.0, 0.0]                    0.0\n",
      "[1.0, 0.0]                    0.0\n",
      "[1.0, 1.0]                    1.0\n",
      "[0.0, 1.0]                    0.0\n",
      "\n",
      "Degree of freedom for hyper-parameters:\n",
      "\n",
      "residual variances:                           4.000\n",
      "iid random effect variances:                  4.000\n",
      "marker effect variances:                      4.000\n",
      "\n",
      "\n",
      "\n"
     ]
    },
    {
     "name": "stderr",
     "output_type": "stream",
     "text": [
      "\u001b[32mrunning MCMC for RR-BLUP... 20%|█████                   |  ETA: 0:01:37\u001b[39m"
     ]
    },
    {
     "name": "stdout",
     "output_type": "stream",
     "text": [
      "\n",
      "Posterior means at iteration: 10000\n",
      "Residual covariance matrix: \n",
      "[0.511209 0.113233; 0.113233 0.591487]\n",
      "Marker effects covariance matrix: \n",
      "[0.000536 -0.000163; -0.000163 0.00034]\n",
      "\n"
     ]
    },
    {
     "name": "stderr",
     "output_type": "stream",
     "text": [
      "\u001b[32mrunning MCMC for RR-BLUP... 40%|██████████              |  ETA: 0:01:12\u001b[39m"
     ]
    },
    {
     "name": "stdout",
     "output_type": "stream",
     "text": [
      "\n",
      "Posterior means at iteration: 20000\n",
      "Residual covariance matrix: \n",
      "[0.510209 0.115769; 0.115769 0.59361]\n",
      "Marker effects covariance matrix: \n",
      "[0.00054 -0.000166; -0.000166 0.00034]\n",
      "\n"
     ]
    },
    {
     "name": "stderr",
     "output_type": "stream",
     "text": [
      "\u001b[32mrunning MCMC for RR-BLUP... 60%|██████████████          |  ETA: 0:00:46\u001b[39m"
     ]
    },
    {
     "name": "stdout",
     "output_type": "stream",
     "text": [
      "\n",
      "Posterior means at iteration: 30000\n",
      "Residual covariance matrix: \n",
      "[0.510148 0.113958; 0.113958 0.594829]\n",
      "Marker effects covariance matrix: \n",
      "[0.00054 -0.000161; -0.000161 0.000337]\n",
      "\n"
     ]
    },
    {
     "name": "stderr",
     "output_type": "stream",
     "text": [
      "\u001b[32mrunning MCMC for RR-BLUP... 80%|███████████████████     |  ETA: 0:00:23\u001b[39m"
     ]
    },
    {
     "name": "stdout",
     "output_type": "stream",
     "text": [
      "\n",
      "Posterior means at iteration: 40000\n",
      "Residual covariance matrix: \n",
      "[0.510547 0.114813; 0.114813 0.594547]\n",
      "Marker effects covariance matrix: \n",
      "[0.000539 -0.000162; -0.000162 0.000338]\n",
      "\n"
     ]
    },
    {
     "name": "stderr",
     "output_type": "stream",
     "text": [
      "\u001b[32mrunning MCMC for RR-BLUP...100%|████████████████████████|  ETA: 0:00:00\u001b[39m"
     ]
    },
    {
     "name": "stdout",
     "output_type": "stream",
     "text": [
      "\n",
      "Posterior means at iteration: 50000\n",
      "Residual covariance matrix: \n",
      "[0.509981 0.116403; 0.116403 0.594772]\n",
      "Marker effects covariance matrix: \n",
      "[0.00054 -0.000165; -0.000165 0.000338]\n",
      "\n"
     ]
    },
    {
     "name": "stderr",
     "output_type": "stream",
     "text": [
      "\u001b[32mrunning MCMC for RR-BLUP...100%|████████████████████████| Time: 0:01:57\u001b[39m\n"
     ]
    },
    {
     "name": "stdout",
     "output_type": "stream",
     "text": [
      "1279 markers on 300 individuals were added.\n",
      "\u001b[31mPhenotyped individuals are not a subset of either\u001b[39m\n",
      "\u001b[31mgenotyped individuals (complete genomic data,non-single-step) or\u001b[39m\n",
      "\u001b[31mindividuals in pedigree (incomplete genomic data, single-step).\u001b[39m\n",
      "\u001b[31mOnly individuals with both information are used in the analysis.\u001b[39m\n",
      "\n",
      "\n",
      "\n",
      "A Linear Mixed Model was build using model equations:\n",
      "\n",
      "y1 = intercept\n",
      "y2 = intercept\n",
      "\n",
      "Model Information:\n",
      "\n",
      "Term            C/F          F/R            nLevels\n",
      "intercept       factor       fixed                1\n",
      "\n",
      "MCMC Information:\n",
      "\n",
      "methods                                      BayesC\n",
      "chain_length                                  50000\n",
      "burnin                                         1000\n",
      "estimatePi                                     true\n",
      "starting_value                                false\n",
      "printout_frequency                            10000\n",
      "output_samples_frequency                          0\n",
      "constraint                                    false\n",
      "missing_phenotypes                            false\n",
      "update_priors_frequency                           0\n",
      "\n",
      "Hyper-parameters Information: \n",
      "\n",
      "residual variances:           \n",
      "  0.53   -0.225\n",
      " -0.225   0.572\n",
      "genetic variances (genomic):  \n",
      "  0.0  -0.0\n",
      " -0.0   0.0\n",
      "marker effect variances:      \n",
      "  0.0  -0.0\n",
      " -0.0   0.0\n",
      "Π:\n",
      "combinations          probability\n",
      "[0.0, 0.0]                   0.25\n",
      "[1.0, 0.0]                   0.25\n",
      "[1.0, 1.0]                   0.25\n",
      "[0.0, 1.0]                   0.25\n",
      "\n",
      "Degree of freedom for hyper-parameters:\n",
      "\n",
      "residual variances:                           4.000\n",
      "iid random effect variances:                  4.000\n",
      "marker effect variances:                      4.000\n",
      "\n",
      "\n",
      "\n"
     ]
    },
    {
     "name": "stderr",
     "output_type": "stream",
     "text": [
      "\u001b[32mrunning MCMC for BayesC... 20%|█████                    |  ETA: 0:03:55\u001b[39m"
     ]
    },
    {
     "name": "stdout",
     "output_type": "stream",
     "text": [
      "\n",
      "Posterior means at iteration: 10000\n",
      "Residual covariance matrix: \n",
      "[0.498289 0.109685; 0.109685 0.580322]\n",
      "Marker effects covariance matrix: \n",
      "[0.000984 -0.00085; -0.00085 0.00096]\n",
      "π: \n",
      "Dict([0.0, 0.0]=>0.17473,[1.0, 0.0]=>0.411371,[1.0, 1.0]=>0.210096,[0.0, 1.0]=>0.203804)\n",
      "\n"
     ]
    },
    {
     "name": "stderr",
     "output_type": "stream",
     "text": [
      "\u001b[32mrunning MCMC for BayesC... 40%|██████████               |  ETA: 0:03:06\u001b[39m"
     ]
    },
    {
     "name": "stdout",
     "output_type": "stream",
     "text": [
      "\n",
      "Posterior means at iteration: 20000\n",
      "Residual covariance matrix: \n",
      "[0.505581 0.110081; 0.110081 0.582484]\n",
      "Marker effects covariance matrix: \n",
      "[0.000913 -0.000738; -0.000738 0.000873]\n",
      "π: \n",
      "Dict([0.0, 0.0]=>0.147237,[1.0, 0.0]=>0.388058,[1.0, 1.0]=>0.250544,[0.0, 1.0]=>0.214161)\n",
      "\n"
     ]
    },
    {
     "name": "stderr",
     "output_type": "stream",
     "text": [
      "\u001b[32mrunning MCMC for BayesC... 60%|███████████████          |  ETA: 0:02:08\u001b[39m"
     ]
    },
    {
     "name": "stdout",
     "output_type": "stream",
     "text": [
      "\n",
      "Posterior means at iteration: 30000\n",
      "Residual covariance matrix: \n",
      "[0.507848 0.11193; 0.11193 0.585315]\n",
      "Marker effects covariance matrix: \n",
      "[0.000916 -0.00069; -0.00069 0.000793]\n",
      "π: \n",
      "Dict([0.0, 0.0]=>0.142834,[1.0, 0.0]=>0.356679,[1.0, 1.0]=>0.268216,[0.0, 1.0]=>0.23227)\n",
      "\n"
     ]
    },
    {
     "name": "stderr",
     "output_type": "stream",
     "text": [
      "\u001b[32mrunning MCMC for BayesC... 80%|████████████████████     |  ETA: 0:01:03\u001b[39m"
     ]
    },
    {
     "name": "stdout",
     "output_type": "stream",
     "text": [
      "\n",
      "Posterior means at iteration: 40000\n",
      "Residual covariance matrix: \n",
      "[0.507645 0.111246; 0.111246 0.587681]\n",
      "Marker effects covariance matrix: \n",
      "[0.000953 -0.000649; -0.000649 0.000744]\n",
      "π: \n",
      "Dict([0.0, 0.0]=>0.135301,[1.0, 0.0]=>0.330464,[1.0, 1.0]=>0.287183,[0.0, 1.0]=>0.247052)\n",
      "\n"
     ]
    },
    {
     "name": "stderr",
     "output_type": "stream",
     "text": [
      "\u001b[32mrunning MCMC for BayesC...100%|█████████████████████████|  ETA: 0:00:00\u001b[39m"
     ]
    },
    {
     "name": "stdout",
     "output_type": "stream",
     "text": [
      "\n",
      "Posterior means at iteration: 50000\n",
      "Residual covariance matrix: \n",
      "[0.506085 0.111403; 0.111403 0.589286]\n",
      "Marker effects covariance matrix: \n",
      "[0.000978 -0.000675; -0.000675 0.000758]\n",
      "π: \n",
      "Dict([0.0, 0.0]=>0.153898,[1.0, 0.0]=>0.325145,[1.0, 1.0]=>0.283219,[0.0, 1.0]=>0.237738)\n",
      "\n"
     ]
    },
    {
     "name": "stderr",
     "output_type": "stream",
     "text": [
      "\u001b[32mrunning MCMC for BayesC...100%|█████████████████████████| Time: 0:05:12\u001b[39m\n"
     ]
    },
    {
     "name": "stdout",
     "output_type": "stream",
     "text": [
      "\n",
      " Iteration: 5\n",
      "\n",
      "1279 markers on 300 individuals were added.\n",
      "\u001b[31mPhenotyped individuals are not a subset of either\u001b[39m\n",
      "\u001b[31mgenotyped individuals (complete genomic data,non-single-step) or\u001b[39m\n",
      "\u001b[31mindividuals in pedigree (incomplete genomic data, single-step).\u001b[39m\n",
      "\u001b[31mOnly individuals with both information are used in the analysis.\u001b[39m\n",
      "\u001b[32mPi (Π) is not provided.\u001b[39m\n",
      "\u001b[32mPi (Π) is generated assuming all markers have effects on all traits.\u001b[39m\n",
      "\n",
      "\n",
      "\n",
      "A Linear Mixed Model was build using model equations:\n",
      "\n",
      "y1 = intercept\n",
      "y2 = intercept\n",
      "\n",
      "Model Information:\n",
      "\n",
      "Term            C/F          F/R            nLevels\n",
      "intercept       factor       fixed                1\n",
      "\n",
      "MCMC Information:\n",
      "\n",
      "methods                                      BayesL\n",
      "chain_length                                  50000\n",
      "burnin                                         1000\n",
      "estimatePi                                    false\n",
      "starting_value                                false\n",
      "printout_frequency                            10000\n",
      "output_samples_frequency                          0\n",
      "constraint                                    false\n",
      "missing_phenotypes                            false\n",
      "update_priors_frequency                           0\n",
      "\n",
      "Hyper-parameters Information: \n",
      "\n",
      "residual variances:           \n",
      "  0.53   -0.225\n",
      " -0.225   0.572\n",
      "genetic variances (genomic):  \n",
      "  0.0  -0.0\n",
      " -0.0   0.0\n",
      "marker effect variances:      \n",
      "  0.0  -0.0\n",
      " -0.0   0.0\n",
      "Π:\n",
      "combinations          probability\n",
      "[0.0, 0.0]                    0.0\n",
      "[1.0, 0.0]                    0.0\n",
      "[1.0, 1.0]                    1.0\n",
      "[0.0, 1.0]                    0.0\n",
      "\n",
      "Degree of freedom for hyper-parameters:\n",
      "\n",
      "residual variances:                           4.000\n",
      "iid random effect variances:                  4.000\n",
      "marker effect variances:                      4.000\n",
      "\n",
      "\n",
      "\n"
     ]
    },
    {
     "name": "stderr",
     "output_type": "stream",
     "text": [
      "\u001b[32mrunning MCMC for BayesL... 20%|█████                    |  ETA: 0:01:47\u001b[39m"
     ]
    },
    {
     "name": "stdout",
     "output_type": "stream",
     "text": [
      "\n",
      "Posterior means at iteration: 10000\n",
      "Residual covariance matrix: \n",
      "[0.467132 0.084951; 0.084951 0.517216]\n",
      "Marker effects covariance matrix: \n",
      "[3.9e-5 -7.0e-6; -7.0e-6 2.4e-5]\n",
      "\n"
     ]
    },
    {
     "name": "stderr",
     "output_type": "stream",
     "text": [
      "\u001b[32mrunning MCMC for BayesL... 40%|██████████               |  ETA: 0:01:23\u001b[39m"
     ]
    },
    {
     "name": "stdout",
     "output_type": "stream",
     "text": [
      "\n",
      "Posterior means at iteration: 20000\n",
      "Residual covariance matrix: \n",
      "[0.466517 0.086281; 0.086281 0.519811]\n",
      "Marker effects covariance matrix: \n",
      "[3.9e-5 -7.0e-6; -7.0e-6 2.3e-5]\n",
      "\n"
     ]
    },
    {
     "name": "stderr",
     "output_type": "stream",
     "text": [
      "\u001b[32mrunning MCMC for BayesL... 60%|███████████████          |  ETA: 0:01:00\u001b[39m"
     ]
    },
    {
     "name": "stdout",
     "output_type": "stream",
     "text": [
      "\n",
      "Posterior means at iteration: 30000\n",
      "Residual covariance matrix: \n",
      "[0.463488 0.086342; 0.086342 0.520792]\n",
      "Marker effects covariance matrix: \n",
      "[3.9e-5 -7.0e-6; -7.0e-6 2.3e-5]\n",
      "\n"
     ]
    },
    {
     "name": "stderr",
     "output_type": "stream",
     "text": [
      "\u001b[32mrunning MCMC for BayesL... 80%|████████████████████     |  ETA: 0:00:30\u001b[39m"
     ]
    },
    {
     "name": "stdout",
     "output_type": "stream",
     "text": [
      "\n",
      "Posterior means at iteration: 40000\n",
      "Residual covariance matrix: \n",
      "[0.464439 0.086213; 0.086213 0.520997]\n",
      "Marker effects covariance matrix: \n",
      "[3.9e-5 -7.0e-6; -7.0e-6 2.3e-5]\n",
      "\n"
     ]
    },
    {
     "name": "stderr",
     "output_type": "stream",
     "text": [
      "\u001b[32mrunning MCMC for BayesL...100%|█████████████████████████|  ETA: 0:00:00\u001b[39m"
     ]
    },
    {
     "name": "stdout",
     "output_type": "stream",
     "text": [
      "\n",
      "Posterior means at iteration: 50000\n",
      "Residual covariance matrix: \n",
      "[0.464214 0.085974; 0.085974 0.520066]\n",
      "Marker effects covariance matrix: \n",
      "[3.9e-5 -7.0e-6; -7.0e-6 2.3e-5]\n",
      "\n"
     ]
    },
    {
     "name": "stderr",
     "output_type": "stream",
     "text": [
      "\u001b[32mrunning MCMC for BayesL...100%|█████████████████████████| Time: 0:02:28\u001b[39m\n"
     ]
    },
    {
     "name": "stdout",
     "output_type": "stream",
     "text": [
      "1279 markers on 300 individuals were added.\n",
      "\u001b[31mPhenotyped individuals are not a subset of either\u001b[39m\n",
      "\u001b[31mgenotyped individuals (complete genomic data,non-single-step) or\u001b[39m\n",
      "\u001b[31mindividuals in pedigree (incomplete genomic data, single-step).\u001b[39m\n",
      "\u001b[31mOnly individuals with both information are used in the analysis.\u001b[39m\n",
      "\u001b[32mPi (Π) is not provided.\u001b[39m\n",
      "\u001b[32mPi (Π) is generated assuming all markers have effects on all traits.\u001b[39m\n",
      "\n",
      "\n",
      "\n",
      "A Linear Mixed Model was build using model equations:\n",
      "\n",
      "y1 = intercept\n",
      "y2 = intercept\n",
      "\n",
      "Model Information:\n",
      "\n",
      "Term            C/F          F/R            nLevels\n",
      "intercept       factor       fixed                1\n",
      "\n",
      "MCMC Information:\n",
      "\n",
      "methods                                     RR-BLUP\n",
      "chain_length                                  50000\n",
      "burnin                                         1000\n",
      "estimatePi                                    false\n",
      "starting_value                                false\n",
      "printout_frequency                            10000\n",
      "output_samples_frequency                          0\n",
      "constraint                                    false\n",
      "missing_phenotypes                            false\n",
      "update_priors_frequency                           0\n",
      "\n",
      "Hyper-parameters Information: \n",
      "\n",
      "residual variances:           \n",
      "  0.53   -0.225\n",
      " -0.225   0.572\n",
      "genetic variances (genomic):  \n",
      "  0.0  -0.0\n",
      " -0.0   0.0\n",
      "marker effect variances:      \n",
      "  0.0  -0.0\n",
      " -0.0   0.0\n",
      "Π:\n",
      "combinations          probability\n",
      "[0.0, 0.0]                    0.0\n",
      "[1.0, 0.0]                    0.0\n",
      "[1.0, 1.0]                    1.0\n",
      "[0.0, 1.0]                    0.0\n",
      "\n",
      "Degree of freedom for hyper-parameters:\n",
      "\n",
      "residual variances:                           4.000\n",
      "iid random effect variances:                  4.000\n",
      "marker effect variances:                      4.000\n",
      "\n",
      "\n",
      "\n"
     ]
    },
    {
     "name": "stderr",
     "output_type": "stream",
     "text": [
      "\u001b[32mrunning MCMC for RR-BLUP... 20%|█████                   |  ETA: 0:01:28\u001b[39m"
     ]
    },
    {
     "name": "stdout",
     "output_type": "stream",
     "text": [
      "\n",
      "Posterior means at iteration: 10000\n",
      "Residual covariance matrix: \n",
      "[0.45676 0.085231; 0.085231 0.523022]\n",
      "Marker effects covariance matrix: \n",
      "[0.000487 -8.4e-5; -8.4e-5 0.000276]\n",
      "\n"
     ]
    },
    {
     "name": "stderr",
     "output_type": "stream",
     "text": [
      "\u001b[32mrunning MCMC for RR-BLUP... 40%|██████████              |  ETA: 0:01:07\u001b[39m"
     ]
    },
    {
     "name": "stdout",
     "output_type": "stream",
     "text": [
      "\n",
      "Posterior means at iteration: 20000\n",
      "Residual covariance matrix: \n",
      "[0.455755 0.086207; 0.086207 0.522253]\n",
      "Marker effects covariance matrix: \n",
      "[0.000491 -8.7e-5; -8.7e-5 0.000277]\n",
      "\n"
     ]
    },
    {
     "name": "stderr",
     "output_type": "stream",
     "text": [
      "\u001b[32mrunning MCMC for RR-BLUP... 60%|██████████████          |  ETA: 0:00:46\u001b[39m"
     ]
    },
    {
     "name": "stdout",
     "output_type": "stream",
     "text": [
      "\n",
      "Posterior means at iteration: 30000\n",
      "Residual covariance matrix: \n",
      "[0.457073 0.085969; 0.085969 0.521531]\n",
      "Marker effects covariance matrix: \n",
      "[0.000489 -8.5e-5; -8.5e-5 0.000279]\n",
      "\n"
     ]
    },
    {
     "name": "stderr",
     "output_type": "stream",
     "text": [
      "\u001b[32mrunning MCMC for RR-BLUP... 80%|███████████████████     |  ETA: 0:00:23\u001b[39m"
     ]
    },
    {
     "name": "stdout",
     "output_type": "stream",
     "text": [
      "\n",
      "Posterior means at iteration: 40000\n",
      "Residual covariance matrix: \n",
      "[0.457208 0.085726; 0.085726 0.520557]\n",
      "Marker effects covariance matrix: \n",
      "[0.000488 -8.5e-5; -8.5e-5 0.000281]\n",
      "\n"
     ]
    },
    {
     "name": "stderr",
     "output_type": "stream",
     "text": [
      "\u001b[32mrunning MCMC for RR-BLUP...100%|████████████████████████|  ETA: 0:00:00\u001b[39m"
     ]
    },
    {
     "name": "stdout",
     "output_type": "stream",
     "text": [
      "\n",
      "Posterior means at iteration: 50000\n",
      "Residual covariance matrix: \n",
      "[0.457444 0.085519; 0.085519 0.520386]\n",
      "Marker effects covariance matrix: \n",
      "[0.000486 -8.4e-5; -8.4e-5 0.000281]\n",
      "\n"
     ]
    },
    {
     "name": "stderr",
     "output_type": "stream",
     "text": [
      "\u001b[32mrunning MCMC for RR-BLUP...100%|████████████████████████| Time: 0:01:52\u001b[39m\n"
     ]
    },
    {
     "name": "stdout",
     "output_type": "stream",
     "text": [
      "1279 markers on 300 individuals were added.\n",
      "\u001b[31mPhenotyped individuals are not a subset of either\u001b[39m\n",
      "\u001b[31mgenotyped individuals (complete genomic data,non-single-step) or\u001b[39m\n",
      "\u001b[31mindividuals in pedigree (incomplete genomic data, single-step).\u001b[39m\n",
      "\u001b[31mOnly individuals with both information are used in the analysis.\u001b[39m\n",
      "\n",
      "\n",
      "\n",
      "A Linear Mixed Model was build using model equations:\n",
      "\n",
      "y1 = intercept\n",
      "y2 = intercept\n",
      "\n",
      "Model Information:\n",
      "\n",
      "Term            C/F          F/R            nLevels\n",
      "intercept       factor       fixed                1\n",
      "\n",
      "MCMC Information:\n",
      "\n",
      "methods                                      BayesC\n",
      "chain_length                                  50000\n",
      "burnin                                         1000\n",
      "estimatePi                                     true\n",
      "starting_value                                false\n",
      "printout_frequency                            10000\n",
      "output_samples_frequency                          0\n",
      "constraint                                    false\n",
      "missing_phenotypes                            false\n",
      "update_priors_frequency                           0\n",
      "\n",
      "Hyper-parameters Information: \n",
      "\n",
      "residual variances:           \n",
      "  0.53   -0.225\n",
      " -0.225   0.572\n",
      "genetic variances (genomic):  \n",
      "  0.0  -0.0\n",
      " -0.0   0.0\n",
      "marker effect variances:      \n",
      "  0.0  -0.0\n",
      " -0.0   0.0\n",
      "Π:\n",
      "combinations          probability\n",
      "[0.0, 0.0]                   0.25\n",
      "[1.0, 0.0]                   0.25\n",
      "[1.0, 1.0]                   0.25\n",
      "[0.0, 1.0]                   0.25\n",
      "\n",
      "Degree of freedom for hyper-parameters:\n",
      "\n",
      "residual variances:                           4.000\n",
      "iid random effect variances:                  4.000\n",
      "marker effect variances:                      4.000\n",
      "\n",
      "\n",
      "\n"
     ]
    },
    {
     "name": "stderr",
     "output_type": "stream",
     "text": [
      "\u001b[32mrunning MCMC for BayesC... 20%|█████                    |  ETA: 0:04:02\u001b[39m"
     ]
    },
    {
     "name": "stdout",
     "output_type": "stream",
     "text": [
      "\n",
      "Posterior means at iteration: 10000\n",
      "Residual covariance matrix: \n",
      "[0.459708 0.093306; 0.093306 0.524928]\n",
      "Marker effects covariance matrix: \n",
      "[0.000801 -0.000549; -0.000549 0.000688]\n",
      "π: \n",
      "Dict([0.0, 0.0]=>0.134502,[1.0, 0.0]=>0.4299,[1.0, 1.0]=>0.21939,[0.0, 1.0]=>0.216207)\n",
      "\n"
     ]
    },
    {
     "name": "stderr",
     "output_type": "stream",
     "text": [
      "\u001b[32mrunning MCMC for BayesC... 40%|██████████               |  ETA: 0:03:01\u001b[39m"
     ]
    },
    {
     "name": "stdout",
     "output_type": "stream",
     "text": [
      "\n",
      "Posterior means at iteration: 20000\n",
      "Residual covariance matrix: \n",
      "[0.456761 0.09168; 0.09168 0.525658]\n",
      "Marker effects covariance matrix: \n",
      "[0.000803 -0.000491; -0.000491 0.000634]\n",
      "π: \n",
      "Dict([0.0, 0.0]=>0.135929,[1.0, 0.0]=>0.376062,[1.0, 1.0]=>0.277268,[0.0, 1.0]=>0.210742)\n",
      "\n"
     ]
    },
    {
     "name": "stderr",
     "output_type": "stream",
     "text": [
      "\u001b[32mrunning MCMC for BayesC... 60%|███████████████          |  ETA: 0:02:00\u001b[39m"
     ]
    },
    {
     "name": "stdout",
     "output_type": "stream",
     "text": [
      "\n",
      "Posterior means at iteration: 30000\n",
      "Residual covariance matrix: \n",
      "[0.458137 0.090044; 0.090044 0.52614]\n",
      "Marker effects covariance matrix: \n",
      "[0.000786 -0.00045; -0.00045 0.000599]\n",
      "π: \n",
      "Dict([0.0, 0.0]=>0.130187,[1.0, 0.0]=>0.351505,[1.0, 1.0]=>0.313347,[0.0, 1.0]=>0.20496)\n",
      "\n"
     ]
    },
    {
     "name": "stderr",
     "output_type": "stream",
     "text": [
      "\u001b[32mrunning MCMC for BayesC... 80%|████████████████████     |  ETA: 0:01:00\u001b[39m"
     ]
    },
    {
     "name": "stdout",
     "output_type": "stream",
     "text": [
      "\n",
      "Posterior means at iteration: 40000\n",
      "Residual covariance matrix: \n",
      "[0.459959 0.089971; 0.089971 0.524429]\n",
      "Marker effects covariance matrix: \n",
      "[0.000797 -0.000434; -0.000434 0.000581]\n",
      "π: \n",
      "Dict([0.0, 0.0]=>0.135738,[1.0, 0.0]=>0.332634,[1.0, 1.0]=>0.318578,[0.0, 1.0]=>0.213051)\n",
      "\n"
     ]
    },
    {
     "name": "stderr",
     "output_type": "stream",
     "text": [
      "\u001b[32mrunning MCMC for BayesC...100%|█████████████████████████|  ETA: 0:00:00\u001b[39m"
     ]
    },
    {
     "name": "stdout",
     "output_type": "stream",
     "text": [
      "\n",
      "Posterior means at iteration: 50000\n",
      "Residual covariance matrix: \n",
      "[0.459747 0.089448; 0.089448 0.523793]\n",
      "Marker effects covariance matrix: \n",
      "[0.000809 -0.000438; -0.000438 0.000581]\n",
      "π: \n",
      "Dict([0.0, 0.0]=>0.137111,[1.0, 0.0]=>0.330217,[1.0, 1.0]=>0.316433,[0.0, 1.0]=>0.21624)\n",
      "\n"
     ]
    },
    {
     "name": "stderr",
     "output_type": "stream",
     "text": [
      "\u001b[32mrunning MCMC for BayesC...100%|█████████████████████████| Time: 0:04:60\u001b[39m\n"
     ]
    },
    {
     "name": "stdout",
     "output_type": "stream",
     "text": [
      "\n",
      " Iteration: 6\n",
      "\n",
      "1279 markers on 300 individuals were added.\n",
      "\u001b[31mPhenotyped individuals are not a subset of either\u001b[39m\n",
      "\u001b[31mgenotyped individuals (complete genomic data,non-single-step) or\u001b[39m\n",
      "\u001b[31mindividuals in pedigree (incomplete genomic data, single-step).\u001b[39m\n",
      "\u001b[31mOnly individuals with both information are used in the analysis.\u001b[39m\n",
      "\u001b[32mPi (Π) is not provided.\u001b[39m\n",
      "\u001b[32mPi (Π) is generated assuming all markers have effects on all traits.\u001b[39m\n",
      "\n",
      "\n",
      "\n",
      "A Linear Mixed Model was build using model equations:\n",
      "\n",
      "y1 = intercept\n",
      "y2 = intercept\n",
      "\n",
      "Model Information:\n",
      "\n",
      "Term            C/F          F/R            nLevels\n",
      "intercept       factor       fixed                1\n",
      "\n",
      "MCMC Information:\n",
      "\n",
      "methods                                      BayesL\n",
      "chain_length                                  50000\n",
      "burnin                                         1000\n",
      "estimatePi                                    false\n",
      "starting_value                                false\n",
      "printout_frequency                            10000\n",
      "output_samples_frequency                          0\n",
      "constraint                                    false\n",
      "missing_phenotypes                            false\n",
      "update_priors_frequency                           0\n",
      "\n",
      "Hyper-parameters Information: \n",
      "\n",
      "residual variances:           \n",
      "  0.53   -0.225\n",
      " -0.225   0.572\n",
      "genetic variances (genomic):  \n",
      "  0.0  -0.0\n",
      " -0.0   0.0\n",
      "marker effect variances:      \n",
      "  0.0  -0.0\n",
      " -0.0   0.0\n",
      "Π:\n",
      "combinations          probability\n",
      "[0.0, 0.0]                    0.0\n",
      "[1.0, 0.0]                    0.0\n",
      "[1.0, 1.0]                    1.0\n",
      "[0.0, 1.0]                    0.0\n",
      "\n",
      "Degree of freedom for hyper-parameters:\n",
      "\n",
      "residual variances:                           4.000\n",
      "iid random effect variances:                  4.000\n",
      "marker effect variances:                      4.000\n",
      "\n",
      "\n",
      "\n"
     ]
    },
    {
     "name": "stderr",
     "output_type": "stream",
     "text": [
      "\u001b[32mrunning MCMC for BayesL... 20%|█████                    |  ETA: 0:01:45\u001b[39m"
     ]
    },
    {
     "name": "stdout",
     "output_type": "stream",
     "text": [
      "\n",
      "Posterior means at iteration: 10000\n",
      "Residual covariance matrix: \n",
      "[0.491324 0.074028; 0.074028 0.606621]\n",
      "Marker effects covariance matrix: \n",
      "[3.8e-5 -7.0e-6; -7.0e-6 2.1e-5]\n",
      "\n"
     ]
    },
    {
     "name": "stderr",
     "output_type": "stream",
     "text": [
      "\u001b[32mrunning MCMC for BayesL... 40%|██████████               |  ETA: 0:01:18\u001b[39m"
     ]
    },
    {
     "name": "stdout",
     "output_type": "stream",
     "text": [
      "\n",
      "Posterior means at iteration: 20000\n",
      "Residual covariance matrix: \n",
      "[0.491653 0.075707; 0.075707 0.601906]\n",
      "Marker effects covariance matrix: \n",
      "[3.8e-5 -7.0e-6; -7.0e-6 2.2e-5]\n",
      "\n"
     ]
    },
    {
     "name": "stderr",
     "output_type": "stream",
     "text": [
      "\u001b[32mrunning MCMC for BayesL... 60%|███████████████          |  ETA: 0:00:52\u001b[39m"
     ]
    },
    {
     "name": "stdout",
     "output_type": "stream",
     "text": [
      "\n",
      "Posterior means at iteration: 30000\n",
      "Residual covariance matrix: \n",
      "[0.491614 0.075654; 0.075654 0.601787]\n",
      "Marker effects covariance matrix: \n",
      "[3.8e-5 -7.0e-6; -7.0e-6 2.2e-5]\n",
      "\n"
     ]
    },
    {
     "name": "stderr",
     "output_type": "stream",
     "text": [
      "\u001b[32mrunning MCMC for BayesL... 80%|████████████████████     |  ETA: 0:00:26\u001b[39m"
     ]
    },
    {
     "name": "stdout",
     "output_type": "stream",
     "text": [
      "\n",
      "Posterior means at iteration: 40000\n",
      "Residual covariance matrix: \n",
      "[0.491185 0.076661; 0.076661 0.602488]\n",
      "Marker effects covariance matrix: \n",
      "[3.8e-5 -7.0e-6; -7.0e-6 2.2e-5]\n",
      "\n"
     ]
    },
    {
     "name": "stderr",
     "output_type": "stream",
     "text": [
      "\u001b[32mrunning MCMC for BayesL...100%|█████████████████████████|  ETA: 0:00:00\u001b[39m"
     ]
    },
    {
     "name": "stdout",
     "output_type": "stream",
     "text": [
      "\n",
      "Posterior means at iteration: 50000\n",
      "Residual covariance matrix: \n",
      "[0.49257 0.076992; 0.076992 0.602531]\n",
      "Marker effects covariance matrix: \n",
      "[3.8e-5 -7.0e-6; -7.0e-6 2.2e-5]\n",
      "\n"
     ]
    },
    {
     "name": "stderr",
     "output_type": "stream",
     "text": [
      "\u001b[32mrunning MCMC for BayesL...100%|█████████████████████████| Time: 0:02:08\u001b[39m\n"
     ]
    },
    {
     "name": "stdout",
     "output_type": "stream",
     "text": [
      "1279 markers on 300 individuals were added.\n",
      "\u001b[31mPhenotyped individuals are not a subset of either\u001b[39m\n",
      "\u001b[31mgenotyped individuals (complete genomic data,non-single-step) or\u001b[39m\n",
      "\u001b[31mindividuals in pedigree (incomplete genomic data, single-step).\u001b[39m\n",
      "\u001b[31mOnly individuals with both information are used in the analysis.\u001b[39m\n",
      "\u001b[32mPi (Π) is not provided.\u001b[39m\n",
      "\u001b[32mPi (Π) is generated assuming all markers have effects on all traits.\u001b[39m\n",
      "\n",
      "\n",
      "\n",
      "A Linear Mixed Model was build using model equations:\n",
      "\n",
      "y1 = intercept\n",
      "y2 = intercept\n",
      "\n",
      "Model Information:\n",
      "\n",
      "Term            C/F          F/R            nLevels\n",
      "intercept       factor       fixed                1\n",
      "\n",
      "MCMC Information:\n",
      "\n",
      "methods                                     RR-BLUP\n",
      "chain_length                                  50000\n",
      "burnin                                         1000\n",
      "estimatePi                                    false\n",
      "starting_value                                false\n",
      "printout_frequency                            10000\n",
      "output_samples_frequency                          0\n",
      "constraint                                    false\n",
      "missing_phenotypes                            false\n",
      "update_priors_frequency                           0\n",
      "\n",
      "Hyper-parameters Information: \n",
      "\n",
      "residual variances:           \n",
      "  0.53   -0.225\n",
      " -0.225   0.572\n",
      "genetic variances (genomic):  \n",
      "  0.0  -0.0\n",
      " -0.0   0.0\n",
      "marker effect variances:      \n",
      "  0.0  -0.0\n",
      " -0.0   0.0\n",
      "Π:\n",
      "combinations          probability\n",
      "[0.0, 0.0]                    0.0\n",
      "[1.0, 0.0]                    0.0\n",
      "[1.0, 1.0]                    1.0\n",
      "[0.0, 1.0]                    0.0\n",
      "\n",
      "Degree of freedom for hyper-parameters:\n",
      "\n",
      "residual variances:                           4.000\n",
      "iid random effect variances:                  4.000\n",
      "marker effect variances:                      4.000\n",
      "\n",
      "\n",
      "\n"
     ]
    },
    {
     "name": "stderr",
     "output_type": "stream",
     "text": [
      "\u001b[32mrunning MCMC for RR-BLUP... 20%|█████                   |  ETA: 0:01:35\u001b[39m"
     ]
    },
    {
     "name": "stdout",
     "output_type": "stream",
     "text": [
      "\n",
      "Posterior means at iteration: 10000\n",
      "Residual covariance matrix: \n",
      "[0.487513 0.079938; 0.079938 0.605955]\n",
      "Marker effects covariance matrix: \n",
      "[0.000472 -9.3e-5; -9.3e-5 0.000252]\n",
      "\n"
     ]
    },
    {
     "name": "stderr",
     "output_type": "stream",
     "text": [
      "\u001b[32mrunning MCMC for RR-BLUP... 40%|██████████              |  ETA: 0:01:08\u001b[39m"
     ]
    },
    {
     "name": "stdout",
     "output_type": "stream",
     "text": [
      "\n",
      "Posterior means at iteration: 20000\n",
      "Residual covariance matrix: \n",
      "[0.486006 0.077642; 0.077642 0.607705]\n",
      "Marker effects covariance matrix: \n",
      "[0.000475 -8.8e-5; -8.8e-5 0.000247]\n",
      "\n"
     ]
    },
    {
     "name": "stderr",
     "output_type": "stream",
     "text": [
      "\u001b[32mrunning MCMC for RR-BLUP... 60%|██████████████          |  ETA: 0:00:46\u001b[39m"
     ]
    },
    {
     "name": "stdout",
     "output_type": "stream",
     "text": [
      "\n",
      "Posterior means at iteration: 30000\n",
      "Residual covariance matrix: \n",
      "[0.488846 0.078542; 0.078542 0.60603]\n",
      "Marker effects covariance matrix: \n",
      "[0.00047 -8.8e-5; -8.8e-5 0.00025]\n",
      "\n"
     ]
    },
    {
     "name": "stderr",
     "output_type": "stream",
     "text": [
      "\u001b[32mrunning MCMC for RR-BLUP... 80%|███████████████████     |  ETA: 0:00:23\u001b[39m"
     ]
    },
    {
     "name": "stdout",
     "output_type": "stream",
     "text": [
      "\n",
      "Posterior means at iteration: 40000\n",
      "Residual covariance matrix: \n",
      "[0.489036 0.077252; 0.077252 0.603221]\n",
      "Marker effects covariance matrix: \n",
      "[0.000469 -8.6e-5; -8.6e-5 0.000256]\n",
      "\n"
     ]
    },
    {
     "name": "stderr",
     "output_type": "stream",
     "text": [
      "\u001b[32mrunning MCMC for RR-BLUP...100%|████████████████████████|  ETA: 0:00:00\u001b[39m"
     ]
    },
    {
     "name": "stdout",
     "output_type": "stream",
     "text": [
      "\n",
      "Posterior means at iteration: 50000\n",
      "Residual covariance matrix: \n",
      "[0.490838 0.077958; 0.077958 0.603184]\n",
      "Marker effects covariance matrix: \n",
      "[0.000464 -8.8e-5; -8.8e-5 0.000256]\n",
      "\n",
      "1279 markers on 300 individuals were added.\n",
      "\u001b[31mPhenotyped individuals are not a subset of either\u001b[39m\n",
      "\u001b[31mgenotyped individuals (complete genomic data,non-single-step) or\u001b[39m\n",
      "\u001b[31mindividuals in pedigree (incomplete genomic data, single-step).\u001b[39m\n",
      "\u001b[31mOnly individuals with both information are used in the analysis.\u001b[39m\n"
     ]
    },
    {
     "name": "stderr",
     "output_type": "stream",
     "text": [
      "\u001b[32mrunning MCMC for RR-BLUP...100%|████████████████████████| Time: 0:01:52\u001b[39m\n"
     ]
    },
    {
     "name": "stdout",
     "output_type": "stream",
     "text": [
      "\n",
      "\n",
      "\n",
      "A Linear Mixed Model was build using model equations:\n",
      "\n",
      "y1 = intercept\n",
      "y2 = intercept\n",
      "\n",
      "Model Information:\n",
      "\n",
      "Term            C/F          F/R            nLevels\n",
      "intercept       factor       fixed                1\n",
      "\n",
      "MCMC Information:\n",
      "\n",
      "methods                                      BayesC\n",
      "chain_length                                  50000\n",
      "burnin                                         1000\n",
      "estimatePi                                     true\n",
      "starting_value                                false\n",
      "printout_frequency                            10000\n",
      "output_samples_frequency                          0\n",
      "constraint                                    false\n",
      "missing_phenotypes                            false\n",
      "update_priors_frequency                           0\n",
      "\n",
      "Hyper-parameters Information: \n",
      "\n",
      "residual variances:           \n",
      "  0.53   -0.225\n",
      " -0.225   0.572\n",
      "genetic variances (genomic):  \n",
      "  0.0  -0.0\n",
      " -0.0   0.0\n",
      "marker effect variances:      \n",
      "  0.0  -0.0\n",
      " -0.0   0.0\n",
      "Π:\n",
      "combinations          probability\n",
      "[0.0, 0.0]                   0.25\n",
      "[1.0, 0.0]                   0.25\n",
      "[1.0, 1.0]                   0.25\n",
      "[0.0, 1.0]                   0.25\n",
      "\n",
      "Degree of freedom for hyper-parameters:\n",
      "\n",
      "residual variances:                           4.000\n",
      "iid random effect variances:                  4.000\n",
      "marker effect variances:                      4.000\n",
      "\n",
      "\n",
      "\n"
     ]
    },
    {
     "name": "stderr",
     "output_type": "stream",
     "text": [
      "\u001b[32mrunning MCMC for BayesC... 20%|█████                    |  ETA: 0:04:02\u001b[39m"
     ]
    },
    {
     "name": "stdout",
     "output_type": "stream",
     "text": [
      "\n",
      "Posterior means at iteration: 10000\n",
      "Residual covariance matrix: \n",
      "[0.494337 0.077276; 0.077276 0.604442]\n",
      "Marker effects covariance matrix: \n",
      "[0.000828 -0.000487; -0.000487 0.000522]\n",
      "π: \n",
      "Dict([0.0, 0.0]=>0.137143,[1.0, 0.0]=>0.339853,[1.0, 1.0]=>0.246076,[0.0, 1.0]=>0.276928)\n",
      "\n"
     ]
    },
    {
     "name": "stderr",
     "output_type": "stream",
     "text": [
      "\u001b[32mrunning MCMC for BayesC... 40%|██████████               |  ETA: 0:02:59\u001b[39m"
     ]
    },
    {
     "name": "stdout",
     "output_type": "stream",
     "text": [
      "\n",
      "Posterior means at iteration: 20000\n",
      "Residual covariance matrix: \n",
      "[0.493024 0.074682; 0.074682 0.603651]\n",
      "Marker effects covariance matrix: \n",
      "[0.000811 -0.000466; -0.000466 0.000562]\n",
      "π: \n",
      "Dict([0.0, 0.0]=>0.137759,[1.0, 0.0]=>0.358718,[1.0, 1.0]=>0.236064,[0.0, 1.0]=>0.267459)\n",
      "\n"
     ]
    },
    {
     "name": "stderr",
     "output_type": "stream",
     "text": [
      "\u001b[32mrunning MCMC for BayesC... 60%|███████████████          |  ETA: 0:02:00\u001b[39m"
     ]
    },
    {
     "name": "stdout",
     "output_type": "stream",
     "text": [
      "\n",
      "Posterior means at iteration: 30000\n",
      "Residual covariance matrix: \n",
      "[0.492077 0.076229; 0.076229 0.604813]\n",
      "Marker effects covariance matrix: \n",
      "[0.00086 -0.000479; -0.000479 0.000552]\n",
      "π: \n",
      "Dict([0.0, 0.0]=>0.144414,[1.0, 0.0]=>0.342018,[1.0, 1.0]=>0.236462,[0.0, 1.0]=>0.277106)\n",
      "\n"
     ]
    },
    {
     "name": "stderr",
     "output_type": "stream",
     "text": [
      "\u001b[32mrunning MCMC for BayesC... 80%|████████████████████     |  ETA: 0:00:59\u001b[39m"
     ]
    },
    {
     "name": "stdout",
     "output_type": "stream",
     "text": [
      "\n",
      "Posterior means at iteration: 40000\n",
      "Residual covariance matrix: \n",
      "[0.492347 0.077338; 0.077338 0.605705]\n",
      "Marker effects covariance matrix: \n",
      "[0.000861 -0.000464; -0.000464 0.000529]\n",
      "π: \n",
      "Dict([0.0, 0.0]=>0.141,[1.0, 0.0]=>0.324875,[1.0, 1.0]=>0.256218,[0.0, 1.0]=>0.277907)\n",
      "\n"
     ]
    },
    {
     "name": "stderr",
     "output_type": "stream",
     "text": [
      "\u001b[32mrunning MCMC for BayesC...100%|█████████████████████████|  ETA: 0:00:00\u001b[39m"
     ]
    },
    {
     "name": "stdout",
     "output_type": "stream",
     "text": [
      "\n",
      "Posterior means at iteration: 50000\n",
      "Residual covariance matrix: \n",
      "[0.49122 0.078208; 0.078208 0.605345]\n",
      "Marker effects covariance matrix: \n",
      "[0.000863 -0.00049; -0.00049 0.000541]\n",
      "π: \n",
      "Dict([0.0, 0.0]=>0.143044,[1.0, 0.0]=>0.334984,[1.0, 1.0]=>0.242275,[0.0, 1.0]=>0.279698)\n",
      "\n"
     ]
    },
    {
     "name": "stderr",
     "output_type": "stream",
     "text": [
      "\u001b[32mrunning MCMC for BayesC...100%|█████████████████████████| Time: 0:04:58\u001b[39m\n"
     ]
    },
    {
     "name": "stdout",
     "output_type": "stream",
     "text": [
      "\n",
      " Iteration: 7\n",
      "\n",
      "1279 markers on 300 individuals were added.\n",
      "\u001b[31mPhenotyped individuals are not a subset of either\u001b[39m\n",
      "\u001b[31mgenotyped individuals (complete genomic data,non-single-step) or\u001b[39m\n",
      "\u001b[31mindividuals in pedigree (incomplete genomic data, single-step).\u001b[39m\n",
      "\u001b[31mOnly individuals with both information are used in the analysis.\u001b[39m\n",
      "\u001b[32mPi (Π) is not provided.\u001b[39m\n",
      "\u001b[32mPi (Π) is generated assuming all markers have effects on all traits.\u001b[39m\n",
      "\n",
      "\n",
      "\n",
      "A Linear Mixed Model was build using model equations:\n",
      "\n",
      "y1 = intercept\n",
      "y2 = intercept\n",
      "\n",
      "Model Information:\n",
      "\n",
      "Term            C/F          F/R            nLevels\n",
      "intercept       factor       fixed                1\n",
      "\n",
      "MCMC Information:\n",
      "\n",
      "methods                                      BayesL\n",
      "chain_length                                  50000\n",
      "burnin                                         1000\n",
      "estimatePi                                    false\n",
      "starting_value                                false\n",
      "printout_frequency                            10000\n",
      "output_samples_frequency                          0\n",
      "constraint                                    false\n",
      "missing_phenotypes                            false\n",
      "update_priors_frequency                           0\n",
      "\n",
      "Hyper-parameters Information: \n",
      "\n",
      "residual variances:           \n",
      "  0.53   -0.225\n",
      " -0.225   0.572\n",
      "genetic variances (genomic):  \n",
      "  0.0  -0.0\n",
      " -0.0   0.0\n",
      "marker effect variances:      \n",
      "  0.0  -0.0\n",
      " -0.0   0.0\n",
      "Π:\n",
      "combinations          probability\n",
      "[0.0, 0.0]                    0.0\n",
      "[1.0, 0.0]                    0.0\n",
      "[1.0, 1.0]                    1.0\n",
      "[0.0, 1.0]                    0.0\n",
      "\n",
      "Degree of freedom for hyper-parameters:\n",
      "\n",
      "residual variances:                           4.000\n",
      "iid random effect variances:                  4.000\n",
      "marker effect variances:                      4.000\n",
      "\n",
      "\n",
      "\n"
     ]
    },
    {
     "name": "stderr",
     "output_type": "stream",
     "text": [
      "\u001b[32mrunning MCMC for BayesL... 20%|█████                    |  ETA: 0:01:44\u001b[39m"
     ]
    },
    {
     "name": "stdout",
     "output_type": "stream",
     "text": [
      "\n",
      "Posterior means at iteration: 10000\n",
      "Residual covariance matrix: \n",
      "[0.53183 0.056238; 0.056238 0.614457]\n",
      "Marker effects covariance matrix: \n",
      "[3.4e-5 -6.0e-6; -6.0e-6 2.7e-5]\n",
      "\n"
     ]
    },
    {
     "name": "stderr",
     "output_type": "stream",
     "text": [
      "\u001b[32mrunning MCMC for BayesL... 40%|██████████               |  ETA: 0:01:19\u001b[39m"
     ]
    },
    {
     "name": "stdout",
     "output_type": "stream",
     "text": [
      "\n",
      "Posterior means at iteration: 20000\n",
      "Residual covariance matrix: \n",
      "[0.532723 0.055036; 0.055036 0.612459]\n",
      "Marker effects covariance matrix: \n",
      "[3.3e-5 -6.0e-6; -6.0e-6 2.8e-5]\n",
      "\n"
     ]
    },
    {
     "name": "stderr",
     "output_type": "stream",
     "text": [
      "\u001b[32mrunning MCMC for BayesL... 60%|███████████████          |  ETA: 0:00:53\u001b[39m"
     ]
    },
    {
     "name": "stdout",
     "output_type": "stream",
     "text": [
      "\n",
      "Posterior means at iteration: 30000\n",
      "Residual covariance matrix: \n",
      "[0.531128 0.053305; 0.053305 0.611768]\n",
      "Marker effects covariance matrix: \n",
      "[3.3e-5 -6.0e-6; -6.0e-6 2.8e-5]\n",
      "\n"
     ]
    },
    {
     "name": "stderr",
     "output_type": "stream",
     "text": [
      "\u001b[32mrunning MCMC for BayesL... 80%|████████████████████     |  ETA: 0:00:28\u001b[39m"
     ]
    },
    {
     "name": "stdout",
     "output_type": "stream",
     "text": [
      "\n",
      "Posterior means at iteration: 40000\n",
      "Residual covariance matrix: \n",
      "[0.532142 0.054257; 0.054257 0.613356]\n",
      "Marker effects covariance matrix: \n",
      "[3.3e-5 -6.0e-6; -6.0e-6 2.7e-5]\n",
      "\n"
     ]
    },
    {
     "name": "stderr",
     "output_type": "stream",
     "text": [
      "\u001b[32mrunning MCMC for BayesL...100%|█████████████████████████|  ETA: 0:00:00\u001b[39m"
     ]
    },
    {
     "name": "stdout",
     "output_type": "stream",
     "text": [
      "\n",
      "Posterior means at iteration: 50000\n",
      "Residual covariance matrix: \n",
      "[0.53142 0.055092; 0.055092 0.614315]\n",
      "Marker effects covariance matrix: \n",
      "[3.3e-5 -6.0e-6; -6.0e-6 2.7e-5]\n",
      "\n"
     ]
    },
    {
     "name": "stderr",
     "output_type": "stream",
     "text": [
      "\u001b[32mrunning MCMC for BayesL...100%|█████████████████████████| Time: 0:02:18\u001b[39m\n"
     ]
    },
    {
     "name": "stdout",
     "output_type": "stream",
     "text": [
      "1279 markers on 300 individuals were added.\n",
      "\u001b[31mPhenotyped individuals are not a subset of either\u001b[39m\n",
      "\u001b[31mgenotyped individuals (complete genomic data,non-single-step) or\u001b[39m\n",
      "\u001b[31mindividuals in pedigree (incomplete genomic data, single-step).\u001b[39m\n",
      "\u001b[31mOnly individuals with both information are used in the analysis.\u001b[39m\n",
      "\u001b[32mPi (Π) is not provided.\u001b[39m\n",
      "\u001b[32mPi (Π) is generated assuming all markers have effects on all traits.\u001b[39m\n",
      "\n",
      "\n",
      "\n",
      "A Linear Mixed Model was build using model equations:\n",
      "\n",
      "y1 = intercept\n",
      "y2 = intercept\n",
      "\n",
      "Model Information:\n",
      "\n",
      "Term            C/F          F/R            nLevels\n",
      "intercept       factor       fixed                1\n",
      "\n",
      "MCMC Information:\n",
      "\n",
      "methods                                     RR-BLUP\n",
      "chain_length                                  50000\n",
      "burnin                                         1000\n",
      "estimatePi                                    false\n",
      "starting_value                                false\n",
      "printout_frequency                            10000\n",
      "output_samples_frequency                          0\n",
      "constraint                                    false\n",
      "missing_phenotypes                            false\n",
      "update_priors_frequency                           0\n",
      "\n",
      "Hyper-parameters Information: \n",
      "\n",
      "residual variances:           \n",
      "  0.53   -0.225\n",
      " -0.225   0.572\n",
      "genetic variances (genomic):  \n",
      "  0.0  -0.0\n",
      " -0.0   0.0\n",
      "marker effect variances:      \n",
      "  0.0  -0.0\n",
      " -0.0   0.0\n",
      "Π:\n",
      "combinations          probability\n",
      "[0.0, 0.0]                    0.0\n",
      "[1.0, 0.0]                    0.0\n",
      "[1.0, 1.0]                    1.0\n",
      "[0.0, 1.0]                    0.0\n",
      "\n",
      "Degree of freedom for hyper-parameters:\n",
      "\n",
      "residual variances:                           4.000\n",
      "iid random effect variances:                  4.000\n",
      "marker effect variances:                      4.000\n",
      "\n",
      "\n",
      "\n"
     ]
    },
    {
     "name": "stderr",
     "output_type": "stream",
     "text": [
      "\u001b[32mrunning MCMC for RR-BLUP... 20%|█████                   |  ETA: 0:01:37\u001b[39m"
     ]
    },
    {
     "name": "stdout",
     "output_type": "stream",
     "text": [
      "\n",
      "Posterior means at iteration: 10000\n",
      "Residual covariance matrix: \n",
      "[0.528789 0.050659; 0.050659 0.611574]\n",
      "Marker effects covariance matrix: \n",
      "[0.000406 -6.5e-5; -6.5e-5 0.000331]\n",
      "\n"
     ]
    },
    {
     "name": "stderr",
     "output_type": "stream",
     "text": [
      "\u001b[32mrunning MCMC for RR-BLUP... 40%|██████████              |  ETA: 0:01:12\u001b[39m"
     ]
    },
    {
     "name": "stdout",
     "output_type": "stream",
     "text": [
      "\n",
      "Posterior means at iteration: 20000\n",
      "Residual covariance matrix: \n",
      "[0.532117 0.051323; 0.051323 0.604392]\n",
      "Marker effects covariance matrix: \n",
      "[0.000401 -6.8e-5; -6.8e-5 0.000345]\n",
      "\n"
     ]
    },
    {
     "name": "stderr",
     "output_type": "stream",
     "text": [
      "\u001b[32mrunning MCMC for RR-BLUP... 60%|██████████████          |  ETA: 0:00:48\u001b[39m"
     ]
    },
    {
     "name": "stdout",
     "output_type": "stream",
     "text": [
      "\n",
      "Posterior means at iteration: 30000\n",
      "Residual covariance matrix: \n",
      "[0.531701 0.051651; 0.051651 0.605107]\n",
      "Marker effects covariance matrix: \n",
      "[0.000401 -6.8e-5; -6.8e-5 0.000344]\n",
      "\n"
     ]
    },
    {
     "name": "stderr",
     "output_type": "stream",
     "text": [
      "\u001b[32mrunning MCMC for RR-BLUP... 80%|███████████████████     |  ETA: 0:00:24\u001b[39m"
     ]
    },
    {
     "name": "stdout",
     "output_type": "stream",
     "text": [
      "\n",
      "Posterior means at iteration: 40000\n",
      "Residual covariance matrix: \n",
      "[0.532981 0.051366; 0.051366 0.606393]\n",
      "Marker effects covariance matrix: \n",
      "[0.000398 -6.7e-5; -6.7e-5 0.000342]\n",
      "\n"
     ]
    },
    {
     "name": "stderr",
     "output_type": "stream",
     "text": [
      "\u001b[32mrunning MCMC for RR-BLUP...100%|████████████████████████|  ETA: 0:00:00\u001b[39m"
     ]
    },
    {
     "name": "stdout",
     "output_type": "stream",
     "text": [
      "\n",
      "Posterior means at iteration: 50000\n",
      "Residual covariance matrix: \n",
      "[0.532202 0.050832; 0.050832 0.606403]\n",
      "Marker effects covariance matrix: \n",
      "[0.0004 -6.5e-5; -6.5e-5 0.000342]\n",
      "\n"
     ]
    },
    {
     "name": "stderr",
     "output_type": "stream",
     "text": [
      "\u001b[32mrunning MCMC for RR-BLUP...100%|████████████████████████| Time: 0:01:56\u001b[39m\n"
     ]
    },
    {
     "name": "stdout",
     "output_type": "stream",
     "text": [
      "1279 markers on 300 individuals were added.\n",
      "\u001b[31mPhenotyped individuals are not a subset of either\u001b[39m\n",
      "\u001b[31mgenotyped individuals (complete genomic data,non-single-step) or\u001b[39m\n",
      "\u001b[31mindividuals in pedigree (incomplete genomic data, single-step).\u001b[39m\n",
      "\u001b[31mOnly individuals with both information are used in the analysis.\u001b[39m\n",
      "\n",
      "\n",
      "\n",
      "A Linear Mixed Model was build using model equations:\n",
      "\n",
      "y1 = intercept\n",
      "y2 = intercept\n",
      "\n",
      "Model Information:\n",
      "\n",
      "Term            C/F          F/R            nLevels\n",
      "intercept       factor       fixed                1\n",
      "\n",
      "MCMC Information:\n",
      "\n",
      "methods                                      BayesC\n",
      "chain_length                                  50000\n",
      "burnin                                         1000\n",
      "estimatePi                                     true\n",
      "starting_value                                false\n",
      "printout_frequency                            10000\n",
      "output_samples_frequency                          0\n",
      "constraint                                    false\n",
      "missing_phenotypes                            false\n",
      "update_priors_frequency                           0\n",
      "\n",
      "Hyper-parameters Information: \n",
      "\n",
      "residual variances:           \n",
      "  0.53   -0.225\n",
      " -0.225   0.572\n",
      "genetic variances (genomic):  \n",
      "  0.0  -0.0\n",
      " -0.0   0.0\n",
      "marker effect variances:      \n",
      "  0.0  -0.0\n",
      " -0.0   0.0\n",
      "Π:\n",
      "combinations          probability\n",
      "[0.0, 0.0]                   0.25\n",
      "[1.0, 0.0]                   0.25\n",
      "[1.0, 1.0]                   0.25\n",
      "[0.0, 1.0]                   0.25\n",
      "\n",
      "Degree of freedom for hyper-parameters:\n",
      "\n",
      "residual variances:                           4.000\n",
      "iid random effect variances:                  4.000\n",
      "marker effect variances:                      4.000\n",
      "\n",
      "\n",
      "\n"
     ]
    },
    {
     "name": "stderr",
     "output_type": "stream",
     "text": [
      "\u001b[32mrunning MCMC for BayesC... 20%|█████                    |  ETA: 0:03:52\u001b[39m"
     ]
    },
    {
     "name": "stdout",
     "output_type": "stream",
     "text": [
      "\n",
      "Posterior means at iteration: 10000\n",
      "Residual covariance matrix: \n",
      "[0.523705 0.056433; 0.056433 0.599726]\n",
      "Marker effects covariance matrix: \n",
      "[0.001136 -0.000762; -0.000762 0.000773]\n",
      "π: \n",
      "Dict([0.0, 0.0]=>0.197912,[1.0, 0.0]=>0.289274,[1.0, 1.0]=>0.128877,[0.0, 1.0]=>0.383936)\n",
      "\n"
     ]
    },
    {
     "name": "stderr",
     "output_type": "stream",
     "text": [
      "\u001b[32mrunning MCMC for BayesC... 40%|██████████               |  ETA: 0:03:01\u001b[39m"
     ]
    },
    {
     "name": "stdout",
     "output_type": "stream",
     "text": [
      "\n",
      "Posterior means at iteration: 20000\n",
      "Residual covariance matrix: \n",
      "[0.526016 0.054793; 0.054793 0.593158]\n",
      "Marker effects covariance matrix: \n",
      "[0.001032 -0.000763; -0.000763 0.000845]\n",
      "π: \n",
      "Dict([0.0, 0.0]=>0.192672,[1.0, 0.0]=>0.322847,[1.0, 1.0]=>0.132637,[0.0, 1.0]=>0.351845)\n",
      "\n"
     ]
    },
    {
     "name": "stderr",
     "output_type": "stream",
     "text": [
      "\u001b[32mrunning MCMC for BayesC... 60%|███████████████          |  ETA: 0:02:14\u001b[39m"
     ]
    },
    {
     "name": "stdout",
     "output_type": "stream",
     "text": [
      "\n",
      "Posterior means at iteration: 30000\n",
      "Residual covariance matrix: \n",
      "[0.52555 0.055365; 0.055365 0.598602]\n",
      "Marker effects covariance matrix: \n",
      "[0.001009 -0.000694; -0.000694 0.000829]\n",
      "π: \n",
      "Dict([0.0, 0.0]=>0.201075,[1.0, 0.0]=>0.304081,[1.0, 1.0]=>0.155712,[0.0, 1.0]=>0.339132)\n",
      "\n"
     ]
    },
    {
     "name": "stderr",
     "output_type": "stream",
     "text": [
      "\u001b[32mrunning MCMC for BayesC... 80%|████████████████████     |  ETA: 0:01:07\u001b[39m"
     ]
    },
    {
     "name": "stdout",
     "output_type": "stream",
     "text": [
      "\n",
      "Posterior means at iteration: 40000\n",
      "Residual covariance matrix: \n",
      "[0.52434 0.055138; 0.055138 0.598045]\n",
      "Marker effects covariance matrix: \n",
      "[0.001067 -0.000684; -0.000684 0.000775]\n",
      "π: \n",
      "Dict([0.0, 0.0]=>0.189117,[1.0, 0.0]=>0.286401,[1.0, 1.0]=>0.152545,[0.0, 1.0]=>0.371936)\n",
      "\n"
     ]
    },
    {
     "name": "stderr",
     "output_type": "stream",
     "text": [
      "\u001b[32mrunning MCMC for BayesC...100%|█████████████████████████|  ETA: 0:00:00\u001b[39m"
     ]
    },
    {
     "name": "stdout",
     "output_type": "stream",
     "text": [
      "\n",
      "Posterior means at iteration: 50000\n",
      "Residual covariance matrix: \n",
      "[0.52555 0.055425; 0.055425 0.598391]\n",
      "Marker effects covariance matrix: \n",
      "[0.00109 -0.000679; -0.000679 0.00075]\n",
      "π: \n",
      "Dict([0.0, 0.0]=>0.183502,[1.0, 0.0]=>0.280367,[1.0, 1.0]=>0.151568,[0.0, 1.0]=>0.384562)\n",
      "\n"
     ]
    },
    {
     "name": "stderr",
     "output_type": "stream",
     "text": [
      "\u001b[32mrunning MCMC for BayesC...100%|█████████████████████████| Time: 0:05:51\u001b[39m\n"
     ]
    },
    {
     "name": "stdout",
     "output_type": "stream",
     "text": [
      "\n",
      " Iteration: 8\n",
      "\n",
      "1279 markers on 300 individuals were added.\n",
      "\u001b[31mPhenotyped individuals are not a subset of either\u001b[39m\n",
      "\u001b[31mgenotyped individuals (complete genomic data,non-single-step) or\u001b[39m\n",
      "\u001b[31mindividuals in pedigree (incomplete genomic data, single-step).\u001b[39m\n",
      "\u001b[31mOnly individuals with both information are used in the analysis.\u001b[39m\n",
      "\u001b[32mPi (Π) is not provided.\u001b[39m\n",
      "\u001b[32mPi (Π) is generated assuming all markers have effects on all traits.\u001b[39m\n",
      "\n",
      "\n",
      "\n",
      "A Linear Mixed Model was build using model equations:\n",
      "\n",
      "y1 = intercept\n",
      "y2 = intercept\n",
      "\n",
      "Model Information:\n",
      "\n",
      "Term            C/F          F/R            nLevels\n",
      "intercept       factor       fixed                1\n",
      "\n",
      "MCMC Information:\n",
      "\n",
      "methods                                      BayesL\n",
      "chain_length                                  50000\n",
      "burnin                                         1000\n",
      "estimatePi                                    false\n",
      "starting_value                                false\n",
      "printout_frequency                            10000\n",
      "output_samples_frequency                          0\n",
      "constraint                                    false\n",
      "missing_phenotypes                            false\n",
      "update_priors_frequency                           0\n",
      "\n",
      "Hyper-parameters Information: \n",
      "\n",
      "residual variances:           \n",
      "  0.53   -0.225\n",
      " -0.225   0.572\n",
      "genetic variances (genomic):  \n",
      "  0.0  -0.0\n",
      " -0.0   0.0\n",
      "marker effect variances:      \n",
      "  0.0  -0.0\n",
      " -0.0   0.0\n",
      "Π:\n",
      "combinations          probability\n",
      "[0.0, 0.0]                    0.0\n",
      "[1.0, 0.0]                    0.0\n",
      "[1.0, 1.0]                    1.0\n",
      "[0.0, 1.0]                    0.0\n",
      "\n",
      "Degree of freedom for hyper-parameters:\n",
      "\n",
      "residual variances:                           4.000\n",
      "iid random effect variances:                  4.000\n",
      "marker effect variances:                      4.000\n",
      "\n",
      "\n",
      "\n"
     ]
    },
    {
     "name": "stderr",
     "output_type": "stream",
     "text": [
      "\u001b[32mrunning MCMC for BayesL... 20%|█████                    |  ETA: 0:01:50\u001b[39m"
     ]
    },
    {
     "name": "stdout",
     "output_type": "stream",
     "text": [
      "\n",
      "Posterior means at iteration: 10000\n",
      "Residual covariance matrix: \n",
      "[0.603086 0.127081; 0.127081 0.648436]\n",
      "Marker effects covariance matrix: \n",
      "[3.0e-5 -1.2e-5; -1.2e-5 1.9e-5]\n",
      "\n"
     ]
    },
    {
     "name": "stderr",
     "output_type": "stream",
     "text": [
      "\u001b[32mrunning MCMC for BayesL... 40%|██████████               |  ETA: 0:01:23\u001b[39m"
     ]
    },
    {
     "name": "stdout",
     "output_type": "stream",
     "text": [
      "\n",
      "Posterior means at iteration: 20000\n",
      "Residual covariance matrix: \n",
      "[0.597217 0.127629; 0.127629 0.647471]\n",
      "Marker effects covariance matrix: \n",
      "[3.1e-5 -1.2e-5; -1.2e-5 2.0e-5]\n",
      "\n"
     ]
    },
    {
     "name": "stderr",
     "output_type": "stream",
     "text": [
      "\u001b[32mrunning MCMC for BayesL... 60%|███████████████          |  ETA: 0:00:53\u001b[39m"
     ]
    },
    {
     "name": "stdout",
     "output_type": "stream",
     "text": [
      "\n",
      "Posterior means at iteration: 30000\n",
      "Residual covariance matrix: \n",
      "[0.594031 0.127713; 0.127713 0.648102]\n",
      "Marker effects covariance matrix: \n",
      "[3.2e-5 -1.2e-5; -1.2e-5 2.0e-5]\n",
      "\n"
     ]
    },
    {
     "name": "stderr",
     "output_type": "stream",
     "text": [
      "\u001b[32mrunning MCMC for BayesL... 80%|████████████████████     |  ETA: 0:00:27\u001b[39m"
     ]
    },
    {
     "name": "stdout",
     "output_type": "stream",
     "text": [
      "\n",
      "Posterior means at iteration: 40000\n",
      "Residual covariance matrix: \n",
      "[0.59452 0.128809; 0.128809 0.650064]\n",
      "Marker effects covariance matrix: \n",
      "[3.2e-5 -1.2e-5; -1.2e-5 1.9e-5]\n",
      "\n"
     ]
    },
    {
     "name": "stderr",
     "output_type": "stream",
     "text": [
      "\u001b[32mrunning MCMC for BayesL...100%|█████████████████████████|  ETA: 0:00:00\u001b[39m"
     ]
    },
    {
     "name": "stdout",
     "output_type": "stream",
     "text": [
      "\n",
      "Posterior means at iteration: 50000\n",
      "Residual covariance matrix: \n",
      "[0.595057 0.129314; 0.129314 0.649076]\n",
      "Marker effects covariance matrix: \n",
      "[3.1e-5 -1.2e-5; -1.2e-5 2.0e-5]\n",
      "\n"
     ]
    },
    {
     "name": "stderr",
     "output_type": "stream",
     "text": [
      "\u001b[32mrunning MCMC for BayesL...100%|█████████████████████████| Time: 0:02:17\u001b[39m\n"
     ]
    },
    {
     "name": "stdout",
     "output_type": "stream",
     "text": [
      "1279 markers on 300 individuals were added.\n",
      "\u001b[31mPhenotyped individuals are not a subset of either\u001b[39m\n",
      "\u001b[31mgenotyped individuals (complete genomic data,non-single-step) or\u001b[39m\n",
      "\u001b[31mindividuals in pedigree (incomplete genomic data, single-step).\u001b[39m\n",
      "\u001b[31mOnly individuals with both information are used in the analysis.\u001b[39m\n",
      "\u001b[32mPi (Π) is not provided.\u001b[39m\n",
      "\u001b[32mPi (Π) is generated assuming all markers have effects on all traits.\u001b[39m\n",
      "\n",
      "\n",
      "\n",
      "A Linear Mixed Model was build using model equations:\n",
      "\n",
      "y1 = intercept\n",
      "y2 = intercept\n",
      "\n",
      "Model Information:\n",
      "\n",
      "Term            C/F          F/R            nLevels\n",
      "intercept       factor       fixed                1\n",
      "\n",
      "MCMC Information:\n",
      "\n",
      "methods                                     RR-BLUP\n",
      "chain_length                                  50000\n",
      "burnin                                         1000\n",
      "estimatePi                                    false\n",
      "starting_value                                false\n",
      "printout_frequency                            10000\n",
      "output_samples_frequency                          0\n",
      "constraint                                    false\n",
      "missing_phenotypes                            false\n",
      "update_priors_frequency                           0\n",
      "\n",
      "Hyper-parameters Information: \n",
      "\n",
      "residual variances:           \n",
      "  0.53   -0.225\n",
      " -0.225   0.572\n",
      "genetic variances (genomic):  \n",
      "  0.0  -0.0\n",
      " -0.0   0.0\n",
      "marker effect variances:      \n",
      "  0.0  -0.0\n",
      " -0.0   0.0\n",
      "Π:\n",
      "combinations          probability\n",
      "[0.0, 0.0]                    0.0\n",
      "[1.0, 0.0]                    0.0\n",
      "[1.0, 1.0]                    1.0\n",
      "[0.0, 1.0]                    0.0\n",
      "\n",
      "Degree of freedom for hyper-parameters:\n",
      "\n",
      "residual variances:                           4.000\n",
      "iid random effect variances:                  4.000\n",
      "marker effect variances:                      4.000\n",
      "\n",
      "\n",
      "\n"
     ]
    },
    {
     "name": "stderr",
     "output_type": "stream",
     "text": [
      "\u001b[32mrunning MCMC for RR-BLUP... 20%|█████                   |  ETA: 0:01:30\u001b[39m"
     ]
    },
    {
     "name": "stdout",
     "output_type": "stream",
     "text": [
      "\n",
      "Posterior means at iteration: 10000\n",
      "Residual covariance matrix: \n",
      "[0.588162 0.128084; 0.128084 0.638674]\n",
      "Marker effects covariance matrix: \n",
      "[0.000387 -0.000144; -0.000144 0.000253]\n",
      "\n"
     ]
    },
    {
     "name": "stderr",
     "output_type": "stream",
     "text": [
      "\u001b[32mrunning MCMC for RR-BLUP... 40%|██████████              |  ETA: 0:01:06\u001b[39m"
     ]
    },
    {
     "name": "stdout",
     "output_type": "stream",
     "text": [
      "\n",
      "Posterior means at iteration: 20000\n",
      "Residual covariance matrix: \n",
      "[0.590423 0.127639; 0.127639 0.63723]\n",
      "Marker effects covariance matrix: \n",
      "[0.000384 -0.000144; -0.000144 0.000256]\n",
      "\n"
     ]
    },
    {
     "name": "stderr",
     "output_type": "stream",
     "text": [
      "\u001b[32mrunning MCMC for RR-BLUP... 60%|██████████████          |  ETA: 0:00:44\u001b[39m"
     ]
    },
    {
     "name": "stdout",
     "output_type": "stream",
     "text": [
      "\n",
      "Posterior means at iteration: 30000\n",
      "Residual covariance matrix: \n",
      "[0.591407 0.1276; 0.1276 0.640499]\n",
      "Marker effects covariance matrix: \n",
      "[0.000383 -0.000144; -0.000144 0.00025]\n",
      "\n"
     ]
    },
    {
     "name": "stderr",
     "output_type": "stream",
     "text": [
      "\u001b[32mrunning MCMC for RR-BLUP... 80%|███████████████████     |  ETA: 0:00:23\u001b[39m"
     ]
    },
    {
     "name": "stdout",
     "output_type": "stream",
     "text": [
      "\n",
      "Posterior means at iteration: 40000\n",
      "Residual covariance matrix: \n",
      "[0.592432 0.128161; 0.128161 0.642146]\n",
      "Marker effects covariance matrix: \n",
      "[0.000382 -0.000144; -0.000144 0.000247]\n",
      "\n"
     ]
    },
    {
     "name": "stderr",
     "output_type": "stream",
     "text": [
      "\u001b[32mrunning MCMC for RR-BLUP...100%|████████████████████████|  ETA: 0:00:00\u001b[39m"
     ]
    },
    {
     "name": "stdout",
     "output_type": "stream",
     "text": [
      "\n",
      "Posterior means at iteration: 50000\n",
      "Residual covariance matrix: \n",
      "[0.592234 0.128038; 0.128038 0.640933]\n",
      "Marker effects covariance matrix: \n",
      "[0.000383 -0.000145; -0.000145 0.00025]\n",
      "\n"
     ]
    },
    {
     "name": "stderr",
     "output_type": "stream",
     "text": [
      "\u001b[32mrunning MCMC for RR-BLUP...100%|████████████████████████| Time: 0:01:52\u001b[39m\n"
     ]
    },
    {
     "name": "stdout",
     "output_type": "stream",
     "text": [
      "1279 markers on 300 individuals were added.\n",
      "\u001b[31mPhenotyped individuals are not a subset of either\u001b[39m\n",
      "\u001b[31mgenotyped individuals (complete genomic data,non-single-step) or\u001b[39m\n",
      "\u001b[31mindividuals in pedigree (incomplete genomic data, single-step).\u001b[39m\n",
      "\u001b[31mOnly individuals with both information are used in the analysis.\u001b[39m\n",
      "\n",
      "\n",
      "\n",
      "A Linear Mixed Model was build using model equations:\n",
      "\n",
      "y1 = intercept\n",
      "y2 = intercept\n",
      "\n",
      "Model Information:\n",
      "\n",
      "Term            C/F          F/R            nLevels\n",
      "intercept       factor       fixed                1\n",
      "\n",
      "MCMC Information:\n",
      "\n",
      "methods                                      BayesC\n",
      "chain_length                                  50000\n",
      "burnin                                         1000\n",
      "estimatePi                                     true\n",
      "starting_value                                false\n",
      "printout_frequency                            10000\n",
      "output_samples_frequency                          0\n",
      "constraint                                    false\n",
      "missing_phenotypes                            false\n",
      "update_priors_frequency                           0\n",
      "\n",
      "Hyper-parameters Information: \n",
      "\n",
      "residual variances:           \n",
      "  0.53   -0.225\n",
      " -0.225   0.572\n",
      "genetic variances (genomic):  \n",
      "  0.0  -0.0\n",
      " -0.0   0.0\n",
      "marker effect variances:      \n",
      "  0.0  -0.0\n",
      " -0.0   0.0\n",
      "Π:\n",
      "combinations          probability\n",
      "[0.0, 0.0]                   0.25\n",
      "[1.0, 0.0]                   0.25\n",
      "[1.0, 1.0]                   0.25\n",
      "[0.0, 1.0]                   0.25\n",
      "\n",
      "Degree of freedom for hyper-parameters:\n",
      "\n",
      "residual variances:                           4.000\n",
      "iid random effect variances:                  4.000\n",
      "marker effect variances:                      4.000\n",
      "\n",
      "\n",
      "\n"
     ]
    },
    {
     "name": "stderr",
     "output_type": "stream",
     "text": [
      "\u001b[32mrunning MCMC for BayesC... 20%|█████                    |  ETA: 0:04:01\u001b[39m"
     ]
    },
    {
     "name": "stdout",
     "output_type": "stream",
     "text": [
      "\n",
      "Posterior means at iteration: 10000\n",
      "Residual covariance matrix: \n",
      "[0.592532 0.117711; 0.117711 0.647404]\n",
      "Marker effects covariance matrix: \n",
      "[0.000675 -0.000396; -0.000396 0.000435]\n",
      "π: \n",
      "Dict([0.0, 0.0]=>0.17087,[1.0, 0.0]=>0.236858,[1.0, 1.0]=>0.411505,[0.0, 1.0]=>0.180767)\n",
      "\n"
     ]
    },
    {
     "name": "stderr",
     "output_type": "stream",
     "text": [
      "\u001b[32mrunning MCMC for BayesC... 40%|██████████               |  ETA: 0:03:01\u001b[39m"
     ]
    },
    {
     "name": "stdout",
     "output_type": "stream",
     "text": [
      "\n",
      "Posterior means at iteration: 20000\n",
      "Residual covariance matrix: \n",
      "[0.593238 0.121325; 0.121325 0.650539]\n",
      "Marker effects covariance matrix: \n",
      "[0.000635 -0.000391; -0.000391 0.000431]\n",
      "π: \n",
      "Dict([0.0, 0.0]=>0.163353,[1.0, 0.0]=>0.252406,[1.0, 1.0]=>0.402275,[0.0, 1.0]=>0.181967)\n",
      "\n"
     ]
    },
    {
     "name": "stderr",
     "output_type": "stream",
     "text": [
      "\u001b[32mrunning MCMC for BayesC... 60%|███████████████          |  ETA: 0:01:59\u001b[39m"
     ]
    },
    {
     "name": "stdout",
     "output_type": "stream",
     "text": [
      "\n",
      "Posterior means at iteration: 30000\n",
      "Residual covariance matrix: \n",
      "[0.59348 0.121081; 0.121081 0.649843]\n",
      "Marker effects covariance matrix: \n",
      "[0.000634 -0.000383; -0.000383 0.000424]\n",
      "π: \n",
      "Dict([0.0, 0.0]=>0.159712,[1.0, 0.0]=>0.246394,[1.0, 1.0]=>0.400659,[0.0, 1.0]=>0.193235)\n",
      "\n"
     ]
    },
    {
     "name": "stderr",
     "output_type": "stream",
     "text": [
      "\u001b[32mrunning MCMC for BayesC... 80%|████████████████████     |  ETA: 0:01:00\u001b[39m"
     ]
    },
    {
     "name": "stdout",
     "output_type": "stream",
     "text": [
      "\n",
      "Posterior means at iteration: 40000\n",
      "Residual covariance matrix: \n",
      "[0.592751 0.119484; 0.119484 0.649073]\n",
      "Marker effects covariance matrix: \n",
      "[0.000631 -0.000384; -0.000384 0.000424]\n",
      "π: \n",
      "Dict([0.0, 0.0]=>0.152591,[1.0, 0.0]=>0.261278,[1.0, 1.0]=>0.388719,[0.0, 1.0]=>0.197412)\n",
      "\n"
     ]
    },
    {
     "name": "stderr",
     "output_type": "stream",
     "text": [
      "\u001b[32mrunning MCMC for BayesC...100%|█████████████████████████|  ETA: 0:00:00\u001b[39m"
     ]
    },
    {
     "name": "stdout",
     "output_type": "stream",
     "text": [
      "\n",
      "Posterior means at iteration: 50000\n",
      "Residual covariance matrix: \n",
      "[0.592379 0.120098; 0.120098 0.647063]\n",
      "Marker effects covariance matrix: \n",
      "[0.000629 -0.000395; -0.000395 0.00044]\n",
      "π: \n",
      "Dict([0.0, 0.0]=>0.151782,[1.0, 0.0]=>0.264505,[1.0, 1.0]=>0.382411,[0.0, 1.0]=>0.201301)\n",
      "\n"
     ]
    },
    {
     "name": "stderr",
     "output_type": "stream",
     "text": [
      "\u001b[32mrunning MCMC for BayesC...100%|█████████████████████████| Time: 0:04:57\u001b[39m\n"
     ]
    },
    {
     "name": "stdout",
     "output_type": "stream",
     "text": [
      "\n",
      " Iteration: 9\n",
      "\n",
      "1279 markers on 300 individuals were added.\n",
      "\u001b[31mPhenotyped individuals are not a subset of either\u001b[39m\n",
      "\u001b[31mgenotyped individuals (complete genomic data,non-single-step) or\u001b[39m\n",
      "\u001b[31mindividuals in pedigree (incomplete genomic data, single-step).\u001b[39m\n",
      "\u001b[31mOnly individuals with both information are used in the analysis.\u001b[39m\n",
      "\u001b[32mPi (Π) is not provided.\u001b[39m\n",
      "\u001b[32mPi (Π) is generated assuming all markers have effects on all traits.\u001b[39m\n",
      "\n",
      "\n",
      "\n",
      "A Linear Mixed Model was build using model equations:\n",
      "\n",
      "y1 = intercept\n",
      "y2 = intercept\n",
      "\n",
      "Model Information:\n",
      "\n",
      "Term            C/F          F/R            nLevels\n",
      "intercept       factor       fixed                1\n",
      "\n",
      "MCMC Information:\n",
      "\n",
      "methods                                      BayesL\n",
      "chain_length                                  50000\n",
      "burnin                                         1000\n",
      "estimatePi                                    false\n",
      "starting_value                                false\n",
      "printout_frequency                            10000\n",
      "output_samples_frequency                          0\n",
      "constraint                                    false\n",
      "missing_phenotypes                            false\n",
      "update_priors_frequency                           0\n",
      "\n",
      "Hyper-parameters Information: \n",
      "\n",
      "residual variances:           \n",
      "  0.53   -0.225\n",
      " -0.225   0.572\n",
      "genetic variances (genomic):  \n",
      "  0.0  -0.0\n",
      " -0.0   0.0\n",
      "marker effect variances:      \n",
      "  0.0  -0.0\n",
      " -0.0   0.0\n",
      "Π:\n",
      "combinations          probability\n",
      "[0.0, 0.0]                    0.0\n",
      "[1.0, 0.0]                    0.0\n",
      "[1.0, 1.0]                    1.0\n",
      "[0.0, 1.0]                    0.0\n",
      "\n",
      "Degree of freedom for hyper-parameters:\n",
      "\n",
      "residual variances:                           4.000\n",
      "iid random effect variances:                  4.000\n",
      "marker effect variances:                      4.000\n",
      "\n",
      "\n",
      "\n"
     ]
    },
    {
     "name": "stderr",
     "output_type": "stream",
     "text": [
      "\u001b[32mrunning MCMC for BayesL... 20%|█████                    |  ETA: 0:01:48\u001b[39m"
     ]
    },
    {
     "name": "stdout",
     "output_type": "stream",
     "text": [
      "\n",
      "Posterior means at iteration: 10000\n",
      "Residual covariance matrix: \n",
      "[0.626361 0.076436; 0.076436 0.646347]\n",
      "Marker effects covariance matrix: \n",
      "[3.0e-5 -8.0e-6; -8.0e-6 2.4e-5]\n",
      "\n"
     ]
    },
    {
     "name": "stderr",
     "output_type": "stream",
     "text": [
      "\u001b[32mrunning MCMC for BayesL... 40%|██████████               |  ETA: 0:01:25\u001b[39m"
     ]
    },
    {
     "name": "stdout",
     "output_type": "stream",
     "text": [
      "\n",
      "Posterior means at iteration: 20000\n",
      "Residual covariance matrix: \n",
      "[0.625678 0.076108; 0.076108 0.643836]\n",
      "Marker effects covariance matrix: \n",
      "[3.0e-5 -8.0e-6; -8.0e-6 2.4e-5]\n",
      "\n"
     ]
    },
    {
     "name": "stderr",
     "output_type": "stream",
     "text": [
      "\u001b[32mrunning MCMC for BayesL... 60%|███████████████          |  ETA: 0:00:56\u001b[39m"
     ]
    },
    {
     "name": "stdout",
     "output_type": "stream",
     "text": [
      "\n",
      "Posterior means at iteration: 30000\n",
      "Residual covariance matrix: \n",
      "[0.628959 0.076006; 0.076006 0.647931]\n",
      "Marker effects covariance matrix: \n",
      "[2.9e-5 -8.0e-6; -8.0e-6 2.3e-5]\n",
      "\n"
     ]
    },
    {
     "name": "stderr",
     "output_type": "stream",
     "text": [
      "\u001b[32mrunning MCMC for BayesL... 80%|████████████████████     |  ETA: 0:00:28\u001b[39m"
     ]
    },
    {
     "name": "stdout",
     "output_type": "stream",
     "text": [
      "\n",
      "Posterior means at iteration: 40000\n",
      "Residual covariance matrix: \n",
      "[0.629414 0.07694; 0.07694 0.646018]\n",
      "Marker effects covariance matrix: \n",
      "[2.9e-5 -8.0e-6; -8.0e-6 2.4e-5]\n",
      "\n"
     ]
    },
    {
     "name": "stderr",
     "output_type": "stream",
     "text": [
      "\u001b[32mrunning MCMC for BayesL...100%|█████████████████████████|  ETA: 0:00:00\u001b[39m"
     ]
    },
    {
     "name": "stdout",
     "output_type": "stream",
     "text": [
      "\n",
      "Posterior means at iteration: 50000\n",
      "Residual covariance matrix: \n",
      "[0.627419 0.078503; 0.078503 0.646378]\n",
      "Marker effects covariance matrix: \n",
      "[3.0e-5 -8.0e-6; -8.0e-6 2.4e-5]\n",
      "\n"
     ]
    },
    {
     "name": "stderr",
     "output_type": "stream",
     "text": [
      "\u001b[32mrunning MCMC for BayesL...100%|█████████████████████████| Time: 0:02:19\u001b[39m\n"
     ]
    },
    {
     "name": "stdout",
     "output_type": "stream",
     "text": [
      "1279 markers on 300 individuals were added.\n",
      "\u001b[31mPhenotyped individuals are not a subset of either\u001b[39m\n",
      "\u001b[31mgenotyped individuals (complete genomic data,non-single-step) or\u001b[39m\n",
      "\u001b[31mindividuals in pedigree (incomplete genomic data, single-step).\u001b[39m\n",
      "\u001b[31mOnly individuals with both information are used in the analysis.\u001b[39m\n",
      "\u001b[32mPi (Π) is not provided.\u001b[39m\n",
      "\u001b[32mPi (Π) is generated assuming all markers have effects on all traits.\u001b[39m\n",
      "\n",
      "\n",
      "\n",
      "A Linear Mixed Model was build using model equations:\n",
      "\n",
      "y1 = intercept\n",
      "y2 = intercept\n",
      "\n",
      "Model Information:\n",
      "\n",
      "Term            C/F          F/R            nLevels\n",
      "intercept       factor       fixed                1\n",
      "\n",
      "MCMC Information:\n",
      "\n",
      "methods                                     RR-BLUP\n",
      "chain_length                                  50000\n",
      "burnin                                         1000\n",
      "estimatePi                                    false\n",
      "starting_value                                false\n",
      "printout_frequency                            10000\n",
      "output_samples_frequency                          0\n",
      "constraint                                    false\n",
      "missing_phenotypes                            false\n",
      "update_priors_frequency                           0\n",
      "\n",
      "Hyper-parameters Information: \n",
      "\n",
      "residual variances:           \n",
      "  0.53   -0.225\n",
      " -0.225   0.572\n",
      "genetic variances (genomic):  \n",
      "  0.0  -0.0\n",
      " -0.0   0.0\n",
      "marker effect variances:      \n",
      "  0.0  -0.0\n",
      " -0.0   0.0\n",
      "Π:\n",
      "combinations          probability\n",
      "[0.0, 0.0]                    0.0\n",
      "[1.0, 0.0]                    0.0\n",
      "[1.0, 1.0]                    1.0\n",
      "[0.0, 1.0]                    0.0\n",
      "\n",
      "Degree of freedom for hyper-parameters:\n",
      "\n",
      "residual variances:                           4.000\n",
      "iid random effect variances:                  4.000\n",
      "marker effect variances:                      4.000\n",
      "\n",
      "\n",
      "\n"
     ]
    },
    {
     "name": "stderr",
     "output_type": "stream",
     "text": [
      "\u001b[32mrunning MCMC for RR-BLUP... 20%|█████                   |  ETA: 0:01:33\u001b[39m"
     ]
    },
    {
     "name": "stdout",
     "output_type": "stream",
     "text": [
      "\n",
      "Posterior means at iteration: 10000\n",
      "Residual covariance matrix: \n",
      "[0.632925 0.075685; 0.075685 0.656697]\n",
      "Marker effects covariance matrix: \n",
      "[0.000346 -9.1e-5; -9.1e-5 0.000263]\n",
      "\n"
     ]
    },
    {
     "name": "stderr",
     "output_type": "stream",
     "text": [
      "\u001b[32mrunning MCMC for RR-BLUP... 40%|██████████              |  ETA: 0:01:09\u001b[39m"
     ]
    },
    {
     "name": "stdout",
     "output_type": "stream",
     "text": [
      "\n",
      "Posterior means at iteration: 20000\n",
      "Residual covariance matrix: \n",
      "[0.631153 0.073489; 0.073489 0.65179]\n",
      "Marker effects covariance matrix: \n",
      "[0.000347 -8.7e-5; -8.7e-5 0.000273]\n",
      "\n"
     ]
    },
    {
     "name": "stderr",
     "output_type": "stream",
     "text": [
      "\u001b[32mrunning MCMC for RR-BLUP... 60%|██████████████          |  ETA: 0:00:46\u001b[39m"
     ]
    },
    {
     "name": "stdout",
     "output_type": "stream",
     "text": [
      "\n",
      "Posterior means at iteration: 30000\n",
      "Residual covariance matrix: \n",
      "[0.636663 0.077996; 0.077996 0.646901]\n",
      "Marker effects covariance matrix: \n",
      "[0.00034 -9.5e-5; -9.5e-5 0.000283]\n",
      "\n"
     ]
    },
    {
     "name": "stderr",
     "output_type": "stream",
     "text": [
      "\u001b[32mrunning MCMC for RR-BLUP... 80%|███████████████████     |  ETA: 0:00:23\u001b[39m"
     ]
    },
    {
     "name": "stdout",
     "output_type": "stream",
     "text": [
      "\n",
      "Posterior means at iteration: 40000\n",
      "Residual covariance matrix: \n",
      "[0.639062 0.078551; 0.078551 0.650295]\n",
      "Marker effects covariance matrix: \n",
      "[0.000335 -9.6e-5; -9.6e-5 0.000278]\n",
      "\n"
     ]
    },
    {
     "name": "stderr",
     "output_type": "stream",
     "text": [
      "\u001b[32mrunning MCMC for RR-BLUP...100%|████████████████████████|  ETA: 0:00:00\u001b[39m"
     ]
    },
    {
     "name": "stdout",
     "output_type": "stream",
     "text": [
      "\n",
      "Posterior means at iteration: 50000\n",
      "Residual covariance matrix: \n",
      "[0.638261 0.079568; 0.079568 0.650738]\n",
      "Marker effects covariance matrix: \n",
      "[0.000336 -9.8e-5; -9.8e-5 0.000277]\n",
      "\n"
     ]
    },
    {
     "name": "stderr",
     "output_type": "stream",
     "text": [
      "\u001b[32mrunning MCMC for RR-BLUP...100%|████████████████████████| Time: 0:01:53\u001b[39m\n"
     ]
    },
    {
     "name": "stdout",
     "output_type": "stream",
     "text": [
      "1279 markers on 300 individuals were added.\n",
      "\u001b[31mPhenotyped individuals are not a subset of either\u001b[39m\n",
      "\u001b[31mgenotyped individuals (complete genomic data,non-single-step) or\u001b[39m\n",
      "\u001b[31mindividuals in pedigree (incomplete genomic data, single-step).\u001b[39m\n",
      "\u001b[31mOnly individuals with both information are used in the analysis.\u001b[39m\n",
      "\n",
      "\n",
      "\n",
      "A Linear Mixed Model was build using model equations:\n",
      "\n",
      "y1 = intercept\n",
      "y2 = intercept\n",
      "\n",
      "Model Information:\n",
      "\n",
      "Term            C/F          F/R            nLevels\n",
      "intercept       factor       fixed                1\n",
      "\n",
      "MCMC Information:\n",
      "\n",
      "methods                                      BayesC\n",
      "chain_length                                  50000\n",
      "burnin                                         1000\n",
      "estimatePi                                     true\n",
      "starting_value                                false\n",
      "printout_frequency                            10000\n",
      "output_samples_frequency                          0\n",
      "constraint                                    false\n",
      "missing_phenotypes                            false\n",
      "update_priors_frequency                           0\n",
      "\n",
      "Hyper-parameters Information: \n",
      "\n",
      "residual variances:           \n",
      "  0.53   -0.225\n",
      " -0.225   0.572\n",
      "genetic variances (genomic):  \n",
      "  0.0  -0.0\n",
      " -0.0   0.0\n",
      "marker effect variances:      \n",
      "  0.0  -0.0\n",
      " -0.0   0.0\n",
      "Π:\n",
      "combinations          probability\n",
      "[0.0, 0.0]                   0.25\n",
      "[1.0, 0.0]                   0.25\n",
      "[1.0, 1.0]                   0.25\n",
      "[0.0, 1.0]                   0.25\n",
      "\n",
      "Degree of freedom for hyper-parameters:\n",
      "\n",
      "residual variances:                           4.000\n",
      "iid random effect variances:                  4.000\n",
      "marker effect variances:                      4.000\n",
      "\n",
      "\n",
      "\n"
     ]
    },
    {
     "name": "stderr",
     "output_type": "stream",
     "text": [
      "\u001b[32mrunning MCMC for BayesC... 20%|█████                    |  ETA: 0:04:11\u001b[39m"
     ]
    },
    {
     "name": "stdout",
     "output_type": "stream",
     "text": [
      "\n",
      "Posterior means at iteration: 10000\n",
      "Residual covariance matrix: \n",
      "[0.643523 0.075178; 0.075178 0.658887]\n",
      "Marker effects covariance matrix: \n",
      "[0.000559 -0.000283; -0.000283 0.000436]\n",
      "π: \n",
      "Dict([0.0, 0.0]=>0.113345,[1.0, 0.0]=>0.249386,[1.0, 1.0]=>0.387004,[0.0, 1.0]=>0.250264)\n",
      "\n"
     ]
    },
    {
     "name": "stderr",
     "output_type": "stream",
     "text": [
      "\u001b[32mrunning MCMC for BayesC... 40%|██████████               |  ETA: 0:03:05\u001b[39m"
     ]
    },
    {
     "name": "stdout",
     "output_type": "stream",
     "text": [
      "\n",
      "Posterior means at iteration: 20000\n",
      "Residual covariance matrix: \n",
      "[0.633465 0.075327; 0.075327 0.650387]\n",
      "Marker effects covariance matrix: \n",
      "[0.000681 -0.0004; -0.0004 0.000527]\n",
      "π: \n",
      "Dict([0.0, 0.0]=>0.147957,[1.0, 0.0]=>0.253552,[1.0, 1.0]=>0.336778,[0.0, 1.0]=>0.261713)\n",
      "\n"
     ]
    },
    {
     "name": "stderr",
     "output_type": "stream",
     "text": [
      "\u001b[32mrunning MCMC for BayesC... 60%|███████████████          |  ETA: 0:02:08\u001b[39m"
     ]
    },
    {
     "name": "stdout",
     "output_type": "stream",
     "text": [
      "\n",
      "Posterior means at iteration: 30000\n",
      "Residual covariance matrix: \n",
      "[0.632907 0.0754; 0.0754 0.647294]\n",
      "Marker effects covariance matrix: \n",
      "[0.000674 -0.000414; -0.000414 0.000548]\n",
      "π: \n",
      "Dict([0.0, 0.0]=>0.148071,[1.0, 0.0]=>0.270773,[1.0, 1.0]=>0.305865,[0.0, 1.0]=>0.275291)\n",
      "\n"
     ]
    },
    {
     "name": "stderr",
     "output_type": "stream",
     "text": [
      "\u001b[32mrunning MCMC for BayesC... 80%|████████████████████     |  ETA: 0:01:05\u001b[39m"
     ]
    },
    {
     "name": "stdout",
     "output_type": "stream",
     "text": [
      "\n",
      "Posterior means at iteration: 40000\n",
      "Residual covariance matrix: \n",
      "[0.632486 0.075744; 0.075744 0.644143]\n",
      "Marker effects covariance matrix: \n",
      "[0.000661 -0.000438; -0.000438 0.000596]\n",
      "π: \n",
      "Dict([0.0, 0.0]=>0.156783,[1.0, 0.0]=>0.289314,[1.0, 1.0]=>0.292138,[0.0, 1.0]=>0.261765)\n",
      "\n"
     ]
    },
    {
     "name": "stderr",
     "output_type": "stream",
     "text": [
      "\u001b[32mrunning MCMC for BayesC...100%|█████████████████████████|  ETA: 0:00:00\u001b[39m"
     ]
    },
    {
     "name": "stdout",
     "output_type": "stream",
     "text": [
      "\n",
      "Posterior means at iteration: 50000\n",
      "Residual covariance matrix: \n",
      "[0.632352 0.076491; 0.076491 0.647039]\n",
      "Marker effects covariance matrix: \n",
      "[0.000645 -0.000421; -0.000421 0.000579]\n",
      "π: \n",
      "Dict([0.0, 0.0]=>0.155047,[1.0, 0.0]=>0.284144,[1.0, 1.0]=>0.308007,[0.0, 1.0]=>0.252802)\n",
      "\n"
     ]
    },
    {
     "name": "stderr",
     "output_type": "stream",
     "text": [
      "\u001b[32mrunning MCMC for BayesC...100%|█████████████████████████| Time: 0:05:22\u001b[39m\n"
     ]
    },
    {
     "name": "stdout",
     "output_type": "stream",
     "text": [
      "\n",
      " Iteration: 10\n",
      "\n",
      "1279 markers on 300 individuals were added.\n",
      "\u001b[31mPhenotyped individuals are not a subset of either\u001b[39m\n",
      "\u001b[31mgenotyped individuals (complete genomic data,non-single-step) or\u001b[39m\n",
      "\u001b[31mindividuals in pedigree (incomplete genomic data, single-step).\u001b[39m\n",
      "\u001b[31mOnly individuals with both information are used in the analysis.\u001b[39m\n",
      "\u001b[32mPi (Π) is not provided.\u001b[39m\n",
      "\u001b[32mPi (Π) is generated assuming all markers have effects on all traits.\u001b[39m\n",
      "\n",
      "\n",
      "\n",
      "A Linear Mixed Model was build using model equations:\n",
      "\n",
      "y1 = intercept\n",
      "y2 = intercept\n",
      "\n",
      "Model Information:\n",
      "\n",
      "Term            C/F          F/R            nLevels\n",
      "intercept       factor       fixed                1\n",
      "\n",
      "MCMC Information:\n",
      "\n",
      "methods                                      BayesL\n",
      "chain_length                                  50000\n",
      "burnin                                         1000\n",
      "estimatePi                                    false\n",
      "starting_value                                false\n",
      "printout_frequency                            10000\n",
      "output_samples_frequency                          0\n",
      "constraint                                    false\n",
      "missing_phenotypes                            false\n",
      "update_priors_frequency                           0\n",
      "\n",
      "Hyper-parameters Information: \n",
      "\n",
      "residual variances:           \n",
      "  0.53   -0.225\n",
      " -0.225   0.572\n",
      "genetic variances (genomic):  \n",
      "  0.0  -0.0\n",
      " -0.0   0.0\n",
      "marker effect variances:      \n",
      "  0.0  -0.0\n",
      " -0.0   0.0\n",
      "Π:\n",
      "combinations          probability\n",
      "[0.0, 0.0]                    0.0\n",
      "[1.0, 0.0]                    0.0\n",
      "[1.0, 1.0]                    1.0\n",
      "[0.0, 1.0]                    0.0\n",
      "\n",
      "Degree of freedom for hyper-parameters:\n",
      "\n",
      "residual variances:                           4.000\n",
      "iid random effect variances:                  4.000\n",
      "marker effect variances:                      4.000\n",
      "\n",
      "\n",
      "\n"
     ]
    },
    {
     "name": "stderr",
     "output_type": "stream",
     "text": [
      "\u001b[32mrunning MCMC for BayesL... 20%|█████                    |  ETA: 0:02:24\u001b[39m"
     ]
    },
    {
     "name": "stdout",
     "output_type": "stream",
     "text": [
      "\n",
      "Posterior means at iteration: 10000\n",
      "Residual covariance matrix: \n",
      "[0.743221 0.104467; 0.104467 0.683517]\n",
      "Marker effects covariance matrix: \n",
      "[2.5e-5 -9.0e-6; -9.0e-6 2.1e-5]\n",
      "\n"
     ]
    },
    {
     "name": "stderr",
     "output_type": "stream",
     "text": [
      "\u001b[32mrunning MCMC for BayesL... 40%|██████████               |  ETA: 0:02:15\u001b[39m"
     ]
    },
    {
     "name": "stdout",
     "output_type": "stream",
     "text": [
      "\n",
      "Posterior means at iteration: 20000\n",
      "Residual covariance matrix: \n",
      "[0.744375 0.107693; 0.107693 0.68384]\n",
      "Marker effects covariance matrix: \n",
      "[2.5e-5 -9.0e-6; -9.0e-6 2.1e-5]\n",
      "\n"
     ]
    },
    {
     "name": "stderr",
     "output_type": "stream",
     "text": [
      "\u001b[32mrunning MCMC for BayesL... 60%|███████████████          |  ETA: 0:01:37\u001b[39m"
     ]
    },
    {
     "name": "stdout",
     "output_type": "stream",
     "text": [
      "\n",
      "Posterior means at iteration: 30000\n",
      "Residual covariance matrix: \n",
      "[0.747689 0.11067; 0.11067 0.684777]\n",
      "Marker effects covariance matrix: \n",
      "[2.5e-5 -1.0e-5; -1.0e-5 2.1e-5]\n",
      "\n"
     ]
    },
    {
     "name": "stderr",
     "output_type": "stream",
     "text": [
      "\u001b[32mrunning MCMC for BayesL... 80%|████████████████████     |  ETA: 0:00:52\u001b[39m"
     ]
    },
    {
     "name": "stdout",
     "output_type": "stream",
     "text": [
      "\n",
      "Posterior means at iteration: 40000\n",
      "Residual covariance matrix: \n",
      "[0.747991 0.110726; 0.110726 0.683724]\n",
      "Marker effects covariance matrix: \n",
      "[2.5e-5 -1.0e-5; -1.0e-5 2.1e-5]\n",
      "\n"
     ]
    },
    {
     "name": "stderr",
     "output_type": "stream",
     "text": [
      "\u001b[32mrunning MCMC for BayesL...100%|█████████████████████████|  ETA: 0:00:00\u001b[39m"
     ]
    },
    {
     "name": "stdout",
     "output_type": "stream",
     "text": [
      "\n",
      "Posterior means at iteration: 50000\n",
      "Residual covariance matrix: \n",
      "[0.746515 0.10953; 0.10953 0.681073]\n",
      "Marker effects covariance matrix: \n",
      "[2.5e-5 -9.0e-6; -9.0e-6 2.2e-5]\n",
      "\n"
     ]
    },
    {
     "name": "stderr",
     "output_type": "stream",
     "text": [
      "\u001b[32mrunning MCMC for BayesL...100%|█████████████████████████| Time: 0:04:32\u001b[39m\n"
     ]
    },
    {
     "name": "stdout",
     "output_type": "stream",
     "text": [
      "1279 markers on 300 individuals were added.\n",
      "\u001b[31mPhenotyped individuals are not a subset of either\u001b[39m\n",
      "\u001b[31mgenotyped individuals (complete genomic data,non-single-step) or\u001b[39m\n",
      "\u001b[31mindividuals in pedigree (incomplete genomic data, single-step).\u001b[39m\n",
      "\u001b[31mOnly individuals with both information are used in the analysis.\u001b[39m\n",
      "\u001b[32mPi (Π) is not provided.\u001b[39m\n",
      "\u001b[32mPi (Π) is generated assuming all markers have effects on all traits.\u001b[39m\n",
      "\n",
      "\n",
      "\n",
      "A Linear Mixed Model was build using model equations:\n",
      "\n",
      "y1 = intercept\n",
      "y2 = intercept\n",
      "\n",
      "Model Information:\n",
      "\n",
      "Term            C/F          F/R            nLevels\n",
      "intercept       factor       fixed                1\n",
      "\n",
      "MCMC Information:\n",
      "\n",
      "methods                                     RR-BLUP\n",
      "chain_length                                  50000\n",
      "burnin                                         1000\n",
      "estimatePi                                    false\n",
      "starting_value                                false\n",
      "printout_frequency                            10000\n",
      "output_samples_frequency                          0\n",
      "constraint                                    false\n",
      "missing_phenotypes                            false\n",
      "update_priors_frequency                           0\n",
      "\n",
      "Hyper-parameters Information: \n",
      "\n",
      "residual variances:           \n",
      "  0.53   -0.225\n",
      " -0.225   0.572\n",
      "genetic variances (genomic):  \n",
      "  0.0  -0.0\n",
      " -0.0   0.0\n",
      "marker effect variances:      \n",
      "  0.0  -0.0\n",
      " -0.0   0.0\n",
      "Π:\n",
      "combinations          probability\n",
      "[0.0, 0.0]                    0.0\n",
      "[1.0, 0.0]                    0.0\n",
      "[1.0, 1.0]                    1.0\n",
      "[0.0, 1.0]                    0.0\n",
      "\n",
      "Degree of freedom for hyper-parameters:\n",
      "\n",
      "residual variances:                           4.000\n",
      "iid random effect variances:                  4.000\n",
      "marker effect variances:                      4.000\n",
      "\n",
      "\n",
      "\n"
     ]
    },
    {
     "name": "stderr",
     "output_type": "stream",
     "text": [
      "\u001b[32mrunning MCMC for RR-BLUP... 20%|█████                   |  ETA: 0:02:39\u001b[39m"
     ]
    },
    {
     "name": "stdout",
     "output_type": "stream",
     "text": [
      "\n",
      "Posterior means at iteration: 10000\n",
      "Residual covariance matrix: \n",
      "[0.737312 0.099405; 0.099405 0.675976]\n",
      "Marker effects covariance matrix: \n",
      "[0.000311 -9.7e-5; -9.7e-5 0.000265]\n",
      "\n"
     ]
    },
    {
     "name": "stderr",
     "output_type": "stream",
     "text": [
      "\u001b[32mrunning MCMC for RR-BLUP... 40%|██████████              |  ETA: 0:01:41\u001b[39m"
     ]
    },
    {
     "name": "stdout",
     "output_type": "stream",
     "text": [
      "\n",
      "Posterior means at iteration: 20000\n",
      "Residual covariance matrix: \n",
      "[0.74215 0.104454; 0.104454 0.673757]\n",
      "Marker effects covariance matrix: \n",
      "[0.000302 -0.000105; -0.000105 0.000271]\n",
      "\n"
     ]
    },
    {
     "name": "stderr",
     "output_type": "stream",
     "text": [
      "\u001b[32mrunning MCMC for RR-BLUP... 60%|██████████████          |  ETA: 0:01:04\u001b[39m"
     ]
    },
    {
     "name": "stdout",
     "output_type": "stream",
     "text": [
      "\n",
      "Posterior means at iteration: 30000\n",
      "Residual covariance matrix: \n",
      "[0.740256 0.102577; 0.102577 0.672116]\n",
      "Marker effects covariance matrix: \n",
      "[0.000305 -0.000103; -0.000103 0.000272]\n",
      "\n"
     ]
    },
    {
     "name": "stderr",
     "output_type": "stream",
     "text": [
      "\u001b[32mrunning MCMC for RR-BLUP... 80%|███████████████████     |  ETA: 0:00:30\u001b[39m"
     ]
    },
    {
     "name": "stdout",
     "output_type": "stream",
     "text": [
      "\n",
      "Posterior means at iteration: 40000\n",
      "Residual covariance matrix: \n",
      "[0.743149 0.104249; 0.104249 0.673557]\n",
      "Marker effects covariance matrix: \n",
      "[0.000301 -0.000106; -0.000106 0.00027]\n",
      "\n"
     ]
    },
    {
     "name": "stderr",
     "output_type": "stream",
     "text": [
      "\u001b[32mrunning MCMC for RR-BLUP...100%|████████████████████████|  ETA: 0:00:00\u001b[39m"
     ]
    },
    {
     "name": "stdout",
     "output_type": "stream",
     "text": [
      "\n",
      "Posterior means at iteration: 50000\n",
      "Residual covariance matrix: \n",
      "[0.74386 0.105778; 0.105778 0.673797]\n",
      "Marker effects covariance matrix: \n",
      "[0.000301 -0.000109; -0.000109 0.00027]\n",
      "\n",
      "1279 markers on 300 individuals were added.\n",
      "\u001b[31mPhenotyped individuals are not a subset of either\u001b[39m\n",
      "\u001b[31mgenotyped individuals (complete genomic data,non-single-step) or\u001b[39m\n",
      "\u001b[31mindividuals in pedigree (incomplete genomic data, single-step).\u001b[39m\n",
      "\u001b[31mOnly individuals with both information are used in the analysis.\u001b[39m\n"
     ]
    },
    {
     "name": "stderr",
     "output_type": "stream",
     "text": [
      "\u001b[32mrunning MCMC for RR-BLUP...100%|████████████████████████| Time: 0:02:24\u001b[39m\n"
     ]
    },
    {
     "name": "stdout",
     "output_type": "stream",
     "text": [
      "\n",
      "\n",
      "\n",
      "A Linear Mixed Model was build using model equations:\n",
      "\n",
      "y1 = intercept\n",
      "y2 = intercept\n",
      "\n",
      "Model Information:\n",
      "\n",
      "Term            C/F          F/R            nLevels\n",
      "intercept       factor       fixed                1\n",
      "\n",
      "MCMC Information:\n",
      "\n",
      "methods                                      BayesC\n",
      "chain_length                                  50000\n",
      "burnin                                         1000\n",
      "estimatePi                                     true\n",
      "starting_value                                false\n",
      "printout_frequency                            10000\n",
      "output_samples_frequency                          0\n",
      "constraint                                    false\n",
      "missing_phenotypes                            false\n",
      "update_priors_frequency                           0\n",
      "\n",
      "Hyper-parameters Information: \n",
      "\n",
      "residual variances:           \n",
      "  0.53   -0.225\n",
      " -0.225   0.572\n",
      "genetic variances (genomic):  \n",
      "  0.0  -0.0\n",
      " -0.0   0.0\n",
      "marker effect variances:      \n",
      "  0.0  -0.0\n",
      " -0.0   0.0\n",
      "Π:\n",
      "combinations          probability\n",
      "[0.0, 0.0]                   0.25\n",
      "[1.0, 0.0]                   0.25\n",
      "[1.0, 1.0]                   0.25\n",
      "[0.0, 1.0]                   0.25\n",
      "\n",
      "Degree of freedom for hyper-parameters:\n",
      "\n",
      "residual variances:                           4.000\n",
      "iid random effect variances:                  4.000\n",
      "marker effect variances:                      4.000\n",
      "\n",
      "\n",
      "\n"
     ]
    },
    {
     "name": "stderr",
     "output_type": "stream",
     "text": [
      "\u001b[32mrunning MCMC for BayesC... 20%|█████                    |  ETA: 0:05:07\u001b[39m"
     ]
    },
    {
     "name": "stdout",
     "output_type": "stream",
     "text": [
      "\n",
      "Posterior means at iteration: 10000\n",
      "Residual covariance matrix: \n",
      "[0.740779 0.105003; 0.105003 0.685842]\n",
      "Marker effects covariance matrix: \n",
      "[0.000599 -0.000371; -0.000371 0.000427]\n",
      "π: \n",
      "Dict([0.0, 0.0]=>0.140022,[1.0, 0.0]=>0.228423,[1.0, 1.0]=>0.371223,[0.0, 1.0]=>0.260332)\n",
      "\n"
     ]
    },
    {
     "name": "stderr",
     "output_type": "stream",
     "text": [
      "\u001b[32mrunning MCMC for BayesC... 40%|██████████               |  ETA: 0:03:38\u001b[39m"
     ]
    },
    {
     "name": "stdout",
     "output_type": "stream",
     "text": [
      "\n",
      "Posterior means at iteration: 20000\n",
      "Residual covariance matrix: \n",
      "[0.748089 0.103512; 0.103512 0.685187]\n",
      "Marker effects covariance matrix: \n",
      "[0.000515 -0.000347; -0.000347 0.000496]\n",
      "π: \n",
      "Dict([0.0, 0.0]=>0.130855,[1.0, 0.0]=>0.26593,[1.0, 1.0]=>0.37667,[0.0, 1.0]=>0.226546)\n",
      "\n"
     ]
    },
    {
     "name": "stderr",
     "output_type": "stream",
     "text": [
      "\u001b[32mrunning MCMC for BayesC... 60%|███████████████          |  ETA: 0:02:23\u001b[39m"
     ]
    },
    {
     "name": "stdout",
     "output_type": "stream",
     "text": [
      "\n",
      "Posterior means at iteration: 30000\n",
      "Residual covariance matrix: \n",
      "[0.744735 0.10203; 0.10203 0.684502]\n",
      "Marker effects covariance matrix: \n",
      "[0.000563 -0.000349; -0.000349 0.000472]\n",
      "π: \n",
      "Dict([0.0, 0.0]=>0.146791,[1.0, 0.0]=>0.238171,[1.0, 1.0]=>0.36614,[0.0, 1.0]=>0.248897)\n",
      "\n"
     ]
    },
    {
     "name": "stderr",
     "output_type": "stream",
     "text": [
      "\u001b[32mrunning MCMC for BayesC... 80%|████████████████████     |  ETA: 0:01:11\u001b[39m"
     ]
    },
    {
     "name": "stdout",
     "output_type": "stream",
     "text": [
      "\n",
      "Posterior means at iteration: 40000\n",
      "Residual covariance matrix: \n",
      "[0.746077 0.099813; 0.099813 0.682178]\n",
      "Marker effects covariance matrix: \n",
      "[0.000572 -0.000356; -0.000356 0.00"
     ]
    },
    {
     "name": "stderr",
     "output_type": "stream",
     "text": [
      "\u001b[32mrunning MCMC for BayesC... 80%|████████████████████     |  ETA: 0:01:11\u001b[39m"
     ]
    },
    {
     "name": "stdout",
     "output_type": "stream",
     "text": [
      "0474]\n",
      "π: \n",
      "Dict([0.0, 0.0]=>0.145807,[1.0, 0.0]=>0.243581,[1.0, 1.0]=>0.339915,[0.0, 1.0]=>0.270696)\n",
      "\n"
     ]
    },
    {
     "name": "stderr",
     "output_type": "stream",
     "text": [
      "\u001b[32mrunning MCMC for BayesC...100%|█████████████████████████|  ETA: 0:00:00\u001b[39m"
     ]
    },
    {
     "name": "stdout",
     "output_type": "stream",
     "text": [
      "\n",
      "Posterior means at iteration: 50000\n",
      "Residual covariance matrix: \n",
      "[0.744695 0.09934; 0.09934 0.681562]\n",
      "Marker effects covariance matrix: \n",
      "[0.000569 -0.000371; -0.000371 0.000502]\n",
      "π: \n",
      "Dict([0.0, 0.0]=>0.150514,[1.0, 0.0]=>0.259151,[1.0, 1.0]=>0.325607,[0.0, 1.0]=>0.264728)\n",
      "\n"
     ]
    },
    {
     "name": "stderr",
     "output_type": "stream",
     "text": [
      "\u001b[32mrunning MCMC for BayesC...100%|█████████████████████████| Time: 0:05:50\u001b[39m\n"
     ]
    },
    {
     "ename": "LoadError",
     "evalue": "syntax: unexpected \"end\"",
     "output_type": "error",
     "traceback": [
      "syntax: unexpected \"end\"",
      ""
     ]
    }
   ],
   "source": [
    "for i=1:10\n",
    "    println(\"\\n Iteration: \",i,\"\\n\")\n",
    "    trnSet,valSet = getTrnValSets(N,trnSize)\n",
    "    \n",
    "    ### BayesL ###\n",
    "    model = build_model(model_equation,R)\n",
    "    add_genotypes(model,M[trnSet,:],G,header=headerMarkers,rowID=id[trnSet],G_is_marker_variance=true);\n",
    "    out=runMCMC(model,phenotypes,methods=\"BayesL\",\n",
    "            chain_length = 50_000,\n",
    "            burnin = 1_000,\n",
    "            estimatePi = false,\n",
    "            printout_frequency = 10_000,\n",
    "            output_samples_frequency = 0\n",
    "    )\n",
    "    ebv1 = M[valSet,:]*out[\"Posterior mean of marker effects\"][1][:,2] \n",
    "    ebv2 = M[valSet,:]*out[\"Posterior mean of marker effects\"][2][:,2] \n",
    "\n",
    "    y1 = convert(Array,phenotypes[valSet,2])\n",
    "    y2 = convert(Array,phenotypes[valSet,3])\n",
    "    corL1 = cor(y1,ebv1)\n",
    "    corL2 = cor(y2,ebv2)\n",
    "    \n",
    "    ### BayesC0 ###\n",
    "    model = build_model(model_equation,R)\n",
    "    add_genotypes(model,M[trnSet,:],G,header=headerMarkers,rowID=id[trnSet],G_is_marker_variance=true);\n",
    "    out=runMCMC(model,phenotypes,methods=\"RR-BLUP\",\n",
    "            chain_length = 50_000,\n",
    "            burnin = 1_000,\n",
    "            estimatePi = false,\n",
    "            printout_frequency = 10_000,\n",
    "            output_samples_frequency = 0\n",
    "    )\n",
    "    ebv1 = M[valSet,:]*out[\"Posterior mean of marker effects\"][1][:,2]\n",
    "    ebv2 = M[valSet,:]*out[\"Posterior mean of marker effects\"][2][:,2]\n",
    "    y1 = convert(Array,phenotypes[valSet,2])\n",
    "    y2 = convert(Array,phenotypes[valSet,3])\n",
    "    corC01 = cor(y1,ebv1)\n",
    "    corC02 = cor(y2,ebv2)\n",
    "    \n",
    "    ### BayesC ###\n",
    "    π1 = 0.5\n",
    "    Pi = Dict([1.0; 1.0]=>(1-π1)^2,[1.0; 0.0]=>(1-π1)*π1,[0.0; 1.0]=>(1-π1)*π1,[0.0; 0.0]=>π1*π1)\n",
    "    model = build_model(model_equation,R)\n",
    "    add_genotypes(model,M[trnSet,:],G,header=headerMarkers,rowID=id[trnSet],G_is_marker_variance=true);\n",
    "    out=runMCMC(model,phenotypes,methods=\"BayesC\",\n",
    "            chain_length = 50_000,\n",
    "            burnin = 1_000,\n",
    "            Pi = Pi,\n",
    "            estimatePi = true,\n",
    "            printout_frequency = 10_000,\n",
    "            output_samples_frequency = 0\n",
    "    )\n",
    "    ebv1 = M[valSet,:]*out[\"Posterior mean of marker effects\"][1][:,2]\n",
    "    ebv2 = M[valSet,:]*out[\"Posterior mean of marker effects\"][2][:,2]\n",
    "    y1 = convert(Array,phenotypes[valSet,2])\n",
    "    y2 = convert(Array,phenotypes[valSet,3])\n",
    "    corC1 = cor(y1,ebv1)\n",
    "    corC2 = cor(y2,ebv2)\n",
    "\n",
    "    @printf(resFile,\"%4.2f %4.2f %4.2f %4.2f %4.2f %4.2f\\n\",corL1,corL2,corC01, corC02, corC1, corC2)\n",
    "    flush(resFile)\n",
    "    end\n",
    "end\n",
    "close(resFile)"
   ]
  },
  {
   "cell_type": "code",
   "execution_count": 26,
   "metadata": {},
   "outputs": [
    {
     "data": {
      "text/plain": [
       "10×6 Array{Union{Missing, Float64},2}:\n",
       " 0.46  0.45  0.46  0.45  0.46  0.44\n",
       " 0.42  0.46  0.42  0.46  0.42  0.45\n",
       " 0.57  0.43  0.57  0.43  0.57  0.43\n",
       " 0.47  0.42  0.48  0.42  0.47  0.42\n",
       " 0.48  0.42  0.48  0.42  0.48  0.42\n",
       " 0.43  0.48  0.43  0.48  0.43  0.48\n",
       " 0.47  0.41  0.47  0.41  0.47  0.41\n",
       " 0.38  0.45  0.39  0.46  0.38  0.46\n",
       " 0.48  0.46  0.49  0.46  0.48  0.46\n",
       " 0.5   0.49  0.51  0.49  0.51  0.49"
      ]
     },
     "execution_count": 26,
     "metadata": {},
     "output_type": "execute_result"
    }
   ],
   "source": [
    "resCorr = Matrix(readtable(\"wheatCorrelations\",separator=' ',header=false))"
   ]
  },
  {
   "cell_type": "code",
   "execution_count": 31,
   "metadata": {},
   "outputs": [
    {
     "data": {
      "text/plain": [
       "0.57"
      ]
     },
     "execution_count": 31,
     "metadata": {},
     "output_type": "execute_result"
    }
   ],
   "source": [
    "minVal = minimum(resCorr)\n",
    "maxVal = maximum(resCorr)"
   ]
  },
  {
   "cell_type": "code",
   "execution_count": 28,
   "metadata": {},
   "outputs": [
    {
     "data": {
      "text/plain": [
       "1×6 Array{Union{Missing, Float64},2}:\n",
       " 0.466  0.447  0.47  0.448  0.467  0.446"
      ]
     },
     "execution_count": 28,
     "metadata": {},
     "output_type": "execute_result"
    }
   ],
   "source": [
    "mean(resCorr,dims=1)"
   ]
  },
  {
   "cell_type": "code",
   "execution_count": 29,
   "metadata": {},
   "outputs": [],
   "source": [
    "using Plots"
   ]
  },
  {
   "cell_type": "code",
   "execution_count": 32,
   "metadata": {
    "scrolled": false
   },
   "outputs": [
    {
     "data": {
      "image/svg+xml": [
       "<?xml version=\"1.0\" encoding=\"utf-8\"?>\n",
       "<svg xmlns=\"http://www.w3.org/2000/svg\" xmlns:xlink=\"http://www.w3.org/1999/xlink\" width=\"600\" height=\"400\" viewBox=\"0 0 2400 1600\">\n",
       "<defs>\n",
       "  <clipPath id=\"clip7700\">\n",
       "    <rect x=\"0\" y=\"0\" width=\"2000\" height=\"2000\"/>\n",
       "  </clipPath>\n",
       "</defs>\n",
       "<defs>\n",
       "  <clipPath id=\"clip7701\">\n",
       "    <rect x=\"0\" y=\"0\" width=\"2400\" height=\"1600\"/>\n",
       "  </clipPath>\n",
       "</defs>\n",
       "<polygon clip-path=\"url(#clip7701)\" points=\"\n",
       "0,1600 2400,1600 2400,0 0,0 \n",
       "  \" fill=\"#ffffff\" fill-rule=\"evenodd\" fill-opacity=\"1\"/>\n",
       "<defs>\n",
       "  <clipPath id=\"clip7702\">\n",
       "    <rect x=\"480\" y=\"0\" width=\"1681\" height=\"1600\"/>\n",
       "  </clipPath>\n",
       "</defs>\n",
       "<polygon clip-path=\"url(#clip7701)\" points=\"\n",
       "251.149,1440.48 2321.26,1440.48 2321.26,125.984 251.149,125.984 \n",
       "  \" fill=\"#ffffff\" fill-rule=\"evenodd\" fill-opacity=\"1\"/>\n",
       "<defs>\n",
       "  <clipPath id=\"clip7703\">\n",
       "    <rect x=\"251\" y=\"125\" width=\"2071\" height=\"1315\"/>\n",
       "  </clipPath>\n",
       "</defs>\n",
       "<polyline clip-path=\"url(#clip7703)\" style=\"stroke:#000000; stroke-width:2; stroke-opacity:0.1; fill:none\" points=\"\n",
       "  498.076,1440.48 498.076,125.984 \n",
       "  \"/>\n",
       "<polyline clip-path=\"url(#clip7703)\" style=\"stroke:#000000; stroke-width:2; stroke-opacity:0.1; fill:none\" points=\"\n",
       "  1017.07,1440.48 1017.07,125.984 \n",
       "  \"/>\n",
       "<polyline clip-path=\"url(#clip7703)\" style=\"stroke:#000000; stroke-width:2; stroke-opacity:0.1; fill:none\" points=\"\n",
       "  1536.07,1440.48 1536.07,125.984 \n",
       "  \"/>\n",
       "<polyline clip-path=\"url(#clip7703)\" style=\"stroke:#000000; stroke-width:2; stroke-opacity:0.1; fill:none\" points=\"\n",
       "  2055.07,1440.48 2055.07,125.984 \n",
       "  \"/>\n",
       "<polyline clip-path=\"url(#clip7703)\" style=\"stroke:#000000; stroke-width:2; stroke-opacity:0.1; fill:none\" points=\"\n",
       "  251.149,1272.74 2321.26,1272.74 \n",
       "  \"/>\n",
       "<polyline clip-path=\"url(#clip7703)\" style=\"stroke:#000000; stroke-width:2; stroke-opacity:0.1; fill:none\" points=\"\n",
       "  251.149,946.404 2321.26,946.404 \n",
       "  \"/>\n",
       "<polyline clip-path=\"url(#clip7703)\" style=\"stroke:#000000; stroke-width:2; stroke-opacity:0.1; fill:none\" points=\"\n",
       "  251.149,620.063 2321.26,620.063 \n",
       "  \"/>\n",
       "<polyline clip-path=\"url(#clip7703)\" style=\"stroke:#000000; stroke-width:2; stroke-opacity:0.1; fill:none\" points=\"\n",
       "  251.149,293.723 2321.26,293.723 \n",
       "  \"/>\n",
       "<polyline clip-path=\"url(#clip7701)\" style=\"stroke:#000000; stroke-width:4; stroke-opacity:1; fill:none\" points=\"\n",
       "  251.149,1440.48 2321.26,1440.48 \n",
       "  \"/>\n",
       "<polyline clip-path=\"url(#clip7701)\" style=\"stroke:#000000; stroke-width:4; stroke-opacity:1; fill:none\" points=\"\n",
       "  251.149,1440.48 251.149,125.984 \n",
       "  \"/>\n",
       "<polyline clip-path=\"url(#clip7701)\" style=\"stroke:#000000; stroke-width:4; stroke-opacity:1; fill:none\" points=\"\n",
       "  498.076,1440.48 498.076,1420.77 \n",
       "  \"/>\n",
       "<polyline clip-path=\"url(#clip7701)\" style=\"stroke:#000000; stroke-width:4; stroke-opacity:1; fill:none\" points=\"\n",
       "  1017.07,1440.48 1017.07,1420.77 \n",
       "  \"/>\n",
       "<polyline clip-path=\"url(#clip7701)\" style=\"stroke:#000000; stroke-width:4; stroke-opacity:1; fill:none\" points=\"\n",
       "  1536.07,1440.48 1536.07,1420.77 \n",
       "  \"/>\n",
       "<polyline clip-path=\"url(#clip7701)\" style=\"stroke:#000000; stroke-width:4; stroke-opacity:1; fill:none\" points=\"\n",
       "  2055.07,1440.48 2055.07,1420.77 \n",
       "  \"/>\n",
       "<polyline clip-path=\"url(#clip7701)\" style=\"stroke:#000000; stroke-width:4; stroke-opacity:1; fill:none\" points=\"\n",
       "  251.149,1272.74 282.2,1272.74 \n",
       "  \"/>\n",
       "<polyline clip-path=\"url(#clip7701)\" style=\"stroke:#000000; stroke-width:4; stroke-opacity:1; fill:none\" points=\"\n",
       "  251.149,946.404 282.2,946.404 \n",
       "  \"/>\n",
       "<polyline clip-path=\"url(#clip7701)\" style=\"stroke:#000000; stroke-width:4; stroke-opacity:1; fill:none\" points=\"\n",
       "  251.149,620.063 282.2,620.063 \n",
       "  \"/>\n",
       "<polyline clip-path=\"url(#clip7701)\" style=\"stroke:#000000; stroke-width:4; stroke-opacity:1; fill:none\" points=\"\n",
       "  251.149,293.723 282.2,293.723 \n",
       "  \"/>\n",
       "<g clip-path=\"url(#clip7701)\">\n",
       "<text style=\"fill:#000000; fill-opacity:1; font-family:Arial,Helvetica Neue,Helvetica,sans-serif; font-size:48px; text-anchor:middle;\" transform=\"rotate(0, 498.076, 1494.48)\" x=\"498.076\" y=\"1494.48\">0.40</text>\n",
       "</g>\n",
       "<g clip-path=\"url(#clip7701)\">\n",
       "<text style=\"fill:#000000; fill-opacity:1; font-family:Arial,Helvetica Neue,Helvetica,sans-serif; font-size:48px; text-anchor:middle;\" transform=\"rotate(0, 1017.07, 1494.48)\" x=\"1017.07\" y=\"1494.48\">0.45</text>\n",
       "</g>\n",
       "<g clip-path=\"url(#clip7701)\">\n",
       "<text style=\"fill:#000000; fill-opacity:1; font-family:Arial,Helvetica Neue,Helvetica,sans-serif; font-size:48px; text-anchor:middle;\" transform=\"rotate(0, 1536.07, 1494.48)\" x=\"1536.07\" y=\"1494.48\">0.50</text>\n",
       "</g>\n",
       "<g clip-path=\"url(#clip7701)\">\n",
       "<text style=\"fill:#000000; fill-opacity:1; font-family:Arial,Helvetica Neue,Helvetica,sans-serif; font-size:48px; text-anchor:middle;\" transform=\"rotate(0, 2055.07, 1494.48)\" x=\"2055.07\" y=\"1494.48\">0.55</text>\n",
       "</g>\n",
       "<g clip-path=\"url(#clip7701)\">\n",
       "<text style=\"fill:#000000; fill-opacity:1; font-family:Arial,Helvetica Neue,Helvetica,sans-serif; font-size:48px; text-anchor:end;\" transform=\"rotate(0, 227.149, 1290.24)\" x=\"227.149\" y=\"1290.24\">0.40</text>\n",
       "</g>\n",
       "<g clip-path=\"url(#clip7701)\">\n",
       "<text style=\"fill:#000000; fill-opacity:1; font-family:Arial,Helvetica Neue,Helvetica,sans-serif; font-size:48px; text-anchor:end;\" transform=\"rotate(0, 227.149, 963.904)\" x=\"227.149\" y=\"963.904\">0.45</text>\n",
       "</g>\n",
       "<g clip-path=\"url(#clip7701)\">\n",
       "<text style=\"fill:#000000; fill-opacity:1; font-family:Arial,Helvetica Neue,Helvetica,sans-serif; font-size:48px; text-anchor:end;\" transform=\"rotate(0, 227.149, 637.563)\" x=\"227.149\" y=\"637.563\">0.50</text>\n",
       "</g>\n",
       "<g clip-path=\"url(#clip7701)\">\n",
       "<text style=\"fill:#000000; fill-opacity:1; font-family:Arial,Helvetica Neue,Helvetica,sans-serif; font-size:48px; text-anchor:end;\" transform=\"rotate(0, 227.149, 311.223)\" x=\"227.149\" y=\"311.223\">0.55</text>\n",
       "</g>\n",
       "<g clip-path=\"url(#clip7701)\">\n",
       "<text style=\"fill:#000000; fill-opacity:1; font-family:Arial,Helvetica Neue,Helvetica,sans-serif; font-size:84px; text-anchor:middle;\" transform=\"rotate(0, 1286.2, 73.2)\" x=\"1286.2\" y=\"73.2\">y1</text>\n",
       "</g>\n",
       "<g clip-path=\"url(#clip7701)\">\n",
       "<text style=\"fill:#000000; fill-opacity:1; font-family:Arial,Helvetica Neue,Helvetica,sans-serif; font-size:66px; text-anchor:middle;\" transform=\"rotate(0, 1286.2, 1590.4)\" x=\"1286.2\" y=\"1590.4\">RR-BLUP</text>\n",
       "</g>\n",
       "<g clip-path=\"url(#clip7701)\">\n",
       "<text style=\"fill:#000000; fill-opacity:1; font-family:Arial,Helvetica Neue,Helvetica,sans-serif; font-size:66px; text-anchor:middle;\" transform=\"rotate(-90, 57.6, 783.233)\" x=\"57.6\" y=\"783.233\">BayesL</text>\n",
       "</g>\n",
       "<polyline clip-path=\"url(#clip7703)\" style=\"stroke:#009af9; stroke-width:4; stroke-opacity:1; fill:none\" points=\"\n",
       "  309.737,1391.17 487.824,1279.19 594.847,1211.9 685.334,1155 783.628,1093.19 874.246,1036.21 971.398,975.124 1083.96,904.347 1183.99,841.449 1271.71,786.294 \n",
       "  1367.34,726.159 1463.55,665.667 1569.91,598.785 1671.12,535.149 1776.35,468.982 1864.93,413.283 1973.08,345.281 2074.74,281.358 2237.61,178.948 \n",
       "  \"/>\n",
       "<circle clip-path=\"url(#clip7703)\" style=\"fill:#000000; stroke:none; fill-opacity:1\" cx=\"1120.87\" cy=\"881.135\" r=\"18\"/>\n",
       "<circle clip-path=\"url(#clip7703)\" style=\"fill:#e26f46; stroke:none; fill-opacity:1\" cx=\"1120.87\" cy=\"881.135\" r=\"14\"/>\n",
       "<circle clip-path=\"url(#clip7703)\" style=\"fill:#000000; stroke:none; fill-opacity:1\" cx=\"705.675\" cy=\"1142.21\" r=\"18\"/>\n",
       "<circle clip-path=\"url(#clip7703)\" style=\"fill:#e26f46; stroke:none; fill-opacity:1\" cx=\"705.675\" cy=\"1142.21\" r=\"14\"/>\n",
       "<circle clip-path=\"url(#clip7703)\" style=\"fill:#000000; stroke:none; fill-opacity:1\" cx=\"2262.67\" cy=\"163.187\" r=\"18\"/>\n",
       "<circle clip-path=\"url(#clip7703)\" style=\"fill:#e26f46; stroke:none; fill-opacity:1\" cx=\"2262.67\" cy=\"163.187\" r=\"14\"/>\n",
       "<circle clip-path=\"url(#clip7703)\" style=\"fill:#000000; stroke:none; fill-opacity:1\" cx=\"1328.47\" cy=\"815.867\" r=\"18\"/>\n",
       "<circle clip-path=\"url(#clip7703)\" style=\"fill:#e26f46; stroke:none; fill-opacity:1\" cx=\"1328.47\" cy=\"815.867\" r=\"14\"/>\n",
       "<circle clip-path=\"url(#clip7703)\" style=\"fill:#000000; stroke:none; fill-opacity:1\" cx=\"1328.47\" cy=\"750.599\" r=\"18\"/>\n",
       "<circle clip-path=\"url(#clip7703)\" style=\"fill:#e26f46; stroke:none; fill-opacity:1\" cx=\"1328.47\" cy=\"750.599\" r=\"14\"/>\n",
       "<circle clip-path=\"url(#clip7703)\" style=\"fill:#000000; stroke:none; fill-opacity:1\" cx=\"809.475\" cy=\"1076.94\" r=\"18\"/>\n",
       "<circle clip-path=\"url(#clip7703)\" style=\"fill:#e26f46; stroke:none; fill-opacity:1\" cx=\"809.475\" cy=\"1076.94\" r=\"14\"/>\n",
       "<circle clip-path=\"url(#clip7703)\" style=\"fill:#000000; stroke:none; fill-opacity:1\" cx=\"1224.67\" cy=\"815.867\" r=\"18\"/>\n",
       "<circle clip-path=\"url(#clip7703)\" style=\"fill:#e26f46; stroke:none; fill-opacity:1\" cx=\"1224.67\" cy=\"815.867\" r=\"14\"/>\n",
       "<circle clip-path=\"url(#clip7703)\" style=\"fill:#000000; stroke:none; fill-opacity:1\" cx=\"394.276\" cy=\"1403.28\" r=\"18\"/>\n",
       "<circle clip-path=\"url(#clip7703)\" style=\"fill:#e26f46; stroke:none; fill-opacity:1\" cx=\"394.276\" cy=\"1403.28\" r=\"14\"/>\n",
       "<circle clip-path=\"url(#clip7703)\" style=\"fill:#000000; stroke:none; fill-opacity:1\" cx=\"1432.27\" cy=\"750.599\" r=\"18\"/>\n",
       "<circle clip-path=\"url(#clip7703)\" style=\"fill:#e26f46; stroke:none; fill-opacity:1\" cx=\"1432.27\" cy=\"750.599\" r=\"14\"/>\n",
       "<circle clip-path=\"url(#clip7703)\" style=\"fill:#000000; stroke:none; fill-opacity:1\" cx=\"1639.87\" cy=\"620.063\" r=\"18\"/>\n",
       "<circle clip-path=\"url(#clip7703)\" style=\"fill:#e26f46; stroke:none; fill-opacity:1\" cx=\"1639.87\" cy=\"620.063\" r=\"14\"/>\n",
       "</svg>\n"
      ]
     },
     "execution_count": 32,
     "metadata": {},
     "output_type": "execute_result"
    }
   ],
   "source": [
    "plot(x->x,minVal,maxVal,lab=\"\",title=\"y1\")\n",
    "scatter!(resCorr[:,3],resCorr[:,1],xlabel=\"RR-BLUP\",ylabel=\"BayesL\",lab=\"\")"
   ]
  },
  {
   "cell_type": "code",
   "execution_count": 33,
   "metadata": {
    "scrolled": false
   },
   "outputs": [
    {
     "data": {
      "image/svg+xml": [
       "<?xml version=\"1.0\" encoding=\"utf-8\"?>\n",
       "<svg xmlns=\"http://www.w3.org/2000/svg\" xmlns:xlink=\"http://www.w3.org/1999/xlink\" width=\"600\" height=\"400\" viewBox=\"0 0 2400 1600\">\n",
       "<defs>\n",
       "  <clipPath id=\"clip7900\">\n",
       "    <rect x=\"0\" y=\"0\" width=\"2000\" height=\"2000\"/>\n",
       "  </clipPath>\n",
       "</defs>\n",
       "<defs>\n",
       "  <clipPath id=\"clip7901\">\n",
       "    <rect x=\"0\" y=\"0\" width=\"2400\" height=\"1600\"/>\n",
       "  </clipPath>\n",
       "</defs>\n",
       "<polygon clip-path=\"url(#clip7901)\" points=\"\n",
       "0,1600 2400,1600 2400,0 0,0 \n",
       "  \" fill=\"#ffffff\" fill-rule=\"evenodd\" fill-opacity=\"1\"/>\n",
       "<defs>\n",
       "  <clipPath id=\"clip7902\">\n",
       "    <rect x=\"480\" y=\"0\" width=\"1681\" height=\"1600\"/>\n",
       "  </clipPath>\n",
       "</defs>\n",
       "<polygon clip-path=\"url(#clip7901)\" points=\"\n",
       "251.149,1440.48 2321.26,1440.48 2321.26,125.984 251.149,125.984 \n",
       "  \" fill=\"#ffffff\" fill-rule=\"evenodd\" fill-opacity=\"1\"/>\n",
       "<defs>\n",
       "  <clipPath id=\"clip7903\">\n",
       "    <rect x=\"251\" y=\"125\" width=\"2071\" height=\"1315\"/>\n",
       "  </clipPath>\n",
       "</defs>\n",
       "<polyline clip-path=\"url(#clip7903)\" style=\"stroke:#000000; stroke-width:2; stroke-opacity:0.1; fill:none\" points=\"\n",
       "  290.226,1440.48 290.226,125.984 \n",
       "  \"/>\n",
       "<polyline clip-path=\"url(#clip7903)\" style=\"stroke:#000000; stroke-width:2; stroke-opacity:0.1; fill:none\" points=\"\n",
       "  689.793,1440.48 689.793,125.984 \n",
       "  \"/>\n",
       "<polyline clip-path=\"url(#clip7903)\" style=\"stroke:#000000; stroke-width:2; stroke-opacity:0.1; fill:none\" points=\"\n",
       "  1089.36,1440.48 1089.36,125.984 \n",
       "  \"/>\n",
       "<polyline clip-path=\"url(#clip7903)\" style=\"stroke:#000000; stroke-width:2; stroke-opacity:0.1; fill:none\" points=\"\n",
       "  1488.93,1440.48 1488.93,125.984 \n",
       "  \"/>\n",
       "<polyline clip-path=\"url(#clip7903)\" style=\"stroke:#000000; stroke-width:2; stroke-opacity:0.1; fill:none\" points=\"\n",
       "  1888.5,1440.48 1888.5,125.984 \n",
       "  \"/>\n",
       "<polyline clip-path=\"url(#clip7903)\" style=\"stroke:#000000; stroke-width:2; stroke-opacity:0.1; fill:none\" points=\"\n",
       "  2288.06,1440.48 2288.06,125.984 \n",
       "  \"/>\n",
       "<polyline clip-path=\"url(#clip7903)\" style=\"stroke:#000000; stroke-width:2; stroke-opacity:0.1; fill:none\" points=\"\n",
       "  251.149,1415.67 2321.26,1415.67 \n",
       "  \"/>\n",
       "<polyline clip-path=\"url(#clip7903)\" style=\"stroke:#000000; stroke-width:2; stroke-opacity:0.1; fill:none\" points=\"\n",
       "  251.149,1161.95 2321.26,1161.95 \n",
       "  \"/>\n",
       "<polyline clip-path=\"url(#clip7903)\" style=\"stroke:#000000; stroke-width:2; stroke-opacity:0.1; fill:none\" points=\"\n",
       "  251.149,908.227 2321.26,908.227 \n",
       "  \"/>\n",
       "<polyline clip-path=\"url(#clip7903)\" style=\"stroke:#000000; stroke-width:2; stroke-opacity:0.1; fill:none\" points=\"\n",
       "  251.149,654.506 2321.26,654.506 \n",
       "  \"/>\n",
       "<polyline clip-path=\"url(#clip7903)\" style=\"stroke:#000000; stroke-width:2; stroke-opacity:0.1; fill:none\" points=\"\n",
       "  251.149,400.785 2321.26,400.785 \n",
       "  \"/>\n",
       "<polyline clip-path=\"url(#clip7903)\" style=\"stroke:#000000; stroke-width:2; stroke-opacity:0.1; fill:none\" points=\"\n",
       "  251.149,147.064 2321.26,147.064 \n",
       "  \"/>\n",
       "<polyline clip-path=\"url(#clip7901)\" style=\"stroke:#000000; stroke-width:4; stroke-opacity:1; fill:none\" points=\"\n",
       "  251.149,1440.48 2321.26,1440.48 \n",
       "  \"/>\n",
       "<polyline clip-path=\"url(#clip7901)\" style=\"stroke:#000000; stroke-width:4; stroke-opacity:1; fill:none\" points=\"\n",
       "  251.149,1440.48 251.149,125.984 \n",
       "  \"/>\n",
       "<polyline clip-path=\"url(#clip7901)\" style=\"stroke:#000000; stroke-width:4; stroke-opacity:1; fill:none\" points=\"\n",
       "  290.226,1440.48 290.226,1420.77 \n",
       "  \"/>\n",
       "<polyline clip-path=\"url(#clip7901)\" style=\"stroke:#000000; stroke-width:4; stroke-opacity:1; fill:none\" points=\"\n",
       "  689.793,1440.48 689.793,1420.77 \n",
       "  \"/>\n",
       "<polyline clip-path=\"url(#clip7901)\" style=\"stroke:#000000; stroke-width:4; stroke-opacity:1; fill:none\" points=\"\n",
       "  1089.36,1440.48 1089.36,1420.77 \n",
       "  \"/>\n",
       "<polyline clip-path=\"url(#clip7901)\" style=\"stroke:#000000; stroke-width:4; stroke-opacity:1; fill:none\" points=\"\n",
       "  1488.93,1440.48 1488.93,1420.77 \n",
       "  \"/>\n",
       "<polyline clip-path=\"url(#clip7901)\" style=\"stroke:#000000; stroke-width:4; stroke-opacity:1; fill:none\" points=\"\n",
       "  1888.5,1440.48 1888.5,1420.77 \n",
       "  \"/>\n",
       "<polyline clip-path=\"url(#clip7901)\" style=\"stroke:#000000; stroke-width:4; stroke-opacity:1; fill:none\" points=\"\n",
       "  2288.06,1440.48 2288.06,1420.77 \n",
       "  \"/>\n",
       "<polyline clip-path=\"url(#clip7901)\" style=\"stroke:#000000; stroke-width:4; stroke-opacity:1; fill:none\" points=\"\n",
       "  251.149,1415.67 282.2,1415.67 \n",
       "  \"/>\n",
       "<polyline clip-path=\"url(#clip7901)\" style=\"stroke:#000000; stroke-width:4; stroke-opacity:1; fill:none\" points=\"\n",
       "  251.149,1161.95 282.2,1161.95 \n",
       "  \"/>\n",
       "<polyline clip-path=\"url(#clip7901)\" style=\"stroke:#000000; stroke-width:4; stroke-opacity:1; fill:none\" points=\"\n",
       "  251.149,908.227 282.2,908.227 \n",
       "  \"/>\n",
       "<polyline clip-path=\"url(#clip7901)\" style=\"stroke:#000000; stroke-width:4; stroke-opacity:1; fill:none\" points=\"\n",
       "  251.149,654.506 282.2,654.506 \n",
       "  \"/>\n",
       "<polyline clip-path=\"url(#clip7901)\" style=\"stroke:#000000; stroke-width:4; stroke-opacity:1; fill:none\" points=\"\n",
       "  251.149,400.785 282.2,400.785 \n",
       "  \"/>\n",
       "<polyline clip-path=\"url(#clip7901)\" style=\"stroke:#000000; stroke-width:4; stroke-opacity:1; fill:none\" points=\"\n",
       "  251.149,147.064 282.2,147.064 \n",
       "  \"/>\n",
       "<g clip-path=\"url(#clip7901)\">\n",
       "<text style=\"fill:#000000; fill-opacity:1; font-family:Arial,Helvetica Neue,Helvetica,sans-serif; font-size:48px; text-anchor:middle;\" transform=\"rotate(0, 290.226, 1494.48)\" x=\"290.226\" y=\"1494.48\">0.35</text>\n",
       "</g>\n",
       "<g clip-path=\"url(#clip7901)\">\n",
       "<text style=\"fill:#000000; fill-opacity:1; font-family:Arial,Helvetica Neue,Helvetica,sans-serif; font-size:48px; text-anchor:middle;\" transform=\"rotate(0, 689.793, 1494.48)\" x=\"689.793\" y=\"1494.48\">0.40</text>\n",
       "</g>\n",
       "<g clip-path=\"url(#clip7901)\">\n",
       "<text style=\"fill:#000000; fill-opacity:1; font-family:Arial,Helvetica Neue,Helvetica,sans-serif; font-size:48px; text-anchor:middle;\" transform=\"rotate(0, 1089.36, 1494.48)\" x=\"1089.36\" y=\"1494.48\">0.45</text>\n",
       "</g>\n",
       "<g clip-path=\"url(#clip7901)\">\n",
       "<text style=\"fill:#000000; fill-opacity:1; font-family:Arial,Helvetica Neue,Helvetica,sans-serif; font-size:48px; text-anchor:middle;\" transform=\"rotate(0, 1488.93, 1494.48)\" x=\"1488.93\" y=\"1494.48\">0.50</text>\n",
       "</g>\n",
       "<g clip-path=\"url(#clip7901)\">\n",
       "<text style=\"fill:#000000; fill-opacity:1; font-family:Arial,Helvetica Neue,Helvetica,sans-serif; font-size:48px; text-anchor:middle;\" transform=\"rotate(0, 1888.5, 1494.48)\" x=\"1888.5\" y=\"1494.48\">0.55</text>\n",
       "</g>\n",
       "<g clip-path=\"url(#clip7901)\">\n",
       "<text style=\"fill:#000000; fill-opacity:1; font-family:Arial,Helvetica Neue,Helvetica,sans-serif; font-size:48px; text-anchor:middle;\" transform=\"rotate(0, 2288.06, 1494.48)\" x=\"2288.06\" y=\"1494.48\">0.60</text>\n",
       "</g>\n",
       "<g clip-path=\"url(#clip7901)\">\n",
       "<text style=\"fill:#000000; fill-opacity:1; font-family:Arial,Helvetica Neue,Helvetica,sans-serif; font-size:48px; text-anchor:end;\" transform=\"rotate(0, 227.149, 1433.17)\" x=\"227.149\" y=\"1433.17\">0.35</text>\n",
       "</g>\n",
       "<g clip-path=\"url(#clip7901)\">\n",
       "<text style=\"fill:#000000; fill-opacity:1; font-family:Arial,Helvetica Neue,Helvetica,sans-serif; font-size:48px; text-anchor:end;\" transform=\"rotate(0, 227.149, 1179.45)\" x=\"227.149\" y=\"1179.45\">0.40</text>\n",
       "</g>\n",
       "<g clip-path=\"url(#clip7901)\">\n",
       "<text style=\"fill:#000000; fill-opacity:1; font-family:Arial,Helvetica Neue,Helvetica,sans-serif; font-size:48px; text-anchor:end;\" transform=\"rotate(0, 227.149, 925.727)\" x=\"227.149\" y=\"925.727\">0.45</text>\n",
       "</g>\n",
       "<g clip-path=\"url(#clip7901)\">\n",
       "<text style=\"fill:#000000; fill-opacity:1; font-family:Arial,Helvetica Neue,Helvetica,sans-serif; font-size:48px; text-anchor:end;\" transform=\"rotate(0, 227.149, 672.006)\" x=\"227.149\" y=\"672.006\">0.50</text>\n",
       "</g>\n",
       "<g clip-path=\"url(#clip7901)\">\n",
       "<text style=\"fill:#000000; fill-opacity:1; font-family:Arial,Helvetica Neue,Helvetica,sans-serif; font-size:48px; text-anchor:end;\" transform=\"rotate(0, 227.149, 418.285)\" x=\"227.149\" y=\"418.285\">0.55</text>\n",
       "</g>\n",
       "<g clip-path=\"url(#clip7901)\">\n",
       "<text style=\"fill:#000000; fill-opacity:1; font-family:Arial,Helvetica Neue,Helvetica,sans-serif; font-size:48px; text-anchor:end;\" transform=\"rotate(0, 227.149, 164.564)\" x=\"227.149\" y=\"164.564\">0.60</text>\n",
       "</g>\n",
       "<g clip-path=\"url(#clip7901)\">\n",
       "<text style=\"fill:#000000; fill-opacity:1; font-family:Arial,Helvetica Neue,Helvetica,sans-serif; font-size:84px; text-anchor:middle;\" transform=\"rotate(0, 1286.2, 73.2)\" x=\"1286.2\" y=\"73.2\">y2</text>\n",
       "</g>\n",
       "<g clip-path=\"url(#clip7901)\">\n",
       "<text style=\"fill:#000000; fill-opacity:1; font-family:Arial,Helvetica Neue,Helvetica,sans-serif; font-size:66px; text-anchor:middle;\" transform=\"rotate(0, 1286.2, 1590.4)\" x=\"1286.2\" y=\"1590.4\">RR-BLUP</text>\n",
       "</g>\n",
       "<g clip-path=\"url(#clip7901)\">\n",
       "<text style=\"fill:#000000; fill-opacity:1; font-family:Arial,Helvetica Neue,Helvetica,sans-serif; font-size:66px; text-anchor:middle;\" transform=\"rotate(-90, 57.6, 783.233)\" x=\"57.6\" y=\"783.233\">BayesL</text>\n",
       "</g>\n",
       "<polyline clip-path=\"url(#clip7903)\" style=\"stroke:#009af9; stroke-width:4; stroke-opacity:1; fill:none\" points=\"\n",
       "  309.737,1403.28 490.139,1288.73 598.554,1219.88 690.217,1161.68 789.789,1098.45 881.585,1040.16 980.001,977.669 1094.02,905.265 1195.36,840.921 1284.21,784.497 \n",
       "  1381.09,722.98 1478.55,661.097 1586.3,592.677 1688.82,527.578 1795.42,459.889 1885.15,402.91 1994.7,333.345 2097.68,267.952 2262.67,163.187 \n",
       "  \"/>\n",
       "<circle clip-path=\"url(#clip7903)\" style=\"fill:#000000; stroke:none; fill-opacity:1\" cx=\"1089.36\" cy=\"908.227\" r=\"18\"/>\n",
       "<circle clip-path=\"url(#clip7903)\" style=\"fill:#e26f46; stroke:none; fill-opacity:1\" cx=\"1089.36\" cy=\"908.227\" r=\"14\"/>\n",
       "<circle clip-path=\"url(#clip7903)\" style=\"fill:#000000; stroke:none; fill-opacity:1\" cx=\"1169.27\" cy=\"857.483\" r=\"18\"/>\n",
       "<circle clip-path=\"url(#clip7903)\" style=\"fill:#e26f46; stroke:none; fill-opacity:1\" cx=\"1169.27\" cy=\"857.483\" r=\"14\"/>\n",
       "<circle clip-path=\"url(#clip7903)\" style=\"fill:#000000; stroke:none; fill-opacity:1\" cx=\"929.534\" cy=\"1009.72\" r=\"18\"/>\n",
       "<circle clip-path=\"url(#clip7903)\" style=\"fill:#e26f46; stroke:none; fill-opacity:1\" cx=\"929.534\" cy=\"1009.72\" r=\"14\"/>\n",
       "<circle clip-path=\"url(#clip7903)\" style=\"fill:#000000; stroke:none; fill-opacity:1\" cx=\"849.62\" cy=\"1060.46\" r=\"18\"/>\n",
       "<circle clip-path=\"url(#clip7903)\" style=\"fill:#e26f46; stroke:none; fill-opacity:1\" cx=\"849.62\" cy=\"1060.46\" r=\"14\"/>\n",
       "<circle clip-path=\"url(#clip7903)\" style=\"fill:#000000; stroke:none; fill-opacity:1\" cx=\"849.62\" cy=\"1060.46\" r=\"18\"/>\n",
       "<circle clip-path=\"url(#clip7903)\" style=\"fill:#e26f46; stroke:none; fill-opacity:1\" cx=\"849.62\" cy=\"1060.46\" r=\"14\"/>\n",
       "<circle clip-path=\"url(#clip7903)\" style=\"fill:#000000; stroke:none; fill-opacity:1\" cx=\"1329.1\" cy=\"755.994\" r=\"18\"/>\n",
       "<circle clip-path=\"url(#clip7903)\" style=\"fill:#e26f46; stroke:none; fill-opacity:1\" cx=\"1329.1\" cy=\"755.994\" r=\"14\"/>\n",
       "<circle clip-path=\"url(#clip7903)\" style=\"fill:#000000; stroke:none; fill-opacity:1\" cx=\"769.707\" cy=\"1111.2\" r=\"18\"/>\n",
       "<circle clip-path=\"url(#clip7903)\" style=\"fill:#e26f46; stroke:none; fill-opacity:1\" cx=\"769.707\" cy=\"1111.2\" r=\"14\"/>\n",
       "<circle clip-path=\"url(#clip7903)\" style=\"fill:#000000; stroke:none; fill-opacity:1\" cx=\"1169.27\" cy=\"908.227\" r=\"18\"/>\n",
       "<circle clip-path=\"url(#clip7903)\" style=\"fill:#e26f46; stroke:none; fill-opacity:1\" cx=\"1169.27\" cy=\"908.227\" r=\"14\"/>\n",
       "<circle clip-path=\"url(#clip7903)\" style=\"fill:#000000; stroke:none; fill-opacity:1\" cx=\"1169.27\" cy=\"857.483\" r=\"18\"/>\n",
       "<circle clip-path=\"url(#clip7903)\" style=\"fill:#e26f46; stroke:none; fill-opacity:1\" cx=\"1169.27\" cy=\"857.483\" r=\"14\"/>\n",
       "<circle clip-path=\"url(#clip7903)\" style=\"fill:#000000; stroke:none; fill-opacity:1\" cx=\"1409.01\" cy=\"705.25\" r=\"18\"/>\n",
       "<circle clip-path=\"url(#clip7903)\" style=\"fill:#e26f46; stroke:none; fill-opacity:1\" cx=\"1409.01\" cy=\"705.25\" r=\"14\"/>\n",
       "</svg>\n"
      ]
     },
     "execution_count": 33,
     "metadata": {},
     "output_type": "execute_result"
    }
   ],
   "source": [
    "plot(x->x,0.35,0.6,title=\"y2\",lab=\"\")\n",
    "scatter!(resCorr[:,4],resCorr[:,2],xlabel=\"RR-BLUP\",ylabel=\"BayesL\",lab=\"\")"
   ]
  },
  {
   "cell_type": "code",
   "execution_count": 34,
   "metadata": {},
   "outputs": [
    {
     "data": {
      "image/svg+xml": [
       "<?xml version=\"1.0\" encoding=\"utf-8\"?>\n",
       "<svg xmlns=\"http://www.w3.org/2000/svg\" xmlns:xlink=\"http://www.w3.org/1999/xlink\" width=\"600\" height=\"400\" viewBox=\"0 0 2400 1600\">\n",
       "<defs>\n",
       "  <clipPath id=\"clip8100\">\n",
       "    <rect x=\"0\" y=\"0\" width=\"2000\" height=\"2000\"/>\n",
       "  </clipPath>\n",
       "</defs>\n",
       "<defs>\n",
       "  <clipPath id=\"clip8101\">\n",
       "    <rect x=\"0\" y=\"0\" width=\"2400\" height=\"1600\"/>\n",
       "  </clipPath>\n",
       "</defs>\n",
       "<polygon clip-path=\"url(#clip8101)\" points=\"\n",
       "0,1600 2400,1600 2400,0 0,0 \n",
       "  \" fill=\"#ffffff\" fill-rule=\"evenodd\" fill-opacity=\"1\"/>\n",
       "<defs>\n",
       "  <clipPath id=\"clip8102\">\n",
       "    <rect x=\"480\" y=\"0\" width=\"1681\" height=\"1600\"/>\n",
       "  </clipPath>\n",
       "</defs>\n",
       "<polygon clip-path=\"url(#clip8101)\" points=\"\n",
       "251.149,1440.48 2321.26,1440.48 2321.26,125.984 251.149,125.984 \n",
       "  \" fill=\"#ffffff\" fill-rule=\"evenodd\" fill-opacity=\"1\"/>\n",
       "<defs>\n",
       "  <clipPath id=\"clip8103\">\n",
       "    <rect x=\"251\" y=\"125\" width=\"2071\" height=\"1315\"/>\n",
       "  </clipPath>\n",
       "</defs>\n",
       "<polyline clip-path=\"url(#clip8103)\" style=\"stroke:#000000; stroke-width:2; stroke-opacity:0.1; fill:none\" points=\"\n",
       "  290.226,1440.48 290.226,125.984 \n",
       "  \"/>\n",
       "<polyline clip-path=\"url(#clip8103)\" style=\"stroke:#000000; stroke-width:2; stroke-opacity:0.1; fill:none\" points=\"\n",
       "  689.793,1440.48 689.793,125.984 \n",
       "  \"/>\n",
       "<polyline clip-path=\"url(#clip8103)\" style=\"stroke:#000000; stroke-width:2; stroke-opacity:0.1; fill:none\" points=\"\n",
       "  1089.36,1440.48 1089.36,125.984 \n",
       "  \"/>\n",
       "<polyline clip-path=\"url(#clip8103)\" style=\"stroke:#000000; stroke-width:2; stroke-opacity:0.1; fill:none\" points=\"\n",
       "  1488.93,1440.48 1488.93,125.984 \n",
       "  \"/>\n",
       "<polyline clip-path=\"url(#clip8103)\" style=\"stroke:#000000; stroke-width:2; stroke-opacity:0.1; fill:none\" points=\"\n",
       "  1888.5,1440.48 1888.5,125.984 \n",
       "  \"/>\n",
       "<polyline clip-path=\"url(#clip8103)\" style=\"stroke:#000000; stroke-width:2; stroke-opacity:0.1; fill:none\" points=\"\n",
       "  2288.06,1440.48 2288.06,125.984 \n",
       "  \"/>\n",
       "<polyline clip-path=\"url(#clip8103)\" style=\"stroke:#000000; stroke-width:2; stroke-opacity:0.1; fill:none\" points=\"\n",
       "  251.149,1415.67 2321.26,1415.67 \n",
       "  \"/>\n",
       "<polyline clip-path=\"url(#clip8103)\" style=\"stroke:#000000; stroke-width:2; stroke-opacity:0.1; fill:none\" points=\"\n",
       "  251.149,1161.95 2321.26,1161.95 \n",
       "  \"/>\n",
       "<polyline clip-path=\"url(#clip8103)\" style=\"stroke:#000000; stroke-width:2; stroke-opacity:0.1; fill:none\" points=\"\n",
       "  251.149,908.227 2321.26,908.227 \n",
       "  \"/>\n",
       "<polyline clip-path=\"url(#clip8103)\" style=\"stroke:#000000; stroke-width:2; stroke-opacity:0.1; fill:none\" points=\"\n",
       "  251.149,654.506 2321.26,654.506 \n",
       "  \"/>\n",
       "<polyline clip-path=\"url(#clip8103)\" style=\"stroke:#000000; stroke-width:2; stroke-opacity:0.1; fill:none\" points=\"\n",
       "  251.149,400.785 2321.26,400.785 \n",
       "  \"/>\n",
       "<polyline clip-path=\"url(#clip8103)\" style=\"stroke:#000000; stroke-width:2; stroke-opacity:0.1; fill:none\" points=\"\n",
       "  251.149,147.064 2321.26,147.064 \n",
       "  \"/>\n",
       "<polyline clip-path=\"url(#clip8101)\" style=\"stroke:#000000; stroke-width:4; stroke-opacity:1; fill:none\" points=\"\n",
       "  251.149,1440.48 2321.26,1440.48 \n",
       "  \"/>\n",
       "<polyline clip-path=\"url(#clip8101)\" style=\"stroke:#000000; stroke-width:4; stroke-opacity:1; fill:none\" points=\"\n",
       "  251.149,1440.48 251.149,125.984 \n",
       "  \"/>\n",
       "<polyline clip-path=\"url(#clip8101)\" style=\"stroke:#000000; stroke-width:4; stroke-opacity:1; fill:none\" points=\"\n",
       "  290.226,1440.48 290.226,1420.77 \n",
       "  \"/>\n",
       "<polyline clip-path=\"url(#clip8101)\" style=\"stroke:#000000; stroke-width:4; stroke-opacity:1; fill:none\" points=\"\n",
       "  689.793,1440.48 689.793,1420.77 \n",
       "  \"/>\n",
       "<polyline clip-path=\"url(#clip8101)\" style=\"stroke:#000000; stroke-width:4; stroke-opacity:1; fill:none\" points=\"\n",
       "  1089.36,1440.48 1089.36,1420.77 \n",
       "  \"/>\n",
       "<polyline clip-path=\"url(#clip8101)\" style=\"stroke:#000000; stroke-width:4; stroke-opacity:1; fill:none\" points=\"\n",
       "  1488.93,1440.48 1488.93,1420.77 \n",
       "  \"/>\n",
       "<polyline clip-path=\"url(#clip8101)\" style=\"stroke:#000000; stroke-width:4; stroke-opacity:1; fill:none\" points=\"\n",
       "  1888.5,1440.48 1888.5,1420.77 \n",
       "  \"/>\n",
       "<polyline clip-path=\"url(#clip8101)\" style=\"stroke:#000000; stroke-width:4; stroke-opacity:1; fill:none\" points=\"\n",
       "  2288.06,1440.48 2288.06,1420.77 \n",
       "  \"/>\n",
       "<polyline clip-path=\"url(#clip8101)\" style=\"stroke:#000000; stroke-width:4; stroke-opacity:1; fill:none\" points=\"\n",
       "  251.149,1415.67 282.2,1415.67 \n",
       "  \"/>\n",
       "<polyline clip-path=\"url(#clip8101)\" style=\"stroke:#000000; stroke-width:4; stroke-opacity:1; fill:none\" points=\"\n",
       "  251.149,1161.95 282.2,1161.95 \n",
       "  \"/>\n",
       "<polyline clip-path=\"url(#clip8101)\" style=\"stroke:#000000; stroke-width:4; stroke-opacity:1; fill:none\" points=\"\n",
       "  251.149,908.227 282.2,908.227 \n",
       "  \"/>\n",
       "<polyline clip-path=\"url(#clip8101)\" style=\"stroke:#000000; stroke-width:4; stroke-opacity:1; fill:none\" points=\"\n",
       "  251.149,654.506 282.2,654.506 \n",
       "  \"/>\n",
       "<polyline clip-path=\"url(#clip8101)\" style=\"stroke:#000000; stroke-width:4; stroke-opacity:1; fill:none\" points=\"\n",
       "  251.149,400.785 282.2,400.785 \n",
       "  \"/>\n",
       "<polyline clip-path=\"url(#clip8101)\" style=\"stroke:#000000; stroke-width:4; stroke-opacity:1; fill:none\" points=\"\n",
       "  251.149,147.064 282.2,147.064 \n",
       "  \"/>\n",
       "<g clip-path=\"url(#clip8101)\">\n",
       "<text style=\"fill:#000000; fill-opacity:1; font-family:Arial,Helvetica Neue,Helvetica,sans-serif; font-size:48px; text-anchor:middle;\" transform=\"rotate(0, 290.226, 1494.48)\" x=\"290.226\" y=\"1494.48\">0.35</text>\n",
       "</g>\n",
       "<g clip-path=\"url(#clip8101)\">\n",
       "<text style=\"fill:#000000; fill-opacity:1; font-family:Arial,Helvetica Neue,Helvetica,sans-serif; font-size:48px; text-anchor:middle;\" transform=\"rotate(0, 689.793, 1494.48)\" x=\"689.793\" y=\"1494.48\">0.40</text>\n",
       "</g>\n",
       "<g clip-path=\"url(#clip8101)\">\n",
       "<text style=\"fill:#000000; fill-opacity:1; font-family:Arial,Helvetica Neue,Helvetica,sans-serif; font-size:48px; text-anchor:middle;\" transform=\"rotate(0, 1089.36, 1494.48)\" x=\"1089.36\" y=\"1494.48\">0.45</text>\n",
       "</g>\n",
       "<g clip-path=\"url(#clip8101)\">\n",
       "<text style=\"fill:#000000; fill-opacity:1; font-family:Arial,Helvetica Neue,Helvetica,sans-serif; font-size:48px; text-anchor:middle;\" transform=\"rotate(0, 1488.93, 1494.48)\" x=\"1488.93\" y=\"1494.48\">0.50</text>\n",
       "</g>\n",
       "<g clip-path=\"url(#clip8101)\">\n",
       "<text style=\"fill:#000000; fill-opacity:1; font-family:Arial,Helvetica Neue,Helvetica,sans-serif; font-size:48px; text-anchor:middle;\" transform=\"rotate(0, 1888.5, 1494.48)\" x=\"1888.5\" y=\"1494.48\">0.55</text>\n",
       "</g>\n",
       "<g clip-path=\"url(#clip8101)\">\n",
       "<text style=\"fill:#000000; fill-opacity:1; font-family:Arial,Helvetica Neue,Helvetica,sans-serif; font-size:48px; text-anchor:middle;\" transform=\"rotate(0, 2288.06, 1494.48)\" x=\"2288.06\" y=\"1494.48\">0.60</text>\n",
       "</g>\n",
       "<g clip-path=\"url(#clip8101)\">\n",
       "<text style=\"fill:#000000; fill-opacity:1; font-family:Arial,Helvetica Neue,Helvetica,sans-serif; font-size:48px; text-anchor:end;\" transform=\"rotate(0, 227.149, 1433.17)\" x=\"227.149\" y=\"1433.17\">0.35</text>\n",
       "</g>\n",
       "<g clip-path=\"url(#clip8101)\">\n",
       "<text style=\"fill:#000000; fill-opacity:1; font-family:Arial,Helvetica Neue,Helvetica,sans-serif; font-size:48px; text-anchor:end;\" transform=\"rotate(0, 227.149, 1179.45)\" x=\"227.149\" y=\"1179.45\">0.40</text>\n",
       "</g>\n",
       "<g clip-path=\"url(#clip8101)\">\n",
       "<text style=\"fill:#000000; fill-opacity:1; font-family:Arial,Helvetica Neue,Helvetica,sans-serif; font-size:48px; text-anchor:end;\" transform=\"rotate(0, 227.149, 925.727)\" x=\"227.149\" y=\"925.727\">0.45</text>\n",
       "</g>\n",
       "<g clip-path=\"url(#clip8101)\">\n",
       "<text style=\"fill:#000000; fill-opacity:1; font-family:Arial,Helvetica Neue,Helvetica,sans-serif; font-size:48px; text-anchor:end;\" transform=\"rotate(0, 227.149, 672.006)\" x=\"227.149\" y=\"672.006\">0.50</text>\n",
       "</g>\n",
       "<g clip-path=\"url(#clip8101)\">\n",
       "<text style=\"fill:#000000; fill-opacity:1; font-family:Arial,Helvetica Neue,Helvetica,sans-serif; font-size:48px; text-anchor:end;\" transform=\"rotate(0, 227.149, 418.285)\" x=\"227.149\" y=\"418.285\">0.55</text>\n",
       "</g>\n",
       "<g clip-path=\"url(#clip8101)\">\n",
       "<text style=\"fill:#000000; fill-opacity:1; font-family:Arial,Helvetica Neue,Helvetica,sans-serif; font-size:48px; text-anchor:end;\" transform=\"rotate(0, 227.149, 164.564)\" x=\"227.149\" y=\"164.564\">0.60</text>\n",
       "</g>\n",
       "<g clip-path=\"url(#clip8101)\">\n",
       "<text style=\"fill:#000000; fill-opacity:1; font-family:Arial,Helvetica Neue,Helvetica,sans-serif; font-size:84px; text-anchor:middle;\" transform=\"rotate(0, 1286.2, 73.2)\" x=\"1286.2\" y=\"73.2\">y1</text>\n",
       "</g>\n",
       "<g clip-path=\"url(#clip8101)\">\n",
       "<text style=\"fill:#000000; fill-opacity:1; font-family:Arial,Helvetica Neue,Helvetica,sans-serif; font-size:66px; text-anchor:middle;\" transform=\"rotate(0, 1286.2, 1590.4)\" x=\"1286.2\" y=\"1590.4\">RR-BLUP</text>\n",
       "</g>\n",
       "<g clip-path=\"url(#clip8101)\">\n",
       "<text style=\"fill:#000000; fill-opacity:1; font-family:Arial,Helvetica Neue,Helvetica,sans-serif; font-size:66px; text-anchor:middle;\" transform=\"rotate(-90, 57.6, 783.233)\" x=\"57.6\" y=\"783.233\">BayesCPi</text>\n",
       "</g>\n",
       "<polyline clip-path=\"url(#clip8103)\" style=\"stroke:#009af9; stroke-width:4; stroke-opacity:1; fill:none\" points=\"\n",
       "  309.737,1403.28 490.139,1288.73 598.554,1219.88 690.217,1161.68 789.789,1098.45 881.585,1040.16 980.001,977.669 1094.02,905.265 1195.36,840.921 1284.21,784.497 \n",
       "  1381.09,722.98 1478.55,661.097 1586.3,592.677 1688.82,527.578 1795.42,459.889 1885.15,402.91 1994.7,333.345 2097.68,267.952 2262.67,163.187 \n",
       "  \"/>\n",
       "<circle clip-path=\"url(#clip8103)\" style=\"fill:#000000; stroke:none; fill-opacity:1\" cx=\"1169.27\" cy=\"857.483\" r=\"18\"/>\n",
       "<circle clip-path=\"url(#clip8103)\" style=\"fill:#e26f46; stroke:none; fill-opacity:1\" cx=\"1169.27\" cy=\"857.483\" r=\"14\"/>\n",
       "<circle clip-path=\"url(#clip8103)\" style=\"fill:#000000; stroke:none; fill-opacity:1\" cx=\"849.62\" cy=\"1060.46\" r=\"18\"/>\n",
       "<circle clip-path=\"url(#clip8103)\" style=\"fill:#e26f46; stroke:none; fill-opacity:1\" cx=\"849.62\" cy=\"1060.46\" r=\"14\"/>\n",
       "<circle clip-path=\"url(#clip8103)\" style=\"fill:#000000; stroke:none; fill-opacity:1\" cx=\"2048.32\" cy=\"299.297\" r=\"18\"/>\n",
       "<circle clip-path=\"url(#clip8103)\" style=\"fill:#e26f46; stroke:none; fill-opacity:1\" cx=\"2048.32\" cy=\"299.297\" r=\"14\"/>\n",
       "<circle clip-path=\"url(#clip8103)\" style=\"fill:#000000; stroke:none; fill-opacity:1\" cx=\"1329.1\" cy=\"806.739\" r=\"18\"/>\n",
       "<circle clip-path=\"url(#clip8103)\" style=\"fill:#e26f46; stroke:none; fill-opacity:1\" cx=\"1329.1\" cy=\"806.739\" r=\"14\"/>\n",
       "<circle clip-path=\"url(#clip8103)\" style=\"fill:#000000; stroke:none; fill-opacity:1\" cx=\"1329.1\" cy=\"755.994\" r=\"18\"/>\n",
       "<circle clip-path=\"url(#clip8103)\" style=\"fill:#e26f46; stroke:none; fill-opacity:1\" cx=\"1329.1\" cy=\"755.994\" r=\"14\"/>\n",
       "<circle clip-path=\"url(#clip8103)\" style=\"fill:#000000; stroke:none; fill-opacity:1\" cx=\"929.534\" cy=\"1009.72\" r=\"18\"/>\n",
       "<circle clip-path=\"url(#clip8103)\" style=\"fill:#e26f46; stroke:none; fill-opacity:1\" cx=\"929.534\" cy=\"1009.72\" r=\"14\"/>\n",
       "<circle clip-path=\"url(#clip8103)\" style=\"fill:#000000; stroke:none; fill-opacity:1\" cx=\"1249.19\" cy=\"806.739\" r=\"18\"/>\n",
       "<circle clip-path=\"url(#clip8103)\" style=\"fill:#e26f46; stroke:none; fill-opacity:1\" cx=\"1249.19\" cy=\"806.739\" r=\"14\"/>\n",
       "<circle clip-path=\"url(#clip8103)\" style=\"fill:#000000; stroke:none; fill-opacity:1\" cx=\"609.88\" cy=\"1263.44\" r=\"18\"/>\n",
       "<circle clip-path=\"url(#clip8103)\" style=\"fill:#e26f46; stroke:none; fill-opacity:1\" cx=\"609.88\" cy=\"1263.44\" r=\"14\"/>\n",
       "<circle clip-path=\"url(#clip8103)\" style=\"fill:#000000; stroke:none; fill-opacity:1\" cx=\"1409.01\" cy=\"755.994\" r=\"18\"/>\n",
       "<circle clip-path=\"url(#clip8103)\" style=\"fill:#e26f46; stroke:none; fill-opacity:1\" cx=\"1409.01\" cy=\"755.994\" r=\"14\"/>\n",
       "<circle clip-path=\"url(#clip8103)\" style=\"fill:#000000; stroke:none; fill-opacity:1\" cx=\"1568.84\" cy=\"603.762\" r=\"18\"/>\n",
       "<circle clip-path=\"url(#clip8103)\" style=\"fill:#e26f46; stroke:none; fill-opacity:1\" cx=\"1568.84\" cy=\"603.762\" r=\"14\"/>\n",
       "</svg>\n"
      ]
     },
     "execution_count": 34,
     "metadata": {},
     "output_type": "execute_result"
    }
   ],
   "source": [
    "plot(x->x,0.35,0.6,title=\"y1\",lab=\"\")\n",
    "scatter!(resCorr[:,3],resCorr[:,5], xlabel=\"RR-BLUP\",ylabel=\"BayesCPi\",lab=\"\")"
   ]
  },
  {
   "cell_type": "code",
   "execution_count": 35,
   "metadata": {},
   "outputs": [
    {
     "data": {
      "image/svg+xml": [
       "<?xml version=\"1.0\" encoding=\"utf-8\"?>\n",
       "<svg xmlns=\"http://www.w3.org/2000/svg\" xmlns:xlink=\"http://www.w3.org/1999/xlink\" width=\"600\" height=\"400\" viewBox=\"0 0 2400 1600\">\n",
       "<defs>\n",
       "  <clipPath id=\"clip8300\">\n",
       "    <rect x=\"0\" y=\"0\" width=\"2000\" height=\"2000\"/>\n",
       "  </clipPath>\n",
       "</defs>\n",
       "<defs>\n",
       "  <clipPath id=\"clip8301\">\n",
       "    <rect x=\"0\" y=\"0\" width=\"2400\" height=\"1600\"/>\n",
       "  </clipPath>\n",
       "</defs>\n",
       "<polygon clip-path=\"url(#clip8301)\" points=\"\n",
       "0,1600 2400,1600 2400,0 0,0 \n",
       "  \" fill=\"#ffffff\" fill-rule=\"evenodd\" fill-opacity=\"1\"/>\n",
       "<defs>\n",
       "  <clipPath id=\"clip8302\">\n",
       "    <rect x=\"480\" y=\"0\" width=\"1681\" height=\"1600\"/>\n",
       "  </clipPath>\n",
       "</defs>\n",
       "<polygon clip-path=\"url(#clip8301)\" points=\"\n",
       "251.149,1440.48 2321.26,1440.48 2321.26,125.984 251.149,125.984 \n",
       "  \" fill=\"#ffffff\" fill-rule=\"evenodd\" fill-opacity=\"1\"/>\n",
       "<defs>\n",
       "  <clipPath id=\"clip8303\">\n",
       "    <rect x=\"251\" y=\"125\" width=\"2071\" height=\"1315\"/>\n",
       "  </clipPath>\n",
       "</defs>\n",
       "<polyline clip-path=\"url(#clip8303)\" style=\"stroke:#000000; stroke-width:2; stroke-opacity:0.1; fill:none\" points=\"\n",
       "  290.226,1440.48 290.226,125.984 \n",
       "  \"/>\n",
       "<polyline clip-path=\"url(#clip8303)\" style=\"stroke:#000000; stroke-width:2; stroke-opacity:0.1; fill:none\" points=\"\n",
       "  689.793,1440.48 689.793,125.984 \n",
       "  \"/>\n",
       "<polyline clip-path=\"url(#clip8303)\" style=\"stroke:#000000; stroke-width:2; stroke-opacity:0.1; fill:none\" points=\"\n",
       "  1089.36,1440.48 1089.36,125.984 \n",
       "  \"/>\n",
       "<polyline clip-path=\"url(#clip8303)\" style=\"stroke:#000000; stroke-width:2; stroke-opacity:0.1; fill:none\" points=\"\n",
       "  1488.93,1440.48 1488.93,125.984 \n",
       "  \"/>\n",
       "<polyline clip-path=\"url(#clip8303)\" style=\"stroke:#000000; stroke-width:2; stroke-opacity:0.1; fill:none\" points=\"\n",
       "  1888.5,1440.48 1888.5,125.984 \n",
       "  \"/>\n",
       "<polyline clip-path=\"url(#clip8303)\" style=\"stroke:#000000; stroke-width:2; stroke-opacity:0.1; fill:none\" points=\"\n",
       "  2288.06,1440.48 2288.06,125.984 \n",
       "  \"/>\n",
       "<polyline clip-path=\"url(#clip8303)\" style=\"stroke:#000000; stroke-width:2; stroke-opacity:0.1; fill:none\" points=\"\n",
       "  251.149,1415.67 2321.26,1415.67 \n",
       "  \"/>\n",
       "<polyline clip-path=\"url(#clip8303)\" style=\"stroke:#000000; stroke-width:2; stroke-opacity:0.1; fill:none\" points=\"\n",
       "  251.149,1161.95 2321.26,1161.95 \n",
       "  \"/>\n",
       "<polyline clip-path=\"url(#clip8303)\" style=\"stroke:#000000; stroke-width:2; stroke-opacity:0.1; fill:none\" points=\"\n",
       "  251.149,908.227 2321.26,908.227 \n",
       "  \"/>\n",
       "<polyline clip-path=\"url(#clip8303)\" style=\"stroke:#000000; stroke-width:2; stroke-opacity:0.1; fill:none\" points=\"\n",
       "  251.149,654.506 2321.26,654.506 \n",
       "  \"/>\n",
       "<polyline clip-path=\"url(#clip8303)\" style=\"stroke:#000000; stroke-width:2; stroke-opacity:0.1; fill:none\" points=\"\n",
       "  251.149,400.785 2321.26,400.785 \n",
       "  \"/>\n",
       "<polyline clip-path=\"url(#clip8303)\" style=\"stroke:#000000; stroke-width:2; stroke-opacity:0.1; fill:none\" points=\"\n",
       "  251.149,147.064 2321.26,147.064 \n",
       "  \"/>\n",
       "<polyline clip-path=\"url(#clip8301)\" style=\"stroke:#000000; stroke-width:4; stroke-opacity:1; fill:none\" points=\"\n",
       "  251.149,1440.48 2321.26,1440.48 \n",
       "  \"/>\n",
       "<polyline clip-path=\"url(#clip8301)\" style=\"stroke:#000000; stroke-width:4; stroke-opacity:1; fill:none\" points=\"\n",
       "  251.149,1440.48 251.149,125.984 \n",
       "  \"/>\n",
       "<polyline clip-path=\"url(#clip8301)\" style=\"stroke:#000000; stroke-width:4; stroke-opacity:1; fill:none\" points=\"\n",
       "  290.226,1440.48 290.226,1420.77 \n",
       "  \"/>\n",
       "<polyline clip-path=\"url(#clip8301)\" style=\"stroke:#000000; stroke-width:4; stroke-opacity:1; fill:none\" points=\"\n",
       "  689.793,1440.48 689.793,1420.77 \n",
       "  \"/>\n",
       "<polyline clip-path=\"url(#clip8301)\" style=\"stroke:#000000; stroke-width:4; stroke-opacity:1; fill:none\" points=\"\n",
       "  1089.36,1440.48 1089.36,1420.77 \n",
       "  \"/>\n",
       "<polyline clip-path=\"url(#clip8301)\" style=\"stroke:#000000; stroke-width:4; stroke-opacity:1; fill:none\" points=\"\n",
       "  1488.93,1440.48 1488.93,1420.77 \n",
       "  \"/>\n",
       "<polyline clip-path=\"url(#clip8301)\" style=\"stroke:#000000; stroke-width:4; stroke-opacity:1; fill:none\" points=\"\n",
       "  1888.5,1440.48 1888.5,1420.77 \n",
       "  \"/>\n",
       "<polyline clip-path=\"url(#clip8301)\" style=\"stroke:#000000; stroke-width:4; stroke-opacity:1; fill:none\" points=\"\n",
       "  2288.06,1440.48 2288.06,1420.77 \n",
       "  \"/>\n",
       "<polyline clip-path=\"url(#clip8301)\" style=\"stroke:#000000; stroke-width:4; stroke-opacity:1; fill:none\" points=\"\n",
       "  251.149,1415.67 282.2,1415.67 \n",
       "  \"/>\n",
       "<polyline clip-path=\"url(#clip8301)\" style=\"stroke:#000000; stroke-width:4; stroke-opacity:1; fill:none\" points=\"\n",
       "  251.149,1161.95 282.2,1161.95 \n",
       "  \"/>\n",
       "<polyline clip-path=\"url(#clip8301)\" style=\"stroke:#000000; stroke-width:4; stroke-opacity:1; fill:none\" points=\"\n",
       "  251.149,908.227 282.2,908.227 \n",
       "  \"/>\n",
       "<polyline clip-path=\"url(#clip8301)\" style=\"stroke:#000000; stroke-width:4; stroke-opacity:1; fill:none\" points=\"\n",
       "  251.149,654.506 282.2,654.506 \n",
       "  \"/>\n",
       "<polyline clip-path=\"url(#clip8301)\" style=\"stroke:#000000; stroke-width:4; stroke-opacity:1; fill:none\" points=\"\n",
       "  251.149,400.785 282.2,400.785 \n",
       "  \"/>\n",
       "<polyline clip-path=\"url(#clip8301)\" style=\"stroke:#000000; stroke-width:4; stroke-opacity:1; fill:none\" points=\"\n",
       "  251.149,147.064 282.2,147.064 \n",
       "  \"/>\n",
       "<g clip-path=\"url(#clip8301)\">\n",
       "<text style=\"fill:#000000; fill-opacity:1; font-family:Arial,Helvetica Neue,Helvetica,sans-serif; font-size:48px; text-anchor:middle;\" transform=\"rotate(0, 290.226, 1494.48)\" x=\"290.226\" y=\"1494.48\">0.35</text>\n",
       "</g>\n",
       "<g clip-path=\"url(#clip8301)\">\n",
       "<text style=\"fill:#000000; fill-opacity:1; font-family:Arial,Helvetica Neue,Helvetica,sans-serif; font-size:48px; text-anchor:middle;\" transform=\"rotate(0, 689.793, 1494.48)\" x=\"689.793\" y=\"1494.48\">0.40</text>\n",
       "</g>\n",
       "<g clip-path=\"url(#clip8301)\">\n",
       "<text style=\"fill:#000000; fill-opacity:1; font-family:Arial,Helvetica Neue,Helvetica,sans-serif; font-size:48px; text-anchor:middle;\" transform=\"rotate(0, 1089.36, 1494.48)\" x=\"1089.36\" y=\"1494.48\">0.45</text>\n",
       "</g>\n",
       "<g clip-path=\"url(#clip8301)\">\n",
       "<text style=\"fill:#000000; fill-opacity:1; font-family:Arial,Helvetica Neue,Helvetica,sans-serif; font-size:48px; text-anchor:middle;\" transform=\"rotate(0, 1488.93, 1494.48)\" x=\"1488.93\" y=\"1494.48\">0.50</text>\n",
       "</g>\n",
       "<g clip-path=\"url(#clip8301)\">\n",
       "<text style=\"fill:#000000; fill-opacity:1; font-family:Arial,Helvetica Neue,Helvetica,sans-serif; font-size:48px; text-anchor:middle;\" transform=\"rotate(0, 1888.5, 1494.48)\" x=\"1888.5\" y=\"1494.48\">0.55</text>\n",
       "</g>\n",
       "<g clip-path=\"url(#clip8301)\">\n",
       "<text style=\"fill:#000000; fill-opacity:1; font-family:Arial,Helvetica Neue,Helvetica,sans-serif; font-size:48px; text-anchor:middle;\" transform=\"rotate(0, 2288.06, 1494.48)\" x=\"2288.06\" y=\"1494.48\">0.60</text>\n",
       "</g>\n",
       "<g clip-path=\"url(#clip8301)\">\n",
       "<text style=\"fill:#000000; fill-opacity:1; font-family:Arial,Helvetica Neue,Helvetica,sans-serif; font-size:48px; text-anchor:end;\" transform=\"rotate(0, 227.149, 1433.17)\" x=\"227.149\" y=\"1433.17\">0.35</text>\n",
       "</g>\n",
       "<g clip-path=\"url(#clip8301)\">\n",
       "<text style=\"fill:#000000; fill-opacity:1; font-family:Arial,Helvetica Neue,Helvetica,sans-serif; font-size:48px; text-anchor:end;\" transform=\"rotate(0, 227.149, 1179.45)\" x=\"227.149\" y=\"1179.45\">0.40</text>\n",
       "</g>\n",
       "<g clip-path=\"url(#clip8301)\">\n",
       "<text style=\"fill:#000000; fill-opacity:1; font-family:Arial,Helvetica Neue,Helvetica,sans-serif; font-size:48px; text-anchor:end;\" transform=\"rotate(0, 227.149, 925.727)\" x=\"227.149\" y=\"925.727\">0.45</text>\n",
       "</g>\n",
       "<g clip-path=\"url(#clip8301)\">\n",
       "<text style=\"fill:#000000; fill-opacity:1; font-family:Arial,Helvetica Neue,Helvetica,sans-serif; font-size:48px; text-anchor:end;\" transform=\"rotate(0, 227.149, 672.006)\" x=\"227.149\" y=\"672.006\">0.50</text>\n",
       "</g>\n",
       "<g clip-path=\"url(#clip8301)\">\n",
       "<text style=\"fill:#000000; fill-opacity:1; font-family:Arial,Helvetica Neue,Helvetica,sans-serif; font-size:48px; text-anchor:end;\" transform=\"rotate(0, 227.149, 418.285)\" x=\"227.149\" y=\"418.285\">0.55</text>\n",
       "</g>\n",
       "<g clip-path=\"url(#clip8301)\">\n",
       "<text style=\"fill:#000000; fill-opacity:1; font-family:Arial,Helvetica Neue,Helvetica,sans-serif; font-size:48px; text-anchor:end;\" transform=\"rotate(0, 227.149, 164.564)\" x=\"227.149\" y=\"164.564\">0.60</text>\n",
       "</g>\n",
       "<g clip-path=\"url(#clip8301)\">\n",
       "<text style=\"fill:#000000; fill-opacity:1; font-family:Arial,Helvetica Neue,Helvetica,sans-serif; font-size:84px; text-anchor:middle;\" transform=\"rotate(0, 1286.2, 73.2)\" x=\"1286.2\" y=\"73.2\">y2</text>\n",
       "</g>\n",
       "<g clip-path=\"url(#clip8301)\">\n",
       "<text style=\"fill:#000000; fill-opacity:1; font-family:Arial,Helvetica Neue,Helvetica,sans-serif; font-size:66px; text-anchor:middle;\" transform=\"rotate(0, 1286.2, 1590.4)\" x=\"1286.2\" y=\"1590.4\">RR-BLUP</text>\n",
       "</g>\n",
       "<g clip-path=\"url(#clip8301)\">\n",
       "<text style=\"fill:#000000; fill-opacity:1; font-family:Arial,Helvetica Neue,Helvetica,sans-serif; font-size:66px; text-anchor:middle;\" transform=\"rotate(-90, 57.6, 783.233)\" x=\"57.6\" y=\"783.233\">BayesCPi</text>\n",
       "</g>\n",
       "<polyline clip-path=\"url(#clip8303)\" style=\"stroke:#009af9; stroke-width:4; stroke-opacity:1; fill:none\" points=\"\n",
       "  309.737,1403.28 490.139,1288.73 598.554,1219.88 690.217,1161.68 789.789,1098.45 881.585,1040.16 980.001,977.669 1094.02,905.265 1195.36,840.921 1284.21,784.497 \n",
       "  1381.09,722.98 1478.55,661.097 1586.3,592.677 1688.82,527.578 1795.42,459.889 1885.15,402.91 1994.7,333.345 2097.68,267.952 2262.67,163.187 \n",
       "  \"/>\n",
       "<circle clip-path=\"url(#clip8303)\" style=\"fill:#000000; stroke:none; fill-opacity:1\" cx=\"1089.36\" cy=\"958.971\" r=\"18\"/>\n",
       "<circle clip-path=\"url(#clip8303)\" style=\"fill:#e26f46; stroke:none; fill-opacity:1\" cx=\"1089.36\" cy=\"958.971\" r=\"14\"/>\n",
       "<circle clip-path=\"url(#clip8303)\" style=\"fill:#000000; stroke:none; fill-opacity:1\" cx=\"1169.27\" cy=\"908.227\" r=\"18\"/>\n",
       "<circle clip-path=\"url(#clip8303)\" style=\"fill:#e26f46; stroke:none; fill-opacity:1\" cx=\"1169.27\" cy=\"908.227\" r=\"14\"/>\n",
       "<circle clip-path=\"url(#clip8303)\" style=\"fill:#000000; stroke:none; fill-opacity:1\" cx=\"929.534\" cy=\"1009.72\" r=\"18\"/>\n",
       "<circle clip-path=\"url(#clip8303)\" style=\"fill:#e26f46; stroke:none; fill-opacity:1\" cx=\"929.534\" cy=\"1009.72\" r=\"14\"/>\n",
       "<circle clip-path=\"url(#clip8303)\" style=\"fill:#000000; stroke:none; fill-opacity:1\" cx=\"849.62\" cy=\"1060.46\" r=\"18\"/>\n",
       "<circle clip-path=\"url(#clip8303)\" style=\"fill:#e26f46; stroke:none; fill-opacity:1\" cx=\"849.62\" cy=\"1060.46\" r=\"14\"/>\n",
       "<circle clip-path=\"url(#clip8303)\" style=\"fill:#000000; stroke:none; fill-opacity:1\" cx=\"849.62\" cy=\"1060.46\" r=\"18\"/>\n",
       "<circle clip-path=\"url(#clip8303)\" style=\"fill:#e26f46; stroke:none; fill-opacity:1\" cx=\"849.62\" cy=\"1060.46\" r=\"14\"/>\n",
       "<circle clip-path=\"url(#clip8303)\" style=\"fill:#000000; stroke:none; fill-opacity:1\" cx=\"1329.1\" cy=\"755.994\" r=\"18\"/>\n",
       "<circle clip-path=\"url(#clip8303)\" style=\"fill:#e26f46; stroke:none; fill-opacity:1\" cx=\"1329.1\" cy=\"755.994\" r=\"14\"/>\n",
       "<circle clip-path=\"url(#clip8303)\" style=\"fill:#000000; stroke:none; fill-opacity:1\" cx=\"769.707\" cy=\"1111.2\" r=\"18\"/>\n",
       "<circle clip-path=\"url(#clip8303)\" style=\"fill:#e26f46; stroke:none; fill-opacity:1\" cx=\"769.707\" cy=\"1111.2\" r=\"14\"/>\n",
       "<circle clip-path=\"url(#clip8303)\" style=\"fill:#000000; stroke:none; fill-opacity:1\" cx=\"1169.27\" cy=\"857.483\" r=\"18\"/>\n",
       "<circle clip-path=\"url(#clip8303)\" style=\"fill:#e26f46; stroke:none; fill-opacity:1\" cx=\"1169.27\" cy=\"857.483\" r=\"14\"/>\n",
       "<circle clip-path=\"url(#clip8303)\" style=\"fill:#000000; stroke:none; fill-opacity:1\" cx=\"1169.27\" cy=\"857.483\" r=\"18\"/>\n",
       "<circle clip-path=\"url(#clip8303)\" style=\"fill:#e26f46; stroke:none; fill-opacity:1\" cx=\"1169.27\" cy=\"857.483\" r=\"14\"/>\n",
       "<circle clip-path=\"url(#clip8303)\" style=\"fill:#000000; stroke:none; fill-opacity:1\" cx=\"1409.01\" cy=\"705.25\" r=\"18\"/>\n",
       "<circle clip-path=\"url(#clip8303)\" style=\"fill:#e26f46; stroke:none; fill-opacity:1\" cx=\"1409.01\" cy=\"705.25\" r=\"14\"/>\n",
       "</svg>\n"
      ]
     },
     "execution_count": 35,
     "metadata": {},
     "output_type": "execute_result"
    }
   ],
   "source": [
    "plot(x->x,0.35,0.6,title=\"y2\",lab=\"\")\n",
    "scatter!(resCorr[:,4],resCorr[:,6], xlabel=\"RR-BLUP\",ylabel=\"BayesCPi\",lab=\"\")"
   ]
  },
  {
   "cell_type": "code",
   "execution_count": 36,
   "metadata": {},
   "outputs": [
    {
     "data": {
      "image/svg+xml": [
       "<?xml version=\"1.0\" encoding=\"utf-8\"?>\n",
       "<svg xmlns=\"http://www.w3.org/2000/svg\" xmlns:xlink=\"http://www.w3.org/1999/xlink\" width=\"600\" height=\"400\" viewBox=\"0 0 2400 1600\">\n",
       "<defs>\n",
       "  <clipPath id=\"clip8500\">\n",
       "    <rect x=\"0\" y=\"0\" width=\"2000\" height=\"2000\"/>\n",
       "  </clipPath>\n",
       "</defs>\n",
       "<defs>\n",
       "  <clipPath id=\"clip8501\">\n",
       "    <rect x=\"0\" y=\"0\" width=\"2400\" height=\"1600\"/>\n",
       "  </clipPath>\n",
       "</defs>\n",
       "<polygon clip-path=\"url(#clip8501)\" points=\"\n",
       "0,1600 2400,1600 2400,0 0,0 \n",
       "  \" fill=\"#ffffff\" fill-rule=\"evenodd\" fill-opacity=\"1\"/>\n",
       "<defs>\n",
       "  <clipPath id=\"clip8502\">\n",
       "    <rect x=\"480\" y=\"0\" width=\"1681\" height=\"1600\"/>\n",
       "  </clipPath>\n",
       "</defs>\n",
       "<polygon clip-path=\"url(#clip8501)\" points=\"\n",
       "251.149,1440.48 2321.26,1440.48 2321.26,125.984 251.149,125.984 \n",
       "  \" fill=\"#ffffff\" fill-rule=\"evenodd\" fill-opacity=\"1\"/>\n",
       "<defs>\n",
       "  <clipPath id=\"clip8503\">\n",
       "    <rect x=\"251\" y=\"125\" width=\"2071\" height=\"1315\"/>\n",
       "  </clipPath>\n",
       "</defs>\n",
       "<polyline clip-path=\"url(#clip8503)\" style=\"stroke:#000000; stroke-width:2; stroke-opacity:0.1; fill:none\" points=\"\n",
       "  290.226,1440.48 290.226,125.984 \n",
       "  \"/>\n",
       "<polyline clip-path=\"url(#clip8503)\" style=\"stroke:#000000; stroke-width:2; stroke-opacity:0.1; fill:none\" points=\"\n",
       "  689.793,1440.48 689.793,125.984 \n",
       "  \"/>\n",
       "<polyline clip-path=\"url(#clip8503)\" style=\"stroke:#000000; stroke-width:2; stroke-opacity:0.1; fill:none\" points=\"\n",
       "  1089.36,1440.48 1089.36,125.984 \n",
       "  \"/>\n",
       "<polyline clip-path=\"url(#clip8503)\" style=\"stroke:#000000; stroke-width:2; stroke-opacity:0.1; fill:none\" points=\"\n",
       "  1488.93,1440.48 1488.93,125.984 \n",
       "  \"/>\n",
       "<polyline clip-path=\"url(#clip8503)\" style=\"stroke:#000000; stroke-width:2; stroke-opacity:0.1; fill:none\" points=\"\n",
       "  1888.5,1440.48 1888.5,125.984 \n",
       "  \"/>\n",
       "<polyline clip-path=\"url(#clip8503)\" style=\"stroke:#000000; stroke-width:2; stroke-opacity:0.1; fill:none\" points=\"\n",
       "  2288.06,1440.48 2288.06,125.984 \n",
       "  \"/>\n",
       "<polyline clip-path=\"url(#clip8503)\" style=\"stroke:#000000; stroke-width:2; stroke-opacity:0.1; fill:none\" points=\"\n",
       "  251.149,1415.67 2321.26,1415.67 \n",
       "  \"/>\n",
       "<polyline clip-path=\"url(#clip8503)\" style=\"stroke:#000000; stroke-width:2; stroke-opacity:0.1; fill:none\" points=\"\n",
       "  251.149,1161.95 2321.26,1161.95 \n",
       "  \"/>\n",
       "<polyline clip-path=\"url(#clip8503)\" style=\"stroke:#000000; stroke-width:2; stroke-opacity:0.1; fill:none\" points=\"\n",
       "  251.149,908.227 2321.26,908.227 \n",
       "  \"/>\n",
       "<polyline clip-path=\"url(#clip8503)\" style=\"stroke:#000000; stroke-width:2; stroke-opacity:0.1; fill:none\" points=\"\n",
       "  251.149,654.506 2321.26,654.506 \n",
       "  \"/>\n",
       "<polyline clip-path=\"url(#clip8503)\" style=\"stroke:#000000; stroke-width:2; stroke-opacity:0.1; fill:none\" points=\"\n",
       "  251.149,400.785 2321.26,400.785 \n",
       "  \"/>\n",
       "<polyline clip-path=\"url(#clip8503)\" style=\"stroke:#000000; stroke-width:2; stroke-opacity:0.1; fill:none\" points=\"\n",
       "  251.149,147.064 2321.26,147.064 \n",
       "  \"/>\n",
       "<polyline clip-path=\"url(#clip8501)\" style=\"stroke:#000000; stroke-width:4; stroke-opacity:1; fill:none\" points=\"\n",
       "  251.149,1440.48 2321.26,1440.48 \n",
       "  \"/>\n",
       "<polyline clip-path=\"url(#clip8501)\" style=\"stroke:#000000; stroke-width:4; stroke-opacity:1; fill:none\" points=\"\n",
       "  251.149,1440.48 251.149,125.984 \n",
       "  \"/>\n",
       "<polyline clip-path=\"url(#clip8501)\" style=\"stroke:#000000; stroke-width:4; stroke-opacity:1; fill:none\" points=\"\n",
       "  290.226,1440.48 290.226,1420.77 \n",
       "  \"/>\n",
       "<polyline clip-path=\"url(#clip8501)\" style=\"stroke:#000000; stroke-width:4; stroke-opacity:1; fill:none\" points=\"\n",
       "  689.793,1440.48 689.793,1420.77 \n",
       "  \"/>\n",
       "<polyline clip-path=\"url(#clip8501)\" style=\"stroke:#000000; stroke-width:4; stroke-opacity:1; fill:none\" points=\"\n",
       "  1089.36,1440.48 1089.36,1420.77 \n",
       "  \"/>\n",
       "<polyline clip-path=\"url(#clip8501)\" style=\"stroke:#000000; stroke-width:4; stroke-opacity:1; fill:none\" points=\"\n",
       "  1488.93,1440.48 1488.93,1420.77 \n",
       "  \"/>\n",
       "<polyline clip-path=\"url(#clip8501)\" style=\"stroke:#000000; stroke-width:4; stroke-opacity:1; fill:none\" points=\"\n",
       "  1888.5,1440.48 1888.5,1420.77 \n",
       "  \"/>\n",
       "<polyline clip-path=\"url(#clip8501)\" style=\"stroke:#000000; stroke-width:4; stroke-opacity:1; fill:none\" points=\"\n",
       "  2288.06,1440.48 2288.06,1420.77 \n",
       "  \"/>\n",
       "<polyline clip-path=\"url(#clip8501)\" style=\"stroke:#000000; stroke-width:4; stroke-opacity:1; fill:none\" points=\"\n",
       "  251.149,1415.67 282.2,1415.67 \n",
       "  \"/>\n",
       "<polyline clip-path=\"url(#clip8501)\" style=\"stroke:#000000; stroke-width:4; stroke-opacity:1; fill:none\" points=\"\n",
       "  251.149,1161.95 282.2,1161.95 \n",
       "  \"/>\n",
       "<polyline clip-path=\"url(#clip8501)\" style=\"stroke:#000000; stroke-width:4; stroke-opacity:1; fill:none\" points=\"\n",
       "  251.149,908.227 282.2,908.227 \n",
       "  \"/>\n",
       "<polyline clip-path=\"url(#clip8501)\" style=\"stroke:#000000; stroke-width:4; stroke-opacity:1; fill:none\" points=\"\n",
       "  251.149,654.506 282.2,654.506 \n",
       "  \"/>\n",
       "<polyline clip-path=\"url(#clip8501)\" style=\"stroke:#000000; stroke-width:4; stroke-opacity:1; fill:none\" points=\"\n",
       "  251.149,400.785 282.2,400.785 \n",
       "  \"/>\n",
       "<polyline clip-path=\"url(#clip8501)\" style=\"stroke:#000000; stroke-width:4; stroke-opacity:1; fill:none\" points=\"\n",
       "  251.149,147.064 282.2,147.064 \n",
       "  \"/>\n",
       "<g clip-path=\"url(#clip8501)\">\n",
       "<text style=\"fill:#000000; fill-opacity:1; font-family:Arial,Helvetica Neue,Helvetica,sans-serif; font-size:48px; text-anchor:middle;\" transform=\"rotate(0, 290.226, 1494.48)\" x=\"290.226\" y=\"1494.48\">0.35</text>\n",
       "</g>\n",
       "<g clip-path=\"url(#clip8501)\">\n",
       "<text style=\"fill:#000000; fill-opacity:1; font-family:Arial,Helvetica Neue,Helvetica,sans-serif; font-size:48px; text-anchor:middle;\" transform=\"rotate(0, 689.793, 1494.48)\" x=\"689.793\" y=\"1494.48\">0.40</text>\n",
       "</g>\n",
       "<g clip-path=\"url(#clip8501)\">\n",
       "<text style=\"fill:#000000; fill-opacity:1; font-family:Arial,Helvetica Neue,Helvetica,sans-serif; font-size:48px; text-anchor:middle;\" transform=\"rotate(0, 1089.36, 1494.48)\" x=\"1089.36\" y=\"1494.48\">0.45</text>\n",
       "</g>\n",
       "<g clip-path=\"url(#clip8501)\">\n",
       "<text style=\"fill:#000000; fill-opacity:1; font-family:Arial,Helvetica Neue,Helvetica,sans-serif; font-size:48px; text-anchor:middle;\" transform=\"rotate(0, 1488.93, 1494.48)\" x=\"1488.93\" y=\"1494.48\">0.50</text>\n",
       "</g>\n",
       "<g clip-path=\"url(#clip8501)\">\n",
       "<text style=\"fill:#000000; fill-opacity:1; font-family:Arial,Helvetica Neue,Helvetica,sans-serif; font-size:48px; text-anchor:middle;\" transform=\"rotate(0, 1888.5, 1494.48)\" x=\"1888.5\" y=\"1494.48\">0.55</text>\n",
       "</g>\n",
       "<g clip-path=\"url(#clip8501)\">\n",
       "<text style=\"fill:#000000; fill-opacity:1; font-family:Arial,Helvetica Neue,Helvetica,sans-serif; font-size:48px; text-anchor:middle;\" transform=\"rotate(0, 2288.06, 1494.48)\" x=\"2288.06\" y=\"1494.48\">0.60</text>\n",
       "</g>\n",
       "<g clip-path=\"url(#clip8501)\">\n",
       "<text style=\"fill:#000000; fill-opacity:1; font-family:Arial,Helvetica Neue,Helvetica,sans-serif; font-size:48px; text-anchor:end;\" transform=\"rotate(0, 227.149, 1433.17)\" x=\"227.149\" y=\"1433.17\">0.35</text>\n",
       "</g>\n",
       "<g clip-path=\"url(#clip8501)\">\n",
       "<text style=\"fill:#000000; fill-opacity:1; font-family:Arial,Helvetica Neue,Helvetica,sans-serif; font-size:48px; text-anchor:end;\" transform=\"rotate(0, 227.149, 1179.45)\" x=\"227.149\" y=\"1179.45\">0.40</text>\n",
       "</g>\n",
       "<g clip-path=\"url(#clip8501)\">\n",
       "<text style=\"fill:#000000; fill-opacity:1; font-family:Arial,Helvetica Neue,Helvetica,sans-serif; font-size:48px; text-anchor:end;\" transform=\"rotate(0, 227.149, 925.727)\" x=\"227.149\" y=\"925.727\">0.45</text>\n",
       "</g>\n",
       "<g clip-path=\"url(#clip8501)\">\n",
       "<text style=\"fill:#000000; fill-opacity:1; font-family:Arial,Helvetica Neue,Helvetica,sans-serif; font-size:48px; text-anchor:end;\" transform=\"rotate(0, 227.149, 672.006)\" x=\"227.149\" y=\"672.006\">0.50</text>\n",
       "</g>\n",
       "<g clip-path=\"url(#clip8501)\">\n",
       "<text style=\"fill:#000000; fill-opacity:1; font-family:Arial,Helvetica Neue,Helvetica,sans-serif; font-size:48px; text-anchor:end;\" transform=\"rotate(0, 227.149, 418.285)\" x=\"227.149\" y=\"418.285\">0.55</text>\n",
       "</g>\n",
       "<g clip-path=\"url(#clip8501)\">\n",
       "<text style=\"fill:#000000; fill-opacity:1; font-family:Arial,Helvetica Neue,Helvetica,sans-serif; font-size:48px; text-anchor:end;\" transform=\"rotate(0, 227.149, 164.564)\" x=\"227.149\" y=\"164.564\">0.60</text>\n",
       "</g>\n",
       "<g clip-path=\"url(#clip8501)\">\n",
       "<text style=\"fill:#000000; fill-opacity:1; font-family:Arial,Helvetica Neue,Helvetica,sans-serif; font-size:84px; text-anchor:middle;\" transform=\"rotate(0, 1286.2, 73.2)\" x=\"1286.2\" y=\"73.2\">y1</text>\n",
       "</g>\n",
       "<g clip-path=\"url(#clip8501)\">\n",
       "<text style=\"fill:#000000; fill-opacity:1; font-family:Arial,Helvetica Neue,Helvetica,sans-serif; font-size:66px; text-anchor:middle;\" transform=\"rotate(0, 1286.2, 1590.4)\" x=\"1286.2\" y=\"1590.4\">BayesL</text>\n",
       "</g>\n",
       "<g clip-path=\"url(#clip8501)\">\n",
       "<text style=\"fill:#000000; fill-opacity:1; font-family:Arial,Helvetica Neue,Helvetica,sans-serif; font-size:66px; text-anchor:middle;\" transform=\"rotate(-90, 57.6, 783.233)\" x=\"57.6\" y=\"783.233\">BayesCPi</text>\n",
       "</g>\n",
       "<polyline clip-path=\"url(#clip8503)\" style=\"stroke:#009af9; stroke-width:4; stroke-opacity:1; fill:none\" points=\"\n",
       "  309.737,1403.28 490.139,1288.73 598.554,1219.88 690.217,1161.68 789.789,1098.45 881.585,1040.16 980.001,977.669 1094.02,905.265 1195.36,840.921 1284.21,784.497 \n",
       "  1381.09,722.98 1478.55,661.097 1586.3,592.677 1688.82,527.578 1795.42,459.889 1885.15,402.91 1994.7,333.345 2097.68,267.952 2262.67,163.187 \n",
       "  \"/>\n",
       "<circle clip-path=\"url(#clip8503)\" style=\"fill:#000000; stroke:none; fill-opacity:1\" cx=\"1169.27\" cy=\"857.483\" r=\"18\"/>\n",
       "<circle clip-path=\"url(#clip8503)\" style=\"fill:#e26f46; stroke:none; fill-opacity:1\" cx=\"1169.27\" cy=\"857.483\" r=\"14\"/>\n",
       "<circle clip-path=\"url(#clip8503)\" style=\"fill:#000000; stroke:none; fill-opacity:1\" cx=\"849.62\" cy=\"1060.46\" r=\"18\"/>\n",
       "<circle clip-path=\"url(#clip8503)\" style=\"fill:#e26f46; stroke:none; fill-opacity:1\" cx=\"849.62\" cy=\"1060.46\" r=\"14\"/>\n",
       "<circle clip-path=\"url(#clip8503)\" style=\"fill:#000000; stroke:none; fill-opacity:1\" cx=\"2048.32\" cy=\"299.297\" r=\"18\"/>\n",
       "<circle clip-path=\"url(#clip8503)\" style=\"fill:#e26f46; stroke:none; fill-opacity:1\" cx=\"2048.32\" cy=\"299.297\" r=\"14\"/>\n",
       "<circle clip-path=\"url(#clip8503)\" style=\"fill:#000000; stroke:none; fill-opacity:1\" cx=\"1249.19\" cy=\"806.739\" r=\"18\"/>\n",
       "<circle clip-path=\"url(#clip8503)\" style=\"fill:#e26f46; stroke:none; fill-opacity:1\" cx=\"1249.19\" cy=\"806.739\" r=\"14\"/>\n",
       "<circle clip-path=\"url(#clip8503)\" style=\"fill:#000000; stroke:none; fill-opacity:1\" cx=\"1329.1\" cy=\"755.994\" r=\"18\"/>\n",
       "<circle clip-path=\"url(#clip8503)\" style=\"fill:#e26f46; stroke:none; fill-opacity:1\" cx=\"1329.1\" cy=\"755.994\" r=\"14\"/>\n",
       "<circle clip-path=\"url(#clip8503)\" style=\"fill:#000000; stroke:none; fill-opacity:1\" cx=\"929.534\" cy=\"1009.72\" r=\"18\"/>\n",
       "<circle clip-path=\"url(#clip8503)\" style=\"fill:#e26f46; stroke:none; fill-opacity:1\" cx=\"929.534\" cy=\"1009.72\" r=\"14\"/>\n",
       "<circle clip-path=\"url(#clip8503)\" style=\"fill:#000000; stroke:none; fill-opacity:1\" cx=\"1249.19\" cy=\"806.739\" r=\"18\"/>\n",
       "<circle clip-path=\"url(#clip8503)\" style=\"fill:#e26f46; stroke:none; fill-opacity:1\" cx=\"1249.19\" cy=\"806.739\" r=\"14\"/>\n",
       "<circle clip-path=\"url(#clip8503)\" style=\"fill:#000000; stroke:none; fill-opacity:1\" cx=\"529.966\" cy=\"1263.44\" r=\"18\"/>\n",
       "<circle clip-path=\"url(#clip8503)\" style=\"fill:#e26f46; stroke:none; fill-opacity:1\" cx=\"529.966\" cy=\"1263.44\" r=\"14\"/>\n",
       "<circle clip-path=\"url(#clip8503)\" style=\"fill:#000000; stroke:none; fill-opacity:1\" cx=\"1329.1\" cy=\"755.994\" r=\"18\"/>\n",
       "<circle clip-path=\"url(#clip8503)\" style=\"fill:#e26f46; stroke:none; fill-opacity:1\" cx=\"1329.1\" cy=\"755.994\" r=\"14\"/>\n",
       "<circle clip-path=\"url(#clip8503)\" style=\"fill:#000000; stroke:none; fill-opacity:1\" cx=\"1488.93\" cy=\"603.762\" r=\"18\"/>\n",
       "<circle clip-path=\"url(#clip8503)\" style=\"fill:#e26f46; stroke:none; fill-opacity:1\" cx=\"1488.93\" cy=\"603.762\" r=\"14\"/>\n",
       "</svg>\n"
      ]
     },
     "execution_count": 36,
     "metadata": {},
     "output_type": "execute_result"
    }
   ],
   "source": [
    "plot(x->x,0.35,0.6,title=\"y1\",lab=\"\")\n",
    "scatter!(resCorr[:,1],resCorr[:,5], xlabel=\"BayesL\",ylabel=\"BayesCPi\",lab=\"\")"
   ]
  },
  {
   "cell_type": "code",
   "execution_count": 37,
   "metadata": {},
   "outputs": [
    {
     "data": {
      "image/svg+xml": [
       "<?xml version=\"1.0\" encoding=\"utf-8\"?>\n",
       "<svg xmlns=\"http://www.w3.org/2000/svg\" xmlns:xlink=\"http://www.w3.org/1999/xlink\" width=\"600\" height=\"400\" viewBox=\"0 0 2400 1600\">\n",
       "<defs>\n",
       "  <clipPath id=\"clip8700\">\n",
       "    <rect x=\"0\" y=\"0\" width=\"2000\" height=\"2000\"/>\n",
       "  </clipPath>\n",
       "</defs>\n",
       "<defs>\n",
       "  <clipPath id=\"clip8701\">\n",
       "    <rect x=\"0\" y=\"0\" width=\"2400\" height=\"1600\"/>\n",
       "  </clipPath>\n",
       "</defs>\n",
       "<polygon clip-path=\"url(#clip8701)\" points=\"\n",
       "0,1600 2400,1600 2400,0 0,0 \n",
       "  \" fill=\"#ffffff\" fill-rule=\"evenodd\" fill-opacity=\"1\"/>\n",
       "<defs>\n",
       "  <clipPath id=\"clip8702\">\n",
       "    <rect x=\"480\" y=\"0\" width=\"1681\" height=\"1600\"/>\n",
       "  </clipPath>\n",
       "</defs>\n",
       "<polygon clip-path=\"url(#clip8701)\" points=\"\n",
       "251.149,1440.48 2321.26,1440.48 2321.26,125.984 251.149,125.984 \n",
       "  \" fill=\"#ffffff\" fill-rule=\"evenodd\" fill-opacity=\"1\"/>\n",
       "<defs>\n",
       "  <clipPath id=\"clip8703\">\n",
       "    <rect x=\"251\" y=\"125\" width=\"2071\" height=\"1315\"/>\n",
       "  </clipPath>\n",
       "</defs>\n",
       "<polyline clip-path=\"url(#clip8703)\" style=\"stroke:#000000; stroke-width:2; stroke-opacity:0.1; fill:none\" points=\"\n",
       "  290.226,1440.48 290.226,125.984 \n",
       "  \"/>\n",
       "<polyline clip-path=\"url(#clip8703)\" style=\"stroke:#000000; stroke-width:2; stroke-opacity:0.1; fill:none\" points=\"\n",
       "  689.793,1440.48 689.793,125.984 \n",
       "  \"/>\n",
       "<polyline clip-path=\"url(#clip8703)\" style=\"stroke:#000000; stroke-width:2; stroke-opacity:0.1; fill:none\" points=\"\n",
       "  1089.36,1440.48 1089.36,125.984 \n",
       "  \"/>\n",
       "<polyline clip-path=\"url(#clip8703)\" style=\"stroke:#000000; stroke-width:2; stroke-opacity:0.1; fill:none\" points=\"\n",
       "  1488.93,1440.48 1488.93,125.984 \n",
       "  \"/>\n",
       "<polyline clip-path=\"url(#clip8703)\" style=\"stroke:#000000; stroke-width:2; stroke-opacity:0.1; fill:none\" points=\"\n",
       "  1888.5,1440.48 1888.5,125.984 \n",
       "  \"/>\n",
       "<polyline clip-path=\"url(#clip8703)\" style=\"stroke:#000000; stroke-width:2; stroke-opacity:0.1; fill:none\" points=\"\n",
       "  2288.06,1440.48 2288.06,125.984 \n",
       "  \"/>\n",
       "<polyline clip-path=\"url(#clip8703)\" style=\"stroke:#000000; stroke-width:2; stroke-opacity:0.1; fill:none\" points=\"\n",
       "  251.149,1415.67 2321.26,1415.67 \n",
       "  \"/>\n",
       "<polyline clip-path=\"url(#clip8703)\" style=\"stroke:#000000; stroke-width:2; stroke-opacity:0.1; fill:none\" points=\"\n",
       "  251.149,1161.95 2321.26,1161.95 \n",
       "  \"/>\n",
       "<polyline clip-path=\"url(#clip8703)\" style=\"stroke:#000000; stroke-width:2; stroke-opacity:0.1; fill:none\" points=\"\n",
       "  251.149,908.227 2321.26,908.227 \n",
       "  \"/>\n",
       "<polyline clip-path=\"url(#clip8703)\" style=\"stroke:#000000; stroke-width:2; stroke-opacity:0.1; fill:none\" points=\"\n",
       "  251.149,654.506 2321.26,654.506 \n",
       "  \"/>\n",
       "<polyline clip-path=\"url(#clip8703)\" style=\"stroke:#000000; stroke-width:2; stroke-opacity:0.1; fill:none\" points=\"\n",
       "  251.149,400.785 2321.26,400.785 \n",
       "  \"/>\n",
       "<polyline clip-path=\"url(#clip8703)\" style=\"stroke:#000000; stroke-width:2; stroke-opacity:0.1; fill:none\" points=\"\n",
       "  251.149,147.064 2321.26,147.064 \n",
       "  \"/>\n",
       "<polyline clip-path=\"url(#clip8701)\" style=\"stroke:#000000; stroke-width:4; stroke-opacity:1; fill:none\" points=\"\n",
       "  251.149,1440.48 2321.26,1440.48 \n",
       "  \"/>\n",
       "<polyline clip-path=\"url(#clip8701)\" style=\"stroke:#000000; stroke-width:4; stroke-opacity:1; fill:none\" points=\"\n",
       "  251.149,1440.48 251.149,125.984 \n",
       "  \"/>\n",
       "<polyline clip-path=\"url(#clip8701)\" style=\"stroke:#000000; stroke-width:4; stroke-opacity:1; fill:none\" points=\"\n",
       "  290.226,1440.48 290.226,1420.77 \n",
       "  \"/>\n",
       "<polyline clip-path=\"url(#clip8701)\" style=\"stroke:#000000; stroke-width:4; stroke-opacity:1; fill:none\" points=\"\n",
       "  689.793,1440.48 689.793,1420.77 \n",
       "  \"/>\n",
       "<polyline clip-path=\"url(#clip8701)\" style=\"stroke:#000000; stroke-width:4; stroke-opacity:1; fill:none\" points=\"\n",
       "  1089.36,1440.48 1089.36,1420.77 \n",
       "  \"/>\n",
       "<polyline clip-path=\"url(#clip8701)\" style=\"stroke:#000000; stroke-width:4; stroke-opacity:1; fill:none\" points=\"\n",
       "  1488.93,1440.48 1488.93,1420.77 \n",
       "  \"/>\n",
       "<polyline clip-path=\"url(#clip8701)\" style=\"stroke:#000000; stroke-width:4; stroke-opacity:1; fill:none\" points=\"\n",
       "  1888.5,1440.48 1888.5,1420.77 \n",
       "  \"/>\n",
       "<polyline clip-path=\"url(#clip8701)\" style=\"stroke:#000000; stroke-width:4; stroke-opacity:1; fill:none\" points=\"\n",
       "  2288.06,1440.48 2288.06,1420.77 \n",
       "  \"/>\n",
       "<polyline clip-path=\"url(#clip8701)\" style=\"stroke:#000000; stroke-width:4; stroke-opacity:1; fill:none\" points=\"\n",
       "  251.149,1415.67 282.2,1415.67 \n",
       "  \"/>\n",
       "<polyline clip-path=\"url(#clip8701)\" style=\"stroke:#000000; stroke-width:4; stroke-opacity:1; fill:none\" points=\"\n",
       "  251.149,1161.95 282.2,1161.95 \n",
       "  \"/>\n",
       "<polyline clip-path=\"url(#clip8701)\" style=\"stroke:#000000; stroke-width:4; stroke-opacity:1; fill:none\" points=\"\n",
       "  251.149,908.227 282.2,908.227 \n",
       "  \"/>\n",
       "<polyline clip-path=\"url(#clip8701)\" style=\"stroke:#000000; stroke-width:4; stroke-opacity:1; fill:none\" points=\"\n",
       "  251.149,654.506 282.2,654.506 \n",
       "  \"/>\n",
       "<polyline clip-path=\"url(#clip8701)\" style=\"stroke:#000000; stroke-width:4; stroke-opacity:1; fill:none\" points=\"\n",
       "  251.149,400.785 282.2,400.785 \n",
       "  \"/>\n",
       "<polyline clip-path=\"url(#clip8701)\" style=\"stroke:#000000; stroke-width:4; stroke-opacity:1; fill:none\" points=\"\n",
       "  251.149,147.064 282.2,147.064 \n",
       "  \"/>\n",
       "<g clip-path=\"url(#clip8701)\">\n",
       "<text style=\"fill:#000000; fill-opacity:1; font-family:Arial,Helvetica Neue,Helvetica,sans-serif; font-size:48px; text-anchor:middle;\" transform=\"rotate(0, 290.226, 1494.48)\" x=\"290.226\" y=\"1494.48\">0.35</text>\n",
       "</g>\n",
       "<g clip-path=\"url(#clip8701)\">\n",
       "<text style=\"fill:#000000; fill-opacity:1; font-family:Arial,Helvetica Neue,Helvetica,sans-serif; font-size:48px; text-anchor:middle;\" transform=\"rotate(0, 689.793, 1494.48)\" x=\"689.793\" y=\"1494.48\">0.40</text>\n",
       "</g>\n",
       "<g clip-path=\"url(#clip8701)\">\n",
       "<text style=\"fill:#000000; fill-opacity:1; font-family:Arial,Helvetica Neue,Helvetica,sans-serif; font-size:48px; text-anchor:middle;\" transform=\"rotate(0, 1089.36, 1494.48)\" x=\"1089.36\" y=\"1494.48\">0.45</text>\n",
       "</g>\n",
       "<g clip-path=\"url(#clip8701)\">\n",
       "<text style=\"fill:#000000; fill-opacity:1; font-family:Arial,Helvetica Neue,Helvetica,sans-serif; font-size:48px; text-anchor:middle;\" transform=\"rotate(0, 1488.93, 1494.48)\" x=\"1488.93\" y=\"1494.48\">0.50</text>\n",
       "</g>\n",
       "<g clip-path=\"url(#clip8701)\">\n",
       "<text style=\"fill:#000000; fill-opacity:1; font-family:Arial,Helvetica Neue,Helvetica,sans-serif; font-size:48px; text-anchor:middle;\" transform=\"rotate(0, 1888.5, 1494.48)\" x=\"1888.5\" y=\"1494.48\">0.55</text>\n",
       "</g>\n",
       "<g clip-path=\"url(#clip8701)\">\n",
       "<text style=\"fill:#000000; fill-opacity:1; font-family:Arial,Helvetica Neue,Helvetica,sans-serif; font-size:48px; text-anchor:middle;\" transform=\"rotate(0, 2288.06, 1494.48)\" x=\"2288.06\" y=\"1494.48\">0.60</text>\n",
       "</g>\n",
       "<g clip-path=\"url(#clip8701)\">\n",
       "<text style=\"fill:#000000; fill-opacity:1; font-family:Arial,Helvetica Neue,Helvetica,sans-serif; font-size:48px; text-anchor:end;\" transform=\"rotate(0, 227.149, 1433.17)\" x=\"227.149\" y=\"1433.17\">0.35</text>\n",
       "</g>\n",
       "<g clip-path=\"url(#clip8701)\">\n",
       "<text style=\"fill:#000000; fill-opacity:1; font-family:Arial,Helvetica Neue,Helvetica,sans-serif; font-size:48px; text-anchor:end;\" transform=\"rotate(0, 227.149, 1179.45)\" x=\"227.149\" y=\"1179.45\">0.40</text>\n",
       "</g>\n",
       "<g clip-path=\"url(#clip8701)\">\n",
       "<text style=\"fill:#000000; fill-opacity:1; font-family:Arial,Helvetica Neue,Helvetica,sans-serif; font-size:48px; text-anchor:end;\" transform=\"rotate(0, 227.149, 925.727)\" x=\"227.149\" y=\"925.727\">0.45</text>\n",
       "</g>\n",
       "<g clip-path=\"url(#clip8701)\">\n",
       "<text style=\"fill:#000000; fill-opacity:1; font-family:Arial,Helvetica Neue,Helvetica,sans-serif; font-size:48px; text-anchor:end;\" transform=\"rotate(0, 227.149, 672.006)\" x=\"227.149\" y=\"672.006\">0.50</text>\n",
       "</g>\n",
       "<g clip-path=\"url(#clip8701)\">\n",
       "<text style=\"fill:#000000; fill-opacity:1; font-family:Arial,Helvetica Neue,Helvetica,sans-serif; font-size:48px; text-anchor:end;\" transform=\"rotate(0, 227.149, 418.285)\" x=\"227.149\" y=\"418.285\">0.55</text>\n",
       "</g>\n",
       "<g clip-path=\"url(#clip8701)\">\n",
       "<text style=\"fill:#000000; fill-opacity:1; font-family:Arial,Helvetica Neue,Helvetica,sans-serif; font-size:48px; text-anchor:end;\" transform=\"rotate(0, 227.149, 164.564)\" x=\"227.149\" y=\"164.564\">0.60</text>\n",
       "</g>\n",
       "<g clip-path=\"url(#clip8701)\">\n",
       "<text style=\"fill:#000000; fill-opacity:1; font-family:Arial,Helvetica Neue,Helvetica,sans-serif; font-size:84px; text-anchor:middle;\" transform=\"rotate(0, 1286.2, 73.2)\" x=\"1286.2\" y=\"73.2\">y2</text>\n",
       "</g>\n",
       "<g clip-path=\"url(#clip8701)\">\n",
       "<text style=\"fill:#000000; fill-opacity:1; font-family:Arial,Helvetica Neue,Helvetica,sans-serif; font-size:66px; text-anchor:middle;\" transform=\"rotate(0, 1286.2, 1590.4)\" x=\"1286.2\" y=\"1590.4\">BayesL</text>\n",
       "</g>\n",
       "<g clip-path=\"url(#clip8701)\">\n",
       "<text style=\"fill:#000000; fill-opacity:1; font-family:Arial,Helvetica Neue,Helvetica,sans-serif; font-size:66px; text-anchor:middle;\" transform=\"rotate(-90, 57.6, 783.233)\" x=\"57.6\" y=\"783.233\">BayesCPi</text>\n",
       "</g>\n",
       "<polyline clip-path=\"url(#clip8703)\" style=\"stroke:#009af9; stroke-width:4; stroke-opacity:1; fill:none\" points=\"\n",
       "  309.737,1403.28 490.139,1288.73 598.554,1219.88 690.217,1161.68 789.789,1098.45 881.585,1040.16 980.001,977.669 1094.02,905.265 1195.36,840.921 1284.21,784.497 \n",
       "  1381.09,722.98 1478.55,661.097 1586.3,592.677 1688.82,527.578 1795.42,459.889 1885.15,402.91 1994.7,333.345 2097.68,267.952 2262.67,163.187 \n",
       "  \"/>\n",
       "<circle clip-path=\"url(#clip8703)\" style=\"fill:#000000; stroke:none; fill-opacity:1\" cx=\"1089.36\" cy=\"958.971\" r=\"18\"/>\n",
       "<circle clip-path=\"url(#clip8703)\" style=\"fill:#e26f46; stroke:none; fill-opacity:1\" cx=\"1089.36\" cy=\"958.971\" r=\"14\"/>\n",
       "<circle clip-path=\"url(#clip8703)\" style=\"fill:#000000; stroke:none; fill-opacity:1\" cx=\"1169.27\" cy=\"908.227\" r=\"18\"/>\n",
       "<circle clip-path=\"url(#clip8703)\" style=\"fill:#e26f46; stroke:none; fill-opacity:1\" cx=\"1169.27\" cy=\"908.227\" r=\"14\"/>\n",
       "<circle clip-path=\"url(#clip8703)\" style=\"fill:#000000; stroke:none; fill-opacity:1\" cx=\"929.534\" cy=\"1009.72\" r=\"18\"/>\n",
       "<circle clip-path=\"url(#clip8703)\" style=\"fill:#e26f46; stroke:none; fill-opacity:1\" cx=\"929.534\" cy=\"1009.72\" r=\"14\"/>\n",
       "<circle clip-path=\"url(#clip8703)\" style=\"fill:#000000; stroke:none; fill-opacity:1\" cx=\"849.62\" cy=\"1060.46\" r=\"18\"/>\n",
       "<circle clip-path=\"url(#clip8703)\" style=\"fill:#e26f46; stroke:none; fill-opacity:1\" cx=\"849.62\" cy=\"1060.46\" r=\"14\"/>\n",
       "<circle clip-path=\"url(#clip8703)\" style=\"fill:#000000; stroke:none; fill-opacity:1\" cx=\"849.62\" cy=\"1060.46\" r=\"18\"/>\n",
       "<circle clip-path=\"url(#clip8703)\" style=\"fill:#e26f46; stroke:none; fill-opacity:1\" cx=\"849.62\" cy=\"1060.46\" r=\"14\"/>\n",
       "<circle clip-path=\"url(#clip8703)\" style=\"fill:#000000; stroke:none; fill-opacity:1\" cx=\"1329.1\" cy=\"755.994\" r=\"18\"/>\n",
       "<circle clip-path=\"url(#clip8703)\" style=\"fill:#e26f46; stroke:none; fill-opacity:1\" cx=\"1329.1\" cy=\"755.994\" r=\"14\"/>\n",
       "<circle clip-path=\"url(#clip8703)\" style=\"fill:#000000; stroke:none; fill-opacity:1\" cx=\"769.707\" cy=\"1111.2\" r=\"18\"/>\n",
       "<circle clip-path=\"url(#clip8703)\" style=\"fill:#e26f46; stroke:none; fill-opacity:1\" cx=\"769.707\" cy=\"1111.2\" r=\"14\"/>\n",
       "<circle clip-path=\"url(#clip8703)\" style=\"fill:#000000; stroke:none; fill-opacity:1\" cx=\"1089.36\" cy=\"857.483\" r=\"18\"/>\n",
       "<circle clip-path=\"url(#clip8703)\" style=\"fill:#e26f46; stroke:none; fill-opacity:1\" cx=\"1089.36\" cy=\"857.483\" r=\"14\"/>\n",
       "<circle clip-path=\"url(#clip8703)\" style=\"fill:#000000; stroke:none; fill-opacity:1\" cx=\"1169.27\" cy=\"857.483\" r=\"18\"/>\n",
       "<circle clip-path=\"url(#clip8703)\" style=\"fill:#e26f46; stroke:none; fill-opacity:1\" cx=\"1169.27\" cy=\"857.483\" r=\"14\"/>\n",
       "<circle clip-path=\"url(#clip8703)\" style=\"fill:#000000; stroke:none; fill-opacity:1\" cx=\"1409.01\" cy=\"705.25\" r=\"18\"/>\n",
       "<circle clip-path=\"url(#clip8703)\" style=\"fill:#e26f46; stroke:none; fill-opacity:1\" cx=\"1409.01\" cy=\"705.25\" r=\"14\"/>\n",
       "</svg>\n"
      ]
     },
     "execution_count": 37,
     "metadata": {},
     "output_type": "execute_result"
    }
   ],
   "source": [
    "plot(x->x,0.35,0.6,title=\"y2\",lab=\"\")\n",
    "scatter!(resCorr[:,2],resCorr[:,6], xlabel=\"BayesL\",ylabel=\"BayesCPi\",lab=\"\")"
   ]
  }
 ],
 "metadata": {
  "kernelspec": {
   "display_name": "Julia 1.0.0",
   "language": "julia",
   "name": "julia-1.0"
  },
  "language_info": {
   "file_extension": ".jl",
   "mimetype": "application/julia",
   "name": "julia",
   "version": "1.0.0"
  }
 },
 "nbformat": 4,
 "nbformat_minor": 2
}
