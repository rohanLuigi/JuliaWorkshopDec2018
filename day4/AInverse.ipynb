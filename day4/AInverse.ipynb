{
 "cells": [
  {
   "cell_type": "markdown",
   "metadata": {
    "slideshow": {
     "slide_type": "-"
    }
   },
   "source": [
    "$$\n",
    "\\newcommand{\\E}{\\text{E}}\n",
    "\\newcommand{\\mbf}{\\mathbf}\n",
    "\\newcommand{\\bs}{\\boldsymbol}\n",
    "\\newcommand{\\Var}{\\text{Var}}\n",
    "\\newcommand{\\Cov}{\\text{Cov}}\n",
    "\\newcommand{\\e}{\\frac{1}{\\sigma^2_e}}\n",
    "\\newcommand{\\f}{\\frac{1}{\\sigma^2_{\\alpha}}}\n",
    "$$"
   ]
  },
  {
   "cell_type": "markdown",
   "metadata": {
    "slideshow": {
     "slide_type": "slide"
    }
   },
   "source": [
    "# Algorithm to invert a positive definite matrix\n",
    "\n",
    "# Rohan L Fernando\n",
    "\n",
    "# December 6, 2018\n"
   ]
  },
  {
   "cell_type": "markdown",
   "metadata": {
    "slideshow": {
     "slide_type": "slide"
    }
   },
   "source": [
    "- Suppose $\\mbf{A}$ is a positive definite variance-covariance matrix"
   ]
  },
  {
   "cell_type": "markdown",
   "metadata": {
    "slideshow": {
     "slide_type": "fragment"
    }
   },
   "source": [
    "- Can write:\n",
    "\\begin{align*}\n",
    "    \\begin{bmatrix}\n",
    "    \\mbf{A}_{11} & \\mbf{A}_{12} \\\\\n",
    "    \\mbf{A}_{21} & \\mbf{A}_{22}\n",
    "    \\end{bmatrix}\n",
    "    &= \\begin{bmatrix}\n",
    "    \\mbf{A}_{11}         & \\mbf{A}_{11}\\mbf{L} \\\\\n",
    "    \\mbf{L}'\\mbf{A}_{11} & \\mbf{L}'\\mbf{A}_{11}\\mbf{L} + \\mbf{R} \n",
    "      \\end{bmatrix}\\\\\n",
    "\\end{align*}"
   ]
  },
  {
   "cell_type": "markdown",
   "metadata": {
    "slideshow": {
     "slide_type": "fragment"
    }
   },
   "source": [
    "-  $\\mbf{L} = \\mbf{A}_{11}^{-1}\\mbf{A}_{12}$\n",
    "\n",
    "-  $\\mbf{R} = \\mbf{A}_{22} - \\mbf{L}'\\mbf{A}_{11}\\mbf{L}$"
   ]
  },
  {
   "cell_type": "markdown",
   "metadata": {},
   "source": [
    "### Numerical demonstration of above identity"
   ]
  },
  {
   "cell_type": "markdown",
   "metadata": {},
   "source": [
    "#### First construct PD $\\mbf{A}$ matrix:"
   ]
  },
  {
   "cell_type": "code",
   "execution_count": 1,
   "metadata": {},
   "outputs": [
    {
     "data": {
      "text/plain": [
       "10×5 Array{Int64,2}:\n",
       " 1  1  1  1  1\n",
       " 0  0  0  1  0\n",
       " 1  0  1  0  1\n",
       " 1  0  1  1  1\n",
       " 1  1  0  1  1\n",
       " 0  1  1  1  0\n",
       " 1  0  1  1  0\n",
       " 0  1  1  1  1\n",
       " 0  0  0  0  1\n",
       " 1  0  0  0  1"
      ]
     },
     "execution_count": 1,
     "metadata": {},
     "output_type": "execute_result"
    }
   ],
   "source": [
    "using Distributions, LinearAlgebra\n",
    "X = rand(Binomial(),10,5)"
   ]
  },
  {
   "cell_type": "code",
   "execution_count": 2,
   "metadata": {},
   "outputs": [
    {
     "data": {
      "text/plain": [
       "5×5 Array{Int64,2}:\n",
       " 6  2  4  4  5\n",
       " 2  4  3  4  3\n",
       " 4  3  6  5  4\n",
       " 4  4  5  7  4\n",
       " 5  3  4  4  7"
      ]
     },
     "execution_count": 2,
     "metadata": {},
     "output_type": "execute_result"
    }
   ],
   "source": [
    "A = X'X"
   ]
  },
  {
   "cell_type": "code",
   "execution_count": 3,
   "metadata": {},
   "outputs": [
    {
     "data": {
      "text/plain": [
       "3×3 Array{Int64,2}:\n",
       " 6  5  4\n",
       " 5  7  4\n",
       " 4  4  7"
      ]
     },
     "execution_count": 3,
     "metadata": {},
     "output_type": "execute_result"
    }
   ],
   "source": [
    "s1 = 1:2\n",
    "s2 = 3:5\n",
    "A11 = A[s1,s1]\n",
    "A12 = A[s1,s2]\n",
    "A21 = A[s2,s1]\n",
    "A22 = A[s2,s2]"
   ]
  },
  {
   "cell_type": "markdown",
   "metadata": {},
   "source": [
    "Show that $\\mbf{A}_{12}$ can be written as $\\mbf{A}_{11}\\mbf{L}$"
   ]
  },
  {
   "cell_type": "code",
   "execution_count": 8,
   "metadata": {},
   "outputs": [
    {
     "data": {
      "text/plain": [
       "2×3 Array{Float64,2}:\n",
       " -0.0  0.0  -0.0\n",
       " -0.0  0.0   0.0"
      ]
     },
     "execution_count": 8,
     "metadata": {},
     "output_type": "execute_result"
    }
   ],
   "source": [
    "A11i = inv(A11)\n",
    "L = A11i*A12\n",
    "round.(A11*L - A12,digits=3)"
   ]
  },
  {
   "cell_type": "markdown",
   "metadata": {},
   "source": [
    "In fact, any $2\\times 1$ vector $\\mbf{b}$ can be written as:"
   ]
  },
  {
   "cell_type": "markdown",
   "metadata": {},
   "source": [
    "$\\mbf{A}\\mbf{x} = \\mbf{b}$"
   ]
  },
  {
   "cell_type": "markdown",
   "metadata": {},
   "source": [
    "#### Numerical demonstration"
   ]
  },
  {
   "cell_type": "code",
   "execution_count": 32,
   "metadata": {},
   "outputs": [
    {
     "data": {
      "text/plain": [
       "2×2 Array{Float64,2}:\n",
       " -1.00064   -1.00064 \n",
       "  0.558491   0.558491"
      ]
     },
     "execution_count": 32,
     "metadata": {},
     "output_type": "execute_result"
    }
   ],
   "source": [
    "b = randn(2)\n",
    "x = A11i*b\n",
    "[A11*x b]"
   ]
  },
  {
   "cell_type": "markdown",
   "metadata": {},
   "source": [
    "So, can write \n",
    "\\begin{align*}\n",
    "\\begin{bmatrix}\n",
    "    \\mbf{A}_{11} & \\mbf{A}_{12} \n",
    "\\end{bmatrix}\n",
    "&= \\mbf{A}_{11}\\begin{bmatrix}\n",
    "                   \\mbf{I} & \\mbf{L} \n",
    "                \\end{bmatrix}\\\\\n",
    "&= \\begin{bmatrix}\n",
    "   \\mbf{A}_{11} & \\mbf{A}_{11}\\mbf{L} \n",
    "                \\end{bmatrix},\n",
    "\\end{align*}\n",
    "which is the second block of $\\mbf{A}$."
   ]
  },
  {
   "cell_type": "markdown",
   "metadata": {},
   "source": [
    "But, because $\\mbf{A}_{21} = \\mbf{A}'_{12}$, $\\mbf{A}_{21}$ can be written as $\\mbf{A}_{21} = \\mbf{L}'\\mbf{A}_{11}$. "
   ]
  },
  {
   "cell_type": "markdown",
   "metadata": {},
   "source": [
    "#### Verifying numerically:"
   ]
  },
  {
   "cell_type": "code",
   "execution_count": 34,
   "metadata": {},
   "outputs": [
    {
     "data": {
      "text/plain": [
       "3×2 Array{Float64,2}:\n",
       " -0.0  -0.0\n",
       "  0.0   0.0\n",
       " -0.0   0.0"
      ]
     },
     "execution_count": 34,
     "metadata": {},
     "output_type": "execute_result"
    }
   ],
   "source": [
    "round.(L'A11 - A21)"
   ]
  },
  {
   "cell_type": "markdown",
   "metadata": {},
   "source": [
    "So, the matrix:"
   ]
  },
  {
   "cell_type": "markdown",
   "metadata": {},
   "source": [
    "$$ \n",
    "\\mbf{B} = \n",
    "\\begin{bmatrix}\n",
    "   \\mbf{I} \\\\\n",
    "   \\mbf{L}'\n",
    "\\end{bmatrix}\n",
    "\\mbf{A}_{11}\\begin{bmatrix}\n",
    "                   \\mbf{I} & \\mbf{L} \n",
    "                \\end{bmatrix}\n",
    "=\n",
    "\\begin{bmatrix}\n",
    "    \\mbf{A}_{11}         & \\mbf{A}_{11}\\mbf{L} \\\\\n",
    "    \\mbf{L}'\\mbf{A}_{11} & \\mbf{L}'\\mbf{A}_{11}\\mbf{L}\n",
    "      \\end{bmatrix}\n",
    "$$"
   ]
  },
  {
   "cell_type": "markdown",
   "metadata": {},
   "source": [
    "differs from $\\mbf{A}$ only in that $\\mbf{A}_{22}$ may not be equal to $\\mbf{L}'\\mbf{A}_{11}\\mbf{L}$. Can show that $\\mbf{B}$ is not positive definite, but $\\mbf{A}$ is positive definite. "
   ]
  },
  {
   "cell_type": "code",
   "execution_count": 64,
   "metadata": {},
   "outputs": [
    {
     "data": {
      "text/plain": [
       "5×5 Array{Float64,2}:\n",
       " 6.0  2.0  4.0  4.0  5.0\n",
       " 2.0  4.0  3.0  4.0  3.0\n",
       " 4.0  3.0  3.5  4.0  4.0\n",
       " 4.0  4.0  4.0  4.8  4.4\n",
       " 5.0  3.0  4.0  4.4  4.7"
      ]
     },
     "execution_count": 64,
     "metadata": {},
     "output_type": "execute_result"
    }
   ],
   "source": [
    "Identity(n) = Matrix(I,n,n)\n",
    "x = rand(5)\n",
    "B =  [Identity(2)\n",
    "      L'          ] *A11 *[Identity(2) L]"
   ]
  },
  {
   "cell_type": "code",
   "execution_count": 69,
   "metadata": {},
   "outputs": [
    {
     "data": {
      "text/plain": [
       "5-element Array{Float64,1}:\n",
       "  0.49999999999999994\n",
       "  0.49999999999999994\n",
       " -1.0                \n",
       "  0.0                \n",
       "  0.0                "
      ]
     },
     "execution_count": 69,
     "metadata": {},
     "output_type": "execute_result"
    }
   ],
   "source": [
    "y = [L[:,1]\n",
    "     -1\n",
    "      0\n",
    "      0\n",
    "    ]"
   ]
  },
  {
   "cell_type": "code",
   "execution_count": 70,
   "metadata": {},
   "outputs": [
    {
     "data": {
      "text/plain": [
       "5-element Array{Float64,1}:\n",
       " -1.1102230246251565e-16\n",
       "  2.220446049250313e-16 \n",
       "  0.0                   \n",
       "  0.0                   \n",
       "  0.0                   "
      ]
     },
     "execution_count": 70,
     "metadata": {},
     "output_type": "execute_result"
    }
   ],
   "source": [
    "B*y"
   ]
  },
  {
   "cell_type": "code",
   "execution_count": 75,
   "metadata": {},
   "outputs": [
    {
     "data": {
      "text/plain": [
       "5-element Array{Float64,1}:\n",
       " 0.0                   \n",
       " 1.1102230246251565e-16\n",
       " 0.0                   \n",
       " 2.220446049250313e-16 \n",
       " 8.881784197001252e-16 "
      ]
     },
     "execution_count": 75,
     "metadata": {},
     "output_type": "execute_result"
    }
   ],
   "source": [
    "y = [L[:,2]\n",
    "       0\n",
    "      -1\n",
    "       0\n",
    "    ]\n",
    "B*y"
   ]
  },
  {
   "cell_type": "code",
   "execution_count": 71,
   "metadata": {},
   "outputs": [
    {
     "data": {
      "text/plain": [
       "5.551115123125782e-17"
      ]
     },
     "execution_count": 71,
     "metadata": {},
     "output_type": "execute_result"
    }
   ],
   "source": [
    "y'B*y"
   ]
  },
  {
   "cell_type": "markdown",
   "metadata": {},
   "source": [
    "Can write $\\mbf{A}$ as "
   ]
  },
  {
   "cell_type": "markdown",
   "metadata": {
    "slideshow": {
     "slide_type": "fragment"
    }
   },
   "source": [
    "\\begin{align*}\n",
    "   \\begin{bmatrix}\n",
    "    \\mbf{A}_{11} & \\mbf{A}_{12} \\\\\n",
    "    \\mbf{A}_{21} & \\mbf{A}_{22}\n",
    "    \\end{bmatrix}\n",
    "    &= \\begin{bmatrix}\n",
    "   \\mbf{I} \\\\\n",
    "   \\mbf{L}'\n",
    "\\end{bmatrix}\n",
    "\\mbf{A}_{11}\\begin{bmatrix}\n",
    "                \\mbf{I} & \\mbf{L} \n",
    "             \\end{bmatrix}\n",
    "+\n",
    "\\begin{bmatrix}\n",
    "   \\mbf{0} \\\\\n",
    "   \\mbf{I}\n",
    "\\end{bmatrix}\n",
    "\\mbf{R}\\begin{bmatrix}\n",
    "              \\mbf{0} & \\mbf{I} \n",
    "        \\end{bmatrix}\\\\\n",
    "    &= \n",
    "    \\begin{bmatrix}\n",
    "     \\mbf{I} & \\mbf{0} \\\\\n",
    "     \\mbf{L}' & \\mbf{I}\n",
    "    \\end{bmatrix}\n",
    "    \\begin{bmatrix}\n",
    "     \\mbf{A}_{11} & \\mbf{0} \\\\\n",
    "     \\mbf{0}      & \\mbf{R}\n",
    "    \\end{bmatrix}\n",
    "        \\begin{bmatrix}\n",
    "     \\mbf{I} & \\mbf{L} \\\\\n",
    "     \\mbf{0} & \\mbf{I}\n",
    "    \\end{bmatrix}\\\\\n",
    "    &= \\mbf{PVP}'\n",
    "\\end{align*}"
   ]
  },
  {
   "cell_type": "markdown",
   "metadata": {
    "slideshow": {
     "slide_type": "fragment"
    }
   },
   "source": [
    "So, \n",
    "$$\n",
    "\\mbf{A}^{-1} = (\\mbf{P}')^{-1}\\mbf{V}^{-1}\\mbf{P}^{-1}\n",
    "$$"
   ]
  },
  {
   "cell_type": "markdown",
   "metadata": {
    "slideshow": {
     "slide_type": "slide"
    }
   },
   "source": [
    "## Inverse of $\\mbf{A}$\n",
    "\\begin{align*}\n",
    "   \\begin{bmatrix}\n",
    "    \\mbf{A}^{11} & \\mbf{A}^{12} \\\\\n",
    "    \\mbf{A}^{21} & \\mbf{A}^{22}\n",
    "    \\end{bmatrix}\n",
    "    &= (\\mbf{P}')^{-1}\\mbf{V}^{-1}\\mbf{P}^{-1}\\\\\n",
    "    &= \n",
    "    \\begin{bmatrix}\n",
    "     \\mbf{I} & -\\mbf{L} \\\\\n",
    "     \\mbf{0} & \\mbf{I}\n",
    "    \\end{bmatrix}\n",
    "    \\begin{bmatrix}\n",
    "     \\mbf{A}_{11}^{-1} & \\mbf{0} \\\\\n",
    "     \\mbf{0}      & \\mbf{R}^{-1}\n",
    "    \\end{bmatrix}\n",
    "        \\begin{bmatrix}\n",
    "     \\mbf{I} & \\mbf{0} \\\\\n",
    "     -\\mbf{L}' & \\mbf{I}\n",
    "    \\end{bmatrix} \\\\\n",
    "    &= \n",
    "    \\begin{bmatrix}\n",
    "     \\mbf{I}\\\\\n",
    "     \\mbf{0}\n",
    "    \\end{bmatrix}\n",
    "     \\mbf{A}_{11}^{-1}\n",
    "    \\begin{bmatrix}\n",
    "     \\mbf{I} & \\mbf{0}\n",
    "    \\end{bmatrix}\n",
    "    +\n",
    "    \\begin{bmatrix}\n",
    "     -\\mbf{L}\\\\\n",
    "     \\mbf{I}\n",
    "    \\end{bmatrix}\n",
    "    \\mbf{R}^{-1}\n",
    "    \\begin{bmatrix}\n",
    "     -\\mbf{L}' & \\mbf{I}\n",
    "    \\end{bmatrix}   \n",
    "    \\end{align*}\n",
    "    "
   ]
  },
  {
   "cell_type": "markdown",
   "metadata": {
    "slideshow": {
     "slide_type": "fragment"
    }
   },
   "source": [
    "\\begin{align*}\n",
    "&=\n",
    "   \\begin{bmatrix}\n",
    "    \\mbf{A}_{11}^{-1} & \\mbf{0} \\\\\n",
    "    \\mbf{0}      & \\mbf{0}\n",
    "    \\end{bmatrix}\n",
    "+\n",
    "   \\begin{bmatrix}\n",
    "    \\mbf{L}\\mbf{R}^{-1}\\mbf{L}' & -\\mbf{L}\\mbf{R}^{-1} \\\\\n",
    "    -\\mbf{R}^{-1}\\mbf{L}'       & \\mbf{R}^{-1}\n",
    "    \\end{bmatrix}\n",
    "\\end{align*}    "
   ]
  },
  {
   "cell_type": "markdown",
   "metadata": {
    "slideshow": {
     "slide_type": "slide"
    }
   },
   "source": [
    "## Inverse Function"
   ]
  },
  {
   "cell_type": "code",
   "execution_count": 19,
   "metadata": {
    "slideshow": {
     "slide_type": "fragment"
    }
   },
   "outputs": [
    {
     "data": {
      "text/plain": [
       "invA (generic function with 1 method)"
      ]
     },
     "execution_count": 19,
     "metadata": {},
     "output_type": "execute_result"
    }
   ],
   "source": [
    "function invA(A)\n",
    "    n  = size(A,1)\n",
    "    Ai = zeros(n,n)\n",
    "    if n==1\n",
    "        return 1/A[1,1]\n",
    "    else\n",
    "        s1 = 1:n-1\n",
    "        s2 = n\n",
    "        A11 = A[s1,s1]\n",
    "        A11i = invA(A11)\n",
    "        A12 = A[s1,s2]\n",
    "        A22 = A[s2,s2]\n",
    "        L = A11i*A12\n",
    "        R = A22 - L'A11*L\n",
    "        Ri = 1/R[1,1]\n",
    "        Ai = [A11i .+ (Ri.* L*L') -Ri.*L\n",
    "              -Ri.*L'              Ri.*1]\n",
    "        return Ai\n",
    "   end\n",
    "end"
   ]
  },
  {
   "cell_type": "code",
   "execution_count": 64,
   "metadata": {},
   "outputs": [
    {
     "data": {
      "text/plain": [
       "3×3 Array{Int64,2}:\n",
       " 46  56   72\n",
       " 56  69   89\n",
       " 72  89  115"
      ]
     },
     "execution_count": 64,
     "metadata": {},
     "output_type": "execute_result"
    }
   ],
   "source": [
    "A"
   ]
  },
  {
   "cell_type": "code",
   "execution_count": 66,
   "metadata": {},
   "outputs": [
    {
     "data": {
      "text/plain": [
       "3×3 Array{Int64,2}:\n",
       "  2  56   72\n",
       " 56  69   89\n",
       " 72  89  115"
      ]
     },
     "execution_count": 66,
     "metadata": {},
     "output_type": "execute_result"
    }
   ],
   "source": [
    "B = copy(A)"
   ]
  },
  {
   "cell_type": "code",
   "execution_count": 67,
   "metadata": {},
   "outputs": [
    {
     "data": {
      "text/plain": [
       "3×3 Array{Int64,2}:\n",
       "  2  56   72\n",
       " 56  69   89\n",
       " 72  89  115"
      ]
     },
     "execution_count": 67,
     "metadata": {},
     "output_type": "execute_result"
    }
   ],
   "source": [
    "B[1,1] = 3\n",
    "A"
   ]
  },
  {
   "cell_type": "code",
   "execution_count": 1,
   "metadata": {},
   "outputs": [
    {
     "name": "stdout",
     "output_type": "stream",
     "text": [
      "1\n",
      "2\n",
      "3\n",
      "4\n",
      "5\n",
      "6\n",
      "7\n",
      "8\n",
      "9\n",
      "10\n"
     ]
    }
   ],
   "source": [
    "for i=1:10\n",
    "    println(i)\n",
    "end"
   ]
  },
  {
   "cell_type": "code",
   "execution_count": 69,
   "metadata": {},
   "outputs": [
    {
     "data": {
      "text/plain": [
       "3×3 BitArray{2}:\n",
       " false  true  true\n",
       "  true  true  true\n",
       "  true  true  true"
      ]
     },
     "execution_count": 69,
     "metadata": {},
     "output_type": "execute_result"
    }
   ],
   "source": [
    "B .== A"
   ]
  },
  {
   "cell_type": "code",
   "execution_count": 9,
   "metadata": {},
   "outputs": [
    {
     "data": {
      "text/plain": [
       "check_a (generic function with 1 method)"
      ]
     },
     "execution_count": 9,
     "metadata": {},
     "output_type": "execute_result"
    }
   ],
   "source": [
    "a = 0\n",
    "function check_a(a)\n",
    "    if a > 1\n",
    "        println(\"a is larger than 1\")\n",
    "    elseif a==1\n",
    "        println(\"a is equal to 1\")\n",
    "    else\n",
    "        println(\"a is less than 1\")\n",
    "    end\n",
    "end"
   ]
  },
  {
   "cell_type": "code",
   "execution_count": 11,
   "metadata": {},
   "outputs": [
    {
     "name": "stdout",
     "output_type": "stream",
     "text": [
      "a is less than 1\n"
     ]
    }
   ],
   "source": [
    "check_a(0)"
   ]
  },
  {
   "cell_type": "code",
   "execution_count": 13,
   "metadata": {},
   "outputs": [
    {
     "name": "stdout",
     "output_type": "stream",
     "text": [
      "a is equal to 1\n"
     ]
    }
   ],
   "source": [
    "check_a(1)"
   ]
  },
  {
   "cell_type": "code",
   "execution_count": 14,
   "metadata": {},
   "outputs": [
    {
     "name": "stdout",
     "output_type": "stream",
     "text": [
      "a is larger than 1\n"
     ]
    }
   ],
   "source": [
    "check_a(2)"
   ]
  },
  {
   "cell_type": "markdown",
   "metadata": {
    "slideshow": {
     "slide_type": "slide"
    }
   },
   "source": [
    "## Numerical Example"
   ]
  },
  {
   "cell_type": "code",
   "execution_count": 78,
   "metadata": {
    "slideshow": {
     "slide_type": "fragment"
    }
   },
   "outputs": [
    {
     "data": {
      "text/plain": [
       "3×3 Array{Int64,2}:\n",
       " 46  56   72\n",
       " 56  69   89\n",
       " 72  89  115"
      ]
     },
     "execution_count": 78,
     "metadata": {},
     "output_type": "execute_result"
    }
   ],
   "source": [
    "X = [1 2 3\n",
    "     3 4 5\n",
    "     6 7 9]\n",
    "A = X'X"
   ]
  },
  {
   "cell_type": "code",
   "execution_count": 17,
   "metadata": {
    "slideshow": {
     "slide_type": "fragment"
    }
   },
   "outputs": [
    {
     "data": {
      "text/plain": [
       "3×3 Array{Float64,2}:\n",
       "  3.5   -8.0    4.0\n",
       " -8.0   26.5  -15.5\n",
       "  4.0  -15.5    9.5"
      ]
     },
     "execution_count": 17,
     "metadata": {},
     "output_type": "execute_result"
    }
   ],
   "source": [
    "# Julia inverse function\n",
    "inv(A)"
   ]
  },
  {
   "cell_type": "code",
   "execution_count": 20,
   "metadata": {
    "slideshow": {
     "slide_type": "fragment"
    }
   },
   "outputs": [
    {
     "data": {
      "text/plain": [
       "3×3 Array{Float64,2}:\n",
       "  3.5   -8.0    4.0\n",
       " -8.0   26.5  -15.5\n",
       "  4.0  -15.5    9.5"
      ]
     },
     "execution_count": 20,
     "metadata": {},
     "output_type": "execute_result"
    }
   ],
   "source": [
    "# Our inverse function\n",
    "invA(A)"
   ]
  },
  {
   "cell_type": "markdown",
   "metadata": {
    "slideshow": {
     "slide_type": "slide"
    }
   },
   "source": [
    "## Additive Relationship Matrix: $\\mbf{A}$\n",
    "\n",
    "- $a_{ij}$ is two times the kinship probability ($F_{ij}$) that randomly sampled alleles from $i$ and $j$ are IBD"
   ]
  },
  {
   "cell_type": "markdown",
   "metadata": {
    "slideshow": {
     "slide_type": "fragment"
    }
   },
   "source": [
    "- Homologous alleles are IBD if they can be traced to the same ancestral allele in a founder"
   ]
  },
  {
   "cell_type": "markdown",
   "metadata": {
    "slideshow": {
     "slide_type": "fragment"
    }
   },
   "source": [
    "- Thus, two different alleles in founders are not IBD"
   ]
  },
  {
   "cell_type": "markdown",
   "metadata": {
    "slideshow": {
     "slide_type": "fragment"
    }
   },
   "source": [
    "- Homologous alleles are randomly inherited one from each of the parents $m_i$ and and $f_i$ of $i$"
   ]
  },
  {
   "cell_type": "markdown",
   "metadata": {
    "slideshow": {
     "slide_type": "fragment"
    }
   },
   "source": [
    "- If $j$ is not a descendant of $i$, the genetic relationship of $j$ with $i$ is entirely through the parents of $j$"
   ]
  },
  {
   "cell_type": "markdown",
   "metadata": {
    "slideshow": {
     "slide_type": "fragment"
    }
   },
   "source": [
    "Thus,\n",
    "$$\n",
    "F_{ij} = \\frac{1}{2}(F_{jm_i} + F_{jf_i})\n",
    "$$\n",
    "\n",
    "and \n",
    "\n",
    "$$\n",
    "F_{ii} = \\frac{1}{2}(1 + F_{m_if_i})\n",
    "$$"
   ]
  },
  {
   "cell_type": "markdown",
   "metadata": {
    "slideshow": {
     "slide_type": "subslide"
    }
   },
   "source": [
    "Similarly,\n",
    "$$\n",
    "a_{ij} = \\frac{1}{2}(a_{jm_i} + a_{jf_i})\n",
    "$$\n",
    "\n",
    "and \n",
    "\n",
    "$$\n",
    "a_{ii} = \\frac{1}{2}(2 + a_{m_if_i})\n",
    "$$"
   ]
  },
  {
   "cell_type": "markdown",
   "metadata": {
    "slideshow": {
     "slide_type": "slide"
    }
   },
   "source": [
    "## Tabular Method to Compute $\\mbf{A}$\n",
    "\n",
    "- Number individuals such that parents preced offspring"
   ]
  },
  {
   "cell_type": "markdown",
   "metadata": {
    "slideshow": {
     "slide_type": "fragment"
    }
   },
   "source": [
    "- For founders, enter 1 on diagonal and 0 on off-diagonals"
   ]
  },
  {
   "cell_type": "markdown",
   "metadata": {
    "slideshow": {
     "slide_type": "fragment"
    }
   },
   "source": [
    "- For non-founder $i$ calculate row elements 1 to $i-1$ as the average of the parental row elements"
   ]
  },
  {
   "cell_type": "markdown",
   "metadata": {
    "slideshow": {
     "slide_type": "fragment"
    }
   },
   "source": [
    "- Set diagonal element $i$ to $\\frac{1}{2}(1 + a_{m_if_i})$"
   ]
  },
  {
   "cell_type": "markdown",
   "metadata": {
    "slideshow": {
     "slide_type": "fragment"
    }
   },
   "source": [
    "- Fill columns by symmetry."
   ]
  },
  {
   "cell_type": "markdown",
   "metadata": {
    "slideshow": {
     "slide_type": "fragment"
    }
   },
   "source": [
    "In matrix notation:\n",
    "\n",
    "$$\n",
    "\\mbf{A}_i = \n",
    "\\begin{bmatrix}\n",
    "    \\mbf{A}_{i-1}           & \\mbf{A}_{i-1}\\mbf{q}_i \\\\\n",
    "    \\mbf{q}'_i\\mbf{A}_{i-1} & \\frac{1}{2}(2 + a_{m_if_i})\n",
    "      \\end{bmatrix}\n",
    "$$"
   ]
  },
  {
   "cell_type": "markdown",
   "metadata": {
    "slideshow": {
     "slide_type": "fragment"
    }
   },
   "source": [
    "where $mbf{q}_i$ has only two non-zero elements that are equal to 0.5 at positions corresponding to $m_i$ and $f_i$."
   ]
  },
  {
   "cell_type": "markdown",
   "metadata": {
    "slideshow": {
     "slide_type": "subslide"
    }
   },
   "source": [
    "So,\n",
    "$$\n",
    "\\mbf{A}_i^{-1}=\n",
    "   \\begin{bmatrix}\n",
    "    \\mbf{A}_{i-1}^{-1} & \\mbf{0} \\\\\n",
    "    \\mbf{0}      & \\mbf{0}\n",
    "    \\end{bmatrix}\n",
    "+\n",
    "    \\begin{bmatrix}\n",
    "     -\\mbf{q}_i\\\\\n",
    "          1\n",
    "    \\end{bmatrix}\n",
    "    \\mbf{a}^{ii}\n",
    "    \\begin{bmatrix}\n",
    "     -\\mbf{q}'_i & 1\n",
    "    \\end{bmatrix}\n",
    "$$  \n",
    "\n",
    "where $a^{ii} = (a_{ii} - \\mbf{q}'_i\\mbf{A}_{i-1}\\mbf{q}_i)^{-1}$"
   ]
  },
  {
   "cell_type": "markdown",
   "metadata": {
    "slideshow": {
     "slide_type": "subslide"
    }
   },
   "source": [
    "## Algorithm\n",
    "\n",
    "- Set $\\mbf{A}^{-1} = \\mbf{0}$"
   ]
  },
  {
   "cell_type": "markdown",
   "metadata": {
    "slideshow": {
     "slide_type": "fragment"
    }
   },
   "source": [
    "- Compute $a^{ii}$ for all animals"
   ]
  },
  {
   "cell_type": "markdown",
   "metadata": {
    "slideshow": {
     "slide_type": "fragment"
    }
   },
   "source": [
    "- For each animal add to $\\mbf{A}^{-1}$\n",
    "\n",
    "   - $a^{ii}$ to (i,i)\n",
    "   - -1/2$a^{ii}$ to $(i,f_i)$, $(f_i,i)$,$(i,m_i)$,$(m_i,i)$\n",
    "   - 1/4$a^{ii}$ to $(f_i,f_i)$, $(f_i,m_i)$,$(m_i,f_i)$,$(m_i,m_i)$"
   ]
  },
  {
   "cell_type": "markdown",
   "metadata": {
    "slideshow": {
     "slide_type": "slide"
    }
   },
   "source": [
    "## Numerical Example"
   ]
  },
  {
   "cell_type": "markdown",
   "metadata": {
    "slideshow": {
     "slide_type": "fragment"
    }
   },
   "source": [
    "Pedigree:\n",
    "$$\n",
    "\\begin{matrix}\n",
    "i & f & m\\\\\n",
    "1 & 0 & 0\\\\\n",
    "2 & 0 & 0\\\\\n",
    "3 & 1 & 2\\\\\n",
    "4 & 1 & 2\\\\\n",
    "5 & 3 & 4\n",
    "\\end{matrix}\n",
    "$$"
   ]
  },
  {
   "cell_type": "code",
   "execution_count": 3,
   "metadata": {
    "slideshow": {
     "slide_type": "fragment"
    }
   },
   "outputs": [
    {
     "data": {
      "text/plain": [
       "2×2 Array{Int64,2}:\n",
       " 1  0\n",
       " 0  1"
      ]
     },
     "execution_count": 3,
     "metadata": {},
     "output_type": "execute_result"
    }
   ],
   "source": [
    "A2 = [1 0\n",
    "      0 1]"
   ]
  },
  {
   "cell_type": "code",
   "execution_count": 4,
   "metadata": {
    "slideshow": {
     "slide_type": "fragment"
    }
   },
   "outputs": [
    {
     "data": {
      "text/plain": [
       "3×3 Array{Float64,2}:\n",
       " 1.0  0.0  0.5\n",
       " 0.0  1.0  0.5\n",
       " 0.5  0.5  1.0"
      ]
     },
     "execution_count": 4,
     "metadata": {},
     "output_type": "execute_result"
    }
   ],
   "source": [
    "q   = [0.5, 0.5]\n",
    "amf = A2[1,2]\n",
    "A3 = [A2    A2*q\n",
    "      q'A2  1 + 0.5amf   ]"
   ]
  },
  {
   "cell_type": "code",
   "execution_count": 5,
   "metadata": {
    "slideshow": {
     "slide_type": "subslide"
    }
   },
   "outputs": [
    {
     "data": {
      "text/plain": [
       "4×4 Array{Float64,2}:\n",
       " 1.0  0.0  0.5  0.5\n",
       " 0.0  1.0  0.5  0.5\n",
       " 0.5  0.5  1.0  0.5\n",
       " 0.5  0.5  0.5  1.0"
      ]
     },
     "execution_count": 5,
     "metadata": {},
     "output_type": "execute_result"
    }
   ],
   "source": [
    "q   = [0.5, 0.5, 0]\n",
    "amf = A3[1,2]\n",
    "A4 = [A3    A3*q\n",
    "      q'A3  1 + 0.5amf   ]"
   ]
  },
  {
   "cell_type": "code",
   "execution_count": 6,
   "metadata": {
    "scrolled": true,
    "slideshow": {
     "slide_type": "fragment"
    }
   },
   "outputs": [
    {
     "data": {
      "text/plain": [
       "5×5 Array{Float64,2}:\n",
       " 1.0  0.0  0.5   0.5   0.5 \n",
       " 0.0  1.0  0.5   0.5   0.5 \n",
       " 0.5  0.5  1.0   0.5   0.75\n",
       " 0.5  0.5  0.5   1.0   0.75\n",
       " 0.5  0.5  0.75  0.75  1.25"
      ]
     },
     "execution_count": 6,
     "metadata": {},
     "output_type": "execute_result"
    }
   ],
   "source": [
    "q   = [0, 0, 0.5, 0.5]\n",
    "amf = A4[3,4]\n",
    "A5 = [A4    A4*q\n",
    "      q'A4  1 + 0.5amf   ]\n",
    "A = A5"
   ]
  },
  {
   "cell_type": "markdown",
   "metadata": {
    "slideshow": {
     "slide_type": "slide"
    }
   },
   "source": [
    "## A Inverse"
   ]
  },
  {
   "cell_type": "code",
   "execution_count": 7,
   "metadata": {
    "slideshow": {
     "slide_type": "fragment"
    }
   },
   "outputs": [
    {
     "data": {
      "text/plain": [
       "2×2 Array{Float64,2}:\n",
       " 1.0  0.0\n",
       " 0.0  1.0"
      ]
     },
     "execution_count": 7,
     "metadata": {},
     "output_type": "execute_result"
    }
   ],
   "source": [
    "using LinearAlgebra\n",
    "A2i = Matrix(1.0I, 2,2)"
   ]
  },
  {
   "cell_type": "code",
   "execution_count": 8,
   "metadata": {
    "scrolled": true,
    "slideshow": {
     "slide_type": "fragment"
    }
   },
   "outputs": [
    {
     "data": {
      "text/plain": [
       "3×3 Array{Float64,2}:\n",
       "  1.5   0.5  -1.0\n",
       "  0.5   1.5  -1.0\n",
       " -1.0  -1.0   2.0"
      ]
     },
     "execution_count": 8,
     "metadata": {},
     "output_type": "execute_result"
    }
   ],
   "source": [
    "q = [0.5, 0.5]\n",
    "a33i = 1/(A[3,3] - q'A2*q)\n",
    "A3i  = [A2i zero(q)\n",
    "        zero(q')   0] + [-q; 1]*[-q' 1].*a33i"
   ]
  },
  {
   "cell_type": "code",
   "execution_count": 9,
   "metadata": {
    "slideshow": {
     "slide_type": "fragment"
    }
   },
   "outputs": [
    {
     "data": {
      "text/plain": [
       "3×3 Array{Float64,2}:\n",
       "  1.5   0.5  -1.0\n",
       "  0.5   1.5  -1.0\n",
       " -1.0  -1.0   2.0"
      ]
     },
     "execution_count": 9,
     "metadata": {},
     "output_type": "execute_result"
    }
   ],
   "source": [
    "inv(A[1:3,1:3])"
   ]
  },
  {
   "cell_type": "code",
   "execution_count": 10,
   "metadata": {
    "slideshow": {
     "slide_type": "subslide"
    }
   },
   "outputs": [
    {
     "data": {
      "text/plain": [
       "4×4 Array{Float64,2}:\n",
       "  2.0   1.0  -1.0  -1.0\n",
       "  1.0   2.0  -1.0  -1.0\n",
       " -1.0  -1.0   2.0   0.0\n",
       " -1.0  -1.0   0.0   2.0"
      ]
     },
     "execution_count": 10,
     "metadata": {},
     "output_type": "execute_result"
    }
   ],
   "source": [
    "q    = [0.5, 0.5, 0]\n",
    "a44i = 1/(A[4,4] - q'A3*q)\n",
    "A4i  = [A3i zero(q)\n",
    "        zero(q')   0] + [-q; 1]*[-q' 1].*a44i"
   ]
  },
  {
   "cell_type": "code",
   "execution_count": 11,
   "metadata": {
    "slideshow": {
     "slide_type": "fragment"
    }
   },
   "outputs": [
    {
     "data": {
      "text/plain": [
       "4×4 Array{Float64,2}:\n",
       "  2.0   1.0  -1.0  -1.0\n",
       "  1.0   2.0  -1.0  -1.0\n",
       " -1.0  -1.0   2.0  -0.0\n",
       " -1.0  -1.0   0.0   2.0"
      ]
     },
     "execution_count": 11,
     "metadata": {},
     "output_type": "execute_result"
    }
   ],
   "source": [
    "inv(A[1:4,1:4])"
   ]
  },
  {
   "cell_type": "code",
   "execution_count": 12,
   "metadata": {
    "slideshow": {
     "slide_type": "subslide"
    }
   },
   "outputs": [
    {
     "data": {
      "text/plain": [
       "5×5 Array{Float64,2}:\n",
       "  0.0   0.0   0.0    0.0   -0.0\n",
       "  0.0   0.0   0.0    0.0   -0.0\n",
       "  0.0   0.0   0.25   0.25  -0.5\n",
       "  0.0   0.0   0.25   0.25  -0.5\n",
       " -0.0  -0.0  -0.5   -0.5    1.0"
      ]
     },
     "execution_count": 12,
     "metadata": {},
     "output_type": "execute_result"
    }
   ],
   "source": [
    "q    = [0, 0, 0.5, 0.5]\n",
    "[-q; 1]*[-q' 1]\n"
   ]
  },
  {
   "cell_type": "code",
   "execution_count": 15,
   "metadata": {
    "scrolled": true,
    "slideshow": {
     "slide_type": "fragment"
    }
   },
   "outputs": [
    {
     "data": {
      "text/plain": [
       "5×5 Array{Float64,2}:\n",
       "  2.0   1.0  -1.0  -1.0   0.0\n",
       "  1.0   2.0  -1.0  -1.0   0.0\n",
       " -1.0  -1.0   2.5   0.5  -1.0\n",
       " -1.0  -1.0   0.5   2.5  -1.0\n",
       "  0.0   0.0  -1.0  -1.0   2.0"
      ]
     },
     "execution_count": 15,
     "metadata": {},
     "output_type": "execute_result"
    }
   ],
   "source": [
    "a55i = 1/(A[5,5] - q'A4*q)\n",
    "A5i  = [A4i zero(q)\n",
    "        zero(q')   0] + [-q; 1]*[-q' 1].*a55i"
   ]
  },
  {
   "cell_type": "code",
   "execution_count": 14,
   "metadata": {
    "slideshow": {
     "slide_type": "fragment"
    }
   },
   "outputs": [
    {
     "data": {
      "text/plain": [
       "5×5 Array{Float64,2}:\n",
       "  2.0   1.0  -1.0  -1.0  -0.0\n",
       "  1.0   2.0  -1.0  -1.0  -0.0\n",
       " -1.0  -1.0   2.5   0.5  -1.0\n",
       " -1.0  -1.0   0.5   2.5  -1.0\n",
       "  0.0   0.0  -1.0  -1.0   2.0"
      ]
     },
     "execution_count": 14,
     "metadata": {},
     "output_type": "execute_result"
    }
   ],
   "source": [
    "inv(A)"
   ]
  },
  {
   "cell_type": "code",
   "execution_count": 32,
   "metadata": {},
   "outputs": [
    {
     "data": {
      "text/plain": [
       "3×3 Array{Int64,2}:\n",
       " 2  0  0\n",
       " 0  2  0\n",
       " 0  0  4"
      ]
     },
     "execution_count": 32,
     "metadata": {},
     "output_type": "execute_result"
    }
   ],
   "source": [
    "A = [2 0 0\n",
    "     0 2 0\n",
    "     0 0 4]"
   ]
  },
  {
   "cell_type": "code",
   "execution_count": 17,
   "metadata": {
    "slideshow": {
     "slide_type": "skip"
    }
   },
   "outputs": [
    {
     "name": "stderr",
     "output_type": "stream",
     "text": [
      "[NbConvertApp] Converting notebook AInverse.ipynb to slides\n",
      "[NbConvertApp] Writing 293812 bytes to AInverse.slides.html\n"
     ]
    }
   ],
   "source": [
    "; jupyter nbconvert --to slides AInverse.ipynb"
   ]
  },
  {
   "cell_type": "code",
   "execution_count": 73,
   "metadata": {},
   "outputs": [
    {
     "data": {
      "text/plain": [
       "3×3 Array{Int64,2}:\n",
       " 2  0  0\n",
       " 0  3  0\n",
       " 0  0  4"
      ]
     },
     "execution_count": 73,
     "metadata": {},
     "output_type": "execute_result"
    }
   ],
   "source": [
    "A = [2 0 0\n",
    "     0 3 0\n",
    "     0 0 4]"
   ]
  },
  {
   "cell_type": "code",
   "execution_count": 60,
   "metadata": {},
   "outputs": [
    {
     "data": {
      "text/plain": [
       "invAiter (generic function with 1 method)"
      ]
     },
     "execution_count": 60,
     "metadata": {},
     "output_type": "execute_result"
    }
   ],
   "source": [
    "function invAiter(A)\n",
    "    n = size(A,1)\n",
    "    Ai = 1.0/A[1,1]\n",
    "    for i=2:n\n",
    "        A11i = Ai   \n",
    "        s1 = 1:i-1\n",
    "        s2 = i \n",
    "        A11 = A[s1,s1]   \n",
    "        A12 = A[s1,s2]\n",
    "        A22 = A[s2,s2]\n",
    "        L = A11i*A12\n",
    "        R = A22 - L'A11*L\n",
    "        Ri = 1/R[1,1]\n",
    "        Ai = [A11i  .+ (Ri.* L*L')  -Ri.*L\n",
    "              -Ri.*L'                Ri.*1]\n",
    "    end\n",
    "    return Ai\n",
    "end                    "
   ]
  },
  {
   "cell_type": "code",
   "execution_count": 76,
   "metadata": {},
   "outputs": [
    {
     "data": {
      "text/plain": [
       "invAME (generic function with 1 method)"
      ]
     },
     "execution_count": 76,
     "metadata": {},
     "output_type": "execute_result"
    }
   ],
   "source": [
    "function invAME(A)\n",
    "    n = size(A,1)\n",
    "    Ai = zeros(n,n)\n",
    "    Ai[1,1] = 1.0/A[1,1]\n",
    "    for i=2:n   \n",
    "        s1 = 1:i-1\n",
    "        s2 = i \n",
    "        A12 = A[s1,s2]\n",
    "        A22 = A[s2,s2]\n",
    "        L = Ai[s1,s1]*A12\n",
    "        R = A22 - A12'Ai[s1,s1]*A12\n",
    "        Ri = 1/R[1,1]\n",
    "        Ai[s1,s1] += (Ri.* L*L')\n",
    "        Ai[s1,s2] = -Ri.*L\n",
    "        Ai[s2,s1] = -Ri.*L' \n",
    "        Ai[s2,s2] =  Ri.*1\n",
    "    end\n",
    "    return Ai\n",
    "end                    "
   ]
  },
  {
   "cell_type": "code",
   "execution_count": 86,
   "metadata": {},
   "outputs": [
    {
     "name": "stdout",
     "output_type": "stream",
     "text": [
      "  0.000277 seconds (216 allocations: 9.531 KiB)\n"
     ]
    },
    {
     "data": {
      "text/plain": [
       "3×3 Array{Float64,2}:\n",
       "  3.5   -8.0    4.0\n",
       " -8.0   26.5  -15.5\n",
       "  4.0  -15.5    9.5"
      ]
     },
     "execution_count": 86,
     "metadata": {},
     "output_type": "execute_result"
    }
   ],
   "source": [
    "@time invA(A)"
   ]
  },
  {
   "cell_type": "code",
   "execution_count": 90,
   "metadata": {},
   "outputs": [
    {
     "name": "stdout",
     "output_type": "stream",
     "text": [
      "  0.001103 seconds (216 allocations: 9.531 KiB)\n"
     ]
    },
    {
     "data": {
      "text/plain": [
       "3×3 Array{Float64,2}:\n",
       "  3.5   -8.0    4.0\n",
       " -8.0   26.5  -15.5\n",
       "  4.0  -15.5    9.5"
      ]
     },
     "execution_count": 90,
     "metadata": {},
     "output_type": "execute_result"
    }
   ],
   "source": [
    "@time invAiter(A)"
   ]
  },
  {
   "cell_type": "code",
   "execution_count": 88,
   "metadata": {},
   "outputs": [
    {
     "name": "stdout",
     "output_type": "stream",
     "text": [
      "  0.000038 seconds (35 allocations: 3.047 KiB)\n"
     ]
    },
    {
     "data": {
      "text/plain": [
       "3×3 Array{Float64,2}:\n",
       "  3.5   -8.0    4.0\n",
       " -8.0   26.5  -15.5\n",
       "  4.0  -15.5    9.5"
      ]
     },
     "execution_count": 88,
     "metadata": {},
     "output_type": "execute_result"
    }
   ],
   "source": [
    "@time invAME(A)"
   ]
  },
  {
   "cell_type": "code",
   "execution_count": 91,
   "metadata": {},
   "outputs": [
    {
     "name": "stdout",
     "output_type": "stream",
     "text": [
      "  0.000034 seconds (10 allocations: 2.297 KiB)\n"
     ]
    },
    {
     "data": {
      "text/plain": [
       "3×3 Array{Float64,2}:\n",
       "  3.5   -8.0    4.0\n",
       " -8.0   26.5  -15.5\n",
       "  4.0  -15.5    9.5"
      ]
     },
     "execution_count": 91,
     "metadata": {},
     "output_type": "execute_result"
    }
   ],
   "source": [
    "@time inv(A)"
   ]
  }
 ],
 "metadata": {
  "celltoolbar": "Slideshow",
  "kernelspec": {
   "display_name": "Julia 1.0.0",
   "language": "julia",
   "name": "julia-1.0"
  },
  "language_info": {
   "file_extension": ".jl",
   "mimetype": "application/julia",
   "name": "julia",
   "version": "1.0.0"
  }
 },
 "nbformat": 4,
 "nbformat_minor": 2
}
